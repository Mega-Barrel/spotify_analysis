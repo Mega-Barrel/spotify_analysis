{
 "cells": [
  {
   "cell_type": "code",
   "execution_count": 1,
   "metadata": {},
   "outputs": [],
   "source": [
    "from spotipy.oauth2 import SpotifyClientCredentials\n",
    "import spotipy.util as util\n",
    "import pandas as pd\n",
    "import spotipy\n",
    "import requests\n",
    "import json\n",
    "import csv"
   ]
  },
  {
   "cell_type": "markdown",
   "metadata": {},
   "source": [
    "### Spotify Credentials"
   ]
  },
  {
   "cell_type": "code",
   "execution_count": 2,
   "metadata": {},
   "outputs": [],
   "source": [
    "user_id = ''\n",
    "client_id = ''\n",
    "client_secret = ''"
   ]
  },
  {
   "cell_type": "code",
   "execution_count": 3,
   "metadata": {},
   "outputs": [],
   "source": [
    "# Spotify API Authorization\n",
    "spotify_object = spotipy.Spotify(client_credentials_manager=SpotifyClientCredentials(client_id=client_id, client_secret=client_secret)) "
   ]
  },
  {
   "cell_type": "code",
   "execution_count": 5,
   "metadata": {},
   "outputs": [],
   "source": [
    "'''\n",
    "@ Spotify song details function\n",
    "'''\n",
    "def spotify_api(artist_name, search_query):\n",
    "    \n",
    "    # spotify api\n",
    "    searchResults = spotify_object.search(q=\"artist:\" + artist_name + \" track:\" + search_query, type=\"track\")\n",
    "    # results\n",
    "    song_id = searchResults['tracks']['items'][0]['id']  #song id\n",
    "    uri_id = searchResults['tracks']['items'][0]['uri']  #uri_id\n",
    "    release_date = searchResults['tracks']['items'][0]['album']['release_date']  #release_date\n",
    "    type = searchResults['tracks']['items'][0]['type']  #type\n",
    "    explicit_content = searchResults['tracks']['items'][0]['explicit']  #explicit content\n",
    "    popularity = searchResults['tracks']['items'][0]['popularity']  #popularity\n",
    "    \n",
    "    return [song_id, uri_id, release_date, type, explicit_content, popularity]    "
   ]
  },
  {
   "cell_type": "code",
   "execution_count": 7,
   "metadata": {},
   "outputs": [],
   "source": [
    "'''\n",
    "@ Spotify track audio analysis function\n",
    "'''\n",
    "def spotify_track_audio_attributes(id):\n",
    "    song_attributes = spotify_object.audio_features(id)\n",
    "    danceability = song_attributes[0]['danceability']\n",
    "    energy = song_attributes[0]['energy']\n",
    "    loudness = song_attributes[0]['loudness']\n",
    "    speechiness = song_attributes[0]['speechiness']\n",
    "    acousticness = song_attributes[0]['acousticness']\n",
    "    instrumentalness = song_attributes[0]['instrumentalness']\n",
    "    liveness = song_attributes[0]['liveness']\n",
    "    valence = song_attributes[0]['valence']\n",
    "    tempo = song_attributes[0]['tempo']\n",
    "    \n",
    "    return [danceability, energy, loudness, speechiness, acousticness, instrumentalness, liveness, valence, tempo]\n",
    "    "
   ]
  },
  {
   "cell_type": "markdown",
   "metadata": {},
   "source": [
    "### library and playlist combine data"
   ]
  },
  {
   "cell_type": "code",
   "execution_count": 8,
   "metadata": {},
   "outputs": [],
   "source": [
    "'''\n",
    "@ JSON parsing function\n",
    "'''\n",
    "def json_extract(data, songs_data):\n",
    "    for i in data:\n",
    "        f = open(i, encoding='utf8', errors='ignore')\n",
    "        # change the JSON string into a JSON object\n",
    "        jsonObject = json.load(f)\n",
    "        \n",
    "        # create a tuple of artist, album, track, uri\n",
    "        if 'tracks' in jsonObject:\n",
    "            for key in jsonObject['tracks']:\n",
    "                artist = key['artist']      # artist name\n",
    "                album = key['album']        # album name\n",
    "                track_name = key['track']   # track name\n",
    "                \n",
    "                # call to api_data function\n",
    "                api_data = spotify_api(artist, track_name)  # function\n",
    "                song_id = api_data[0]       # song_id\n",
    "                uri_id = api_data[1]        # uri_id\n",
    "                release_date = api_data[2]  # release_date\n",
    "                type = api_data[3]          # type\n",
    "                explicit = api_data[4]      # explicit\n",
    "                popularity = api_data[5]    # popularity\n",
    "                \n",
    "                # call to track_analysis_attributes function\n",
    "                track_attribute = spotify_track_audio_attributes(song_id)\n",
    "                danceability = track_attribute[0]\n",
    "                energy = track_attribute[1]\n",
    "                loudness = track_attribute[2]\n",
    "                speechiness = track_attribute[3]\n",
    "                acousticness = track_attribute[4]\n",
    "                instrumentalness = track_attribute[5]\n",
    "                liveness = track_attribute[6]\n",
    "                valence = track_attribute[7]\n",
    "                tempo = track_attribute[8]\n",
    "                \n",
    "                # adding all the valus in a tuple\n",
    "                songs_data.append((song_id, track_name, album, uri_id, release_date, explicit, type, popularity, danceability, energy, loudness, speechiness, acousticness, instrumentalness, liveness, valence, tempo))\n",
    "                    \n",
    "        elif 'playlists' in jsonObject:\n",
    "            for key in jsonObject['playlists']:\n",
    "                for i in key['items']:\n",
    "                    artist = i['track']['artistName']\n",
    "                    album = i['track']['albumName']\n",
    "                    track_name = i['track']['trackName']\n",
    "                    \n",
    "                    # call to api_data function\n",
    "                    api_data = spotify_api(artist, track_name)  # function\n",
    "                    song_id = api_data[0]       # song_id\n",
    "                    uri_id = api_data[1]        # uri_id\n",
    "                    release_date = api_data[2]  # release_date\n",
    "                    type = api_data[3]          # type\n",
    "                    explicit = api_data[4]      # explicit\n",
    "                    popularity = api_data[5]    # popularity\n",
    "\n",
    "                    # call to track_analysis_attributes function\n",
    "                    track_attribute = spotify_track_audio_attributes(song_id)\n",
    "                    danceability = track_attribute[0]       # danceability\n",
    "                    energy = track_attribute[1]             # energy\n",
    "                    loudness = track_attribute[2]           # loudness\n",
    "                    speechiness = track_attribute[3]        # speechiness\n",
    "                    acousticness = track_attribute[4]       # acousticness\n",
    "                    instrumentalness = track_attribute[5]   # instrumentalness\n",
    "                    liveness = track_attribute[6]           # liveness\n",
    "                    valence = track_attribute[7]            # valence\n",
    "                    tempo = track_attribute[8]              # tempo\n",
    "                    \n",
    "                    songs_data.append((song_id, track_name, album, uri_id, release_date, explicit, type, popularity, danceability, energy, loudness, speechiness, acousticness, instrumentalness, liveness, valence, tempo))\n",
    "    return songs_data"
   ]
  },
  {
   "cell_type": "code",
   "execution_count": 9,
   "metadata": {},
   "outputs": [
    {
     "ename": "IndexError",
     "evalue": "list index out of range",
     "output_type": "error",
     "traceback": [
      "\u001b[1;31m---------------------------------------------------------------------------\u001b[0m",
      "\u001b[1;31mIndexError\u001b[0m                                Traceback (most recent call last)",
      "\u001b[1;32m~\\AppData\\Local\\Temp/ipykernel_21280/174536210.py\u001b[0m in \u001b[0;36m<module>\u001b[1;34m\u001b[0m\n\u001b[0;32m      1\u001b[0m \u001b[1;32mif\u001b[0m \u001b[0m__name__\u001b[0m \u001b[1;33m==\u001b[0m \u001b[1;34m'__main__'\u001b[0m\u001b[1;33m:\u001b[0m\u001b[1;33m\u001b[0m\u001b[1;33m\u001b[0m\u001b[0m\n\u001b[0;32m      2\u001b[0m     \u001b[0mdata_df\u001b[0m \u001b[1;33m=\u001b[0m \u001b[1;33m[\u001b[0m\u001b[1;33m]\u001b[0m\u001b[1;33m\u001b[0m\u001b[1;33m\u001b[0m\u001b[0m\n\u001b[1;32m----> 3\u001b[1;33m     \u001b[0mx\u001b[0m \u001b[1;33m=\u001b[0m \u001b[0mjson_extract\u001b[0m\u001b[1;33m(\u001b[0m\u001b[1;33m[\u001b[0m\u001b[1;34m'./dataset/YourLibrary.json'\u001b[0m\u001b[1;33m,\u001b[0m \u001b[1;34m'./dataset/Playlist1.json'\u001b[0m\u001b[1;33m]\u001b[0m\u001b[1;33m,\u001b[0m \u001b[0mdata_df\u001b[0m\u001b[1;33m)\u001b[0m\u001b[1;33m\u001b[0m\u001b[1;33m\u001b[0m\u001b[0m\n\u001b[0m\u001b[0;32m      4\u001b[0m     \u001b[1;32mwith\u001b[0m \u001b[0mopen\u001b[0m\u001b[1;33m(\u001b[0m\u001b[1;34m'./dataset/songs_data.csv'\u001b[0m\u001b[1;33m,\u001b[0m \u001b[1;34m'w'\u001b[0m\u001b[1;33m,\u001b[0m \u001b[0mnewline\u001b[0m\u001b[1;33m=\u001b[0m\u001b[1;34m''\u001b[0m\u001b[1;33m,\u001b[0m \u001b[0mencoding\u001b[0m\u001b[1;33m=\u001b[0m\u001b[1;34m'utf-8'\u001b[0m\u001b[1;33m)\u001b[0m \u001b[1;32mas\u001b[0m \u001b[0mf\u001b[0m\u001b[1;33m:\u001b[0m\u001b[1;33m\u001b[0m\u001b[1;33m\u001b[0m\u001b[0m\n\u001b[0;32m      5\u001b[0m         \u001b[0mheader\u001b[0m \u001b[1;33m=\u001b[0m \u001b[1;33m[\u001b[0m\u001b[1;34m'artist_name'\u001b[0m\u001b[1;33m,\u001b[0m \u001b[1;34m'album_name'\u001b[0m\u001b[1;33m,\u001b[0m \u001b[1;34m'track_name'\u001b[0m\u001b[1;33m,\u001b[0m \u001b[1;34m'song_uri'\u001b[0m\u001b[1;33m]\u001b[0m\u001b[1;33m\u001b[0m\u001b[1;33m\u001b[0m\u001b[0m\n",
      "\u001b[1;32m~\\AppData\\Local\\Temp/ipykernel_21280/3291646372.py\u001b[0m in \u001b[0;36mjson_extract\u001b[1;34m(data, songs_data)\u001b[0m\n\u001b[0;32m     16\u001b[0m \u001b[1;33m\u001b[0m\u001b[0m\n\u001b[0;32m     17\u001b[0m                 \u001b[1;31m# call to api_data function\u001b[0m\u001b[1;33m\u001b[0m\u001b[1;33m\u001b[0m\u001b[1;33m\u001b[0m\u001b[0m\n\u001b[1;32m---> 18\u001b[1;33m                 \u001b[0mapi_data\u001b[0m \u001b[1;33m=\u001b[0m \u001b[0mspotify_api\u001b[0m\u001b[1;33m(\u001b[0m\u001b[0martist\u001b[0m\u001b[1;33m,\u001b[0m \u001b[0mtrack_name\u001b[0m\u001b[1;33m)\u001b[0m  \u001b[1;31m# function\u001b[0m\u001b[1;33m\u001b[0m\u001b[1;33m\u001b[0m\u001b[0m\n\u001b[0m\u001b[0;32m     19\u001b[0m                 \u001b[0msong_id\u001b[0m \u001b[1;33m=\u001b[0m \u001b[0mapi_data\u001b[0m\u001b[1;33m[\u001b[0m\u001b[1;36m0\u001b[0m\u001b[1;33m]\u001b[0m       \u001b[1;31m# song_id\u001b[0m\u001b[1;33m\u001b[0m\u001b[1;33m\u001b[0m\u001b[0m\n\u001b[0;32m     20\u001b[0m                 \u001b[0muri_id\u001b[0m \u001b[1;33m=\u001b[0m \u001b[0mapi_data\u001b[0m\u001b[1;33m[\u001b[0m\u001b[1;36m1\u001b[0m\u001b[1;33m]\u001b[0m        \u001b[1;31m# uri_id\u001b[0m\u001b[1;33m\u001b[0m\u001b[1;33m\u001b[0m\u001b[0m\n",
      "\u001b[1;32m~\\AppData\\Local\\Temp/ipykernel_21280/246429056.py\u001b[0m in \u001b[0;36mspotify_api\u001b[1;34m(artist_name, search_query)\u001b[0m\n\u001b[0;32m      7\u001b[0m     \u001b[0msearchResults\u001b[0m \u001b[1;33m=\u001b[0m \u001b[0mspotify_object\u001b[0m\u001b[1;33m.\u001b[0m\u001b[0msearch\u001b[0m\u001b[1;33m(\u001b[0m\u001b[0mq\u001b[0m\u001b[1;33m=\u001b[0m\u001b[1;34m\"artist:\"\u001b[0m \u001b[1;33m+\u001b[0m \u001b[0martist_name\u001b[0m \u001b[1;33m+\u001b[0m \u001b[1;34m\" track:\"\u001b[0m \u001b[1;33m+\u001b[0m \u001b[0msearch_query\u001b[0m\u001b[1;33m,\u001b[0m \u001b[0mtype\u001b[0m\u001b[1;33m=\u001b[0m\u001b[1;34m\"track\"\u001b[0m\u001b[1;33m)\u001b[0m\u001b[1;33m\u001b[0m\u001b[1;33m\u001b[0m\u001b[0m\n\u001b[0;32m      8\u001b[0m     \u001b[1;31m# results\u001b[0m\u001b[1;33m\u001b[0m\u001b[1;33m\u001b[0m\u001b[1;33m\u001b[0m\u001b[0m\n\u001b[1;32m----> 9\u001b[1;33m     \u001b[0msong_id\u001b[0m \u001b[1;33m=\u001b[0m \u001b[0msearchResults\u001b[0m\u001b[1;33m[\u001b[0m\u001b[1;34m'tracks'\u001b[0m\u001b[1;33m]\u001b[0m\u001b[1;33m[\u001b[0m\u001b[1;34m'items'\u001b[0m\u001b[1;33m]\u001b[0m\u001b[1;33m[\u001b[0m\u001b[1;36m0\u001b[0m\u001b[1;33m]\u001b[0m\u001b[1;33m[\u001b[0m\u001b[1;34m'id'\u001b[0m\u001b[1;33m]\u001b[0m  \u001b[1;31m#song id\u001b[0m\u001b[1;33m\u001b[0m\u001b[1;33m\u001b[0m\u001b[0m\n\u001b[0m\u001b[0;32m     10\u001b[0m     \u001b[0muri_id\u001b[0m \u001b[1;33m=\u001b[0m \u001b[0msearchResults\u001b[0m\u001b[1;33m[\u001b[0m\u001b[1;34m'tracks'\u001b[0m\u001b[1;33m]\u001b[0m\u001b[1;33m[\u001b[0m\u001b[1;34m'items'\u001b[0m\u001b[1;33m]\u001b[0m\u001b[1;33m[\u001b[0m\u001b[1;36m0\u001b[0m\u001b[1;33m]\u001b[0m\u001b[1;33m[\u001b[0m\u001b[1;34m'uri'\u001b[0m\u001b[1;33m]\u001b[0m  \u001b[1;31m#uri_id\u001b[0m\u001b[1;33m\u001b[0m\u001b[1;33m\u001b[0m\u001b[0m\n\u001b[0;32m     11\u001b[0m     \u001b[0mrelease_date\u001b[0m \u001b[1;33m=\u001b[0m \u001b[0msearchResults\u001b[0m\u001b[1;33m[\u001b[0m\u001b[1;34m'tracks'\u001b[0m\u001b[1;33m]\u001b[0m\u001b[1;33m[\u001b[0m\u001b[1;34m'items'\u001b[0m\u001b[1;33m]\u001b[0m\u001b[1;33m[\u001b[0m\u001b[1;36m0\u001b[0m\u001b[1;33m]\u001b[0m\u001b[1;33m[\u001b[0m\u001b[1;34m'album'\u001b[0m\u001b[1;33m]\u001b[0m\u001b[1;33m[\u001b[0m\u001b[1;34m'release_date'\u001b[0m\u001b[1;33m]\u001b[0m  \u001b[1;31m#release_date\u001b[0m\u001b[1;33m\u001b[0m\u001b[1;33m\u001b[0m\u001b[0m\n",
      "\u001b[1;31mIndexError\u001b[0m: list index out of range"
     ]
    }
   ],
   "source": [
    "if __name__ == '__main__':\n",
    "    data_df = []\n",
    "    x = json_extract(['./dataset/YourLibrary.json', './dataset/Playlist1.json'], data_df)\n",
    "    with open('./dataset/songs_data.csv', 'w', newline='', encoding='utf-8') as f:\n",
    "        header = ['artist_name', 'album_name', 'track_name', 'song_uri']\n",
    "        writer = csv.writer(f)\n",
    "        writer.writerow(header)\n",
    "        writer.writerows(data_df)"
   ]
  },
  {
   "cell_type": "markdown",
   "metadata": {},
   "source": [
    "### Stream history"
   ]
  },
  {
   "cell_type": "code",
   "execution_count": null,
   "metadata": {},
   "outputs": [],
   "source": [
    "stream_history = pd.read_json('./dataset/StreamingHistory0.json')\n",
    "stream_history.to_csv('./dataset/stream_history.csv', index=False)"
   ]
  }
 ],
 "metadata": {
  "interpreter": {
   "hash": "7280db5d318d4ff8b5ffeb67a67e86bd7caf65749b20058abd0ba185de8428cc"
  },
  "kernelspec": {
   "display_name": "Python 3.8.6 64-bit ('.env': venv)",
   "language": "python",
   "name": "python3"
  },
  "language_info": {
   "codemirror_mode": {
    "name": "ipython",
    "version": 3
   },
   "file_extension": ".py",
   "mimetype": "text/x-python",
   "name": "python",
   "nbconvert_exporter": "python",
   "pygments_lexer": "ipython3",
   "version": "3.8.6"
  },
  "orig_nbformat": 4
 },
 "nbformat": 4,
 "nbformat_minor": 2
}
