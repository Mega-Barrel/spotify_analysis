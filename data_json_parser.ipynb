{
 "cells": [
  {
   "cell_type": "code",
   "execution_count": 1,
   "metadata": {},
   "outputs": [],
   "source": [
    "import pandas as pd\n",
    "import json\n",
    "import csv"
   ]
  },
  {
   "cell_type": "markdown",
   "metadata": {},
   "source": [
    "### library and playlist combine data"
   ]
  },
  {
   "cell_type": "code",
   "execution_count": 26,
   "metadata": {},
   "outputs": [],
   "source": [
    "def json_extract(data, songs_data):\n",
    "    for i in data:\n",
    "        f = open(i, encoding='utf8', errors='ignore')\n",
    "        # change the JSON string into a JSON object\n",
    "        jsonObject = json.load(f)\n",
    "        \n",
    "        # create a tuple of artist, album, track, uri\n",
    "        if 'tracks' in jsonObject:\n",
    "            for key in jsonObject['tracks']:\n",
    "                songs_data.append((key['artist'], key['album'], key['track'], key['uri']))\n",
    "                    \n",
    "        elif 'playlists' in jsonObject:\n",
    "            for key in jsonObject['playlists']:\n",
    "                for i in key['items']:\n",
    "                    songs_data.append((i['track']['artistName'], i['track']['albumName'], i['track']['trackName'], i['track']['trackUri']))\n",
    "    return songs_data"
   ]
  },
  {
   "cell_type": "code",
   "execution_count": 27,
   "metadata": {},
   "outputs": [],
   "source": [
    "if __name__ == '__main__':\n",
    "    data_df = []\n",
    "    x = json_extract(['./dataset/YourLibrary.json', './dataset/Playlist1.json'], data_df)\n",
    "    with open('./dataset/songs_data.csv', 'w', newline='', encoding='utf-8') as f:\n",
    "        header = ['artist_name', 'album_name', 'track_name', 'song_uri']\n",
    "        writer = csv.writer(f)\n",
    "        writer.writerow(header)\n",
    "        writer.writerows(data_df)"
   ]
  },
  {
   "cell_type": "markdown",
   "metadata": {},
   "source": [
    "### Stream history"
   ]
  },
  {
   "cell_type": "code",
   "execution_count": 13,
   "metadata": {},
   "outputs": [],
   "source": [
    "stream_history = pd.read_json('./dataset/StreamingHistory0.json')\n",
    "stream_history.to_csv('./dataset/stream_history.csv', index=False)"
   ]
  },
  {
   "cell_type": "code",
   "execution_count": null,
   "metadata": {},
   "outputs": [],
   "source": []
  }
 ],
 "metadata": {
  "interpreter": {
   "hash": "7280db5d318d4ff8b5ffeb67a67e86bd7caf65749b20058abd0ba185de8428cc"
  },
  "kernelspec": {
   "display_name": "Python 3.8.6 64-bit ('.env': venv)",
   "language": "python",
   "name": "python3"
  },
  "language_info": {
   "codemirror_mode": {
    "name": "ipython",
    "version": 3
   },
   "file_extension": ".py",
   "mimetype": "text/x-python",
   "name": "python",
   "nbconvert_exporter": "python",
   "pygments_lexer": "ipython3",
   "version": "3.8.6"
  },
  "orig_nbformat": 4
 },
 "nbformat": 4,
 "nbformat_minor": 2
}
