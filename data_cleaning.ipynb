{
 "cells": [
  {
   "cell_type": "code",
   "execution_count": 4,
   "metadata": {},
   "outputs": [],
   "source": [
    "import pandas as pd"
   ]
  },
  {
   "cell_type": "code",
   "execution_count": 7,
   "metadata": {},
   "outputs": [],
   "source": [
    "df = pd.read_json('./dataset/StreamingHistory0.json')"
   ]
  },
  {
   "cell_type": "code",
   "execution_count": 9,
   "metadata": {},
   "outputs": [
    {
     "data": {
      "text/html": [
       "<div>\n",
       "<style scoped>\n",
       "    .dataframe tbody tr th:only-of-type {\n",
       "        vertical-align: middle;\n",
       "    }\n",
       "\n",
       "    .dataframe tbody tr th {\n",
       "        vertical-align: top;\n",
       "    }\n",
       "\n",
       "    .dataframe thead th {\n",
       "        text-align: right;\n",
       "    }\n",
       "</style>\n",
       "<table border=\"1\" class=\"dataframe\">\n",
       "  <thead>\n",
       "    <tr style=\"text-align: right;\">\n",
       "      <th></th>\n",
       "      <th>endTime</th>\n",
       "      <th>artistName</th>\n",
       "      <th>trackName</th>\n",
       "      <th>msPlayed</th>\n",
       "    </tr>\n",
       "  </thead>\n",
       "  <tbody>\n",
       "    <tr>\n",
       "      <th>0</th>\n",
       "      <td>2020-11-17 12:42</td>\n",
       "      <td>Madison Beer</td>\n",
       "      <td>Selfish</td>\n",
       "      <td>132290</td>\n",
       "    </tr>\n",
       "    <tr>\n",
       "      <th>1</th>\n",
       "      <td>2020-11-17 17:02</td>\n",
       "      <td>Super Data Science</td>\n",
       "      <td>SDS 005 : Computer Forensics, Fraud Analytics ...</td>\n",
       "      <td>1544006</td>\n",
       "    </tr>\n",
       "    <tr>\n",
       "      <th>2</th>\n",
       "      <td>2020-11-18 05:27</td>\n",
       "      <td>Madison Beer</td>\n",
       "      <td>Selfish</td>\n",
       "      <td>68420</td>\n",
       "    </tr>\n",
       "    <tr>\n",
       "      <th>3</th>\n",
       "      <td>2020-11-18 05:28</td>\n",
       "      <td>Demi Lovato</td>\n",
       "      <td>Still Have Me</td>\n",
       "      <td>11750</td>\n",
       "    </tr>\n",
       "    <tr>\n",
       "      <th>4</th>\n",
       "      <td>2020-11-18 05:31</td>\n",
       "      <td>Dua Lipa</td>\n",
       "      <td>IDGAF</td>\n",
       "      <td>217946</td>\n",
       "    </tr>\n",
       "    <tr>\n",
       "      <th>5</th>\n",
       "      <td>2020-11-18 05:35</td>\n",
       "      <td>Jonas Blue</td>\n",
       "      <td>What I Like About You (feat. Theresa Rex)</td>\n",
       "      <td>220396</td>\n",
       "    </tr>\n",
       "    <tr>\n",
       "      <th>6</th>\n",
       "      <td>2020-11-18 05:39</td>\n",
       "      <td>Ariana Grande</td>\n",
       "      <td>break up with your girlfriend, i'm bored</td>\n",
       "      <td>190440</td>\n",
       "    </tr>\n",
       "    <tr>\n",
       "      <th>7</th>\n",
       "      <td>2020-11-18 05:43</td>\n",
       "      <td>Little Mix</td>\n",
       "      <td>Shout Out to My Ex</td>\n",
       "      <td>246240</td>\n",
       "    </tr>\n",
       "    <tr>\n",
       "      <th>8</th>\n",
       "      <td>2020-11-18 05:47</td>\n",
       "      <td>Miley Cyrus</td>\n",
       "      <td>Heart Of Glass (Live from the iHeart Festival)</td>\n",
       "      <td>193325</td>\n",
       "    </tr>\n",
       "    <tr>\n",
       "      <th>9</th>\n",
       "      <td>2020-11-18 05:48</td>\n",
       "      <td>Dua Lipa</td>\n",
       "      <td>Cool</td>\n",
       "      <td>105520</td>\n",
       "    </tr>\n",
       "  </tbody>\n",
       "</table>\n",
       "</div>"
      ],
      "text/plain": [
       "            endTime          artistName  \\\n",
       "0  2020-11-17 12:42        Madison Beer   \n",
       "1  2020-11-17 17:02  Super Data Science   \n",
       "2  2020-11-18 05:27        Madison Beer   \n",
       "3  2020-11-18 05:28         Demi Lovato   \n",
       "4  2020-11-18 05:31            Dua Lipa   \n",
       "5  2020-11-18 05:35          Jonas Blue   \n",
       "6  2020-11-18 05:39       Ariana Grande   \n",
       "7  2020-11-18 05:43          Little Mix   \n",
       "8  2020-11-18 05:47         Miley Cyrus   \n",
       "9  2020-11-18 05:48            Dua Lipa   \n",
       "\n",
       "                                           trackName  msPlayed  \n",
       "0                                            Selfish    132290  \n",
       "1  SDS 005 : Computer Forensics, Fraud Analytics ...   1544006  \n",
       "2                                            Selfish     68420  \n",
       "3                                      Still Have Me     11750  \n",
       "4                                              IDGAF    217946  \n",
       "5          What I Like About You (feat. Theresa Rex)    220396  \n",
       "6           break up with your girlfriend, i'm bored    190440  \n",
       "7                                 Shout Out to My Ex    246240  \n",
       "8     Heart Of Glass (Live from the iHeart Festival)    193325  \n",
       "9                                               Cool    105520  "
      ]
     },
     "execution_count": 9,
     "metadata": {},
     "output_type": "execute_result"
    }
   ],
   "source": [
    "df.head(10)"
   ]
  }
 ],
 "metadata": {
  "interpreter": {
   "hash": "7280db5d318d4ff8b5ffeb67a67e86bd7caf65749b20058abd0ba185de8428cc"
  },
  "kernelspec": {
   "display_name": "Python 3.8.6 64-bit ('.env': venv)",
   "language": "python",
   "name": "python3"
  },
  "language_info": {
   "codemirror_mode": {
    "name": "ipython",
    "version": 3
   },
   "file_extension": ".py",
   "mimetype": "text/x-python",
   "name": "python",
   "nbconvert_exporter": "python",
   "pygments_lexer": "ipython3",
   "version": "3.8.6"
  },
  "orig_nbformat": 4
 },
 "nbformat": 4,
 "nbformat_minor": 2
}
