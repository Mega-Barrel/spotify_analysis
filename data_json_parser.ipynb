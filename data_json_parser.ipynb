{
 "cells": [
  {
   "cell_type": "code",
   "execution_count": null,
   "metadata": {},
   "outputs": [],
   "source": [
    "from spotipy.oauth2 import SpotifyClientCredentials\n",
    "import spotipy\n",
    "import json\n",
    "import csv"
   ]
  },
  {
   "cell_type": "markdown",
   "metadata": {},
   "source": [
    "### Spotify Credentials"
   ]
  },
  {
   "cell_type": "code",
   "execution_count": null,
   "metadata": {},
   "outputs": [],
   "source": [
    "client_id = ''\n",
    "client_secret = ''"
   ]
  },
  {
   "cell_type": "code",
   "execution_count": null,
   "metadata": {},
   "outputs": [],
   "source": [
    "# Spotify API Authorization\n",
    "spotify_object = spotipy.Spotify(client_credentials_manager=SpotifyClientCredentials(client_id=client_id, client_secret=client_secret)) "
   ]
  },
  {
   "cell_type": "code",
   "execution_count": null,
   "metadata": {},
   "outputs": [],
   "source": [
    "'''\n",
    "@ Spotify song details function\n",
    "'''\n",
    "def spotify_api(artist_name, search_query):\n",
    "    # spotify api\n",
    "    searchResults = spotify_object.search(q=\"artist:\" + artist_name + \" track:\" + search_query, type=\"track\")\n",
    "    # results\n",
    "    if len(searchResults['tracks']['items']) != 0:\n",
    "        song_id = searchResults['tracks']['items'][0]['id']  #song id\n",
    "        uri_id = searchResults['tracks']['items'][0]['uri']  #uri_id\n",
    "        release_date = searchResults['tracks']['items'][0]['album']['release_date']  #release_date\n",
    "        type = searchResults['tracks']['items'][0]['type']  #type\n",
    "        explicit_content = searchResults['tracks']['items'][0]['explicit']  #explicit content\n",
    "        popularity = searchResults['tracks']['items'][0]['popularity']  #popularity        \n",
    "        return [song_id, uri_id, release_date, type, explicit_content, popularity]\n",
    "    else:\n",
    "        return None\n",
    "    "
   ]
  },
  {
   "cell_type": "code",
   "execution_count": null,
   "metadata": {},
   "outputs": [],
   "source": [
    "'''\n",
    "@ Spotify track audio analysis function\n",
    "'''\n",
    "def spotify_track_audio_attributes(id):\n",
    "    song_attributes = spotify_object.audio_features(id)\n",
    "    if len(song_attributes) != 0 or song_attributes != 'None':\n",
    "        danceability = song_attributes[0]['danceability']\n",
    "        energy = song_attributes[0]['energy']\n",
    "        loudness = song_attributes[0]['loudness']\n",
    "        speechiness = song_attributes[0]['speechiness']\n",
    "        acousticness = song_attributes[0]['acousticness']\n",
    "        instrumentalness = song_attributes[0]['instrumentalness']\n",
    "        liveness = song_attributes[0]['liveness']\n",
    "        valence = song_attributes[0]['valence']\n",
    "        tempo = song_attributes[0]['tempo']\n",
    "        return [danceability, energy, loudness, speechiness, acousticness, instrumentalness, liveness, valence, tempo]\n",
    "    else:\n",
    "        return None"
   ]
  },
  {
   "cell_type": "markdown",
   "metadata": {},
   "source": [
    "### library and playlist combine data"
   ]
  },
  {
   "cell_type": "code",
   "execution_count": null,
   "metadata": {},
   "outputs": [],
   "source": [
    "'''\n",
    "@ JSON parsing function\n",
    "'''\n",
    "def json_extract(data, songs_data):\n",
    "    for i in data:\n",
    "        f = open(i, encoding='utf8', errors='ignore')\n",
    "        # change the JSON string into a JSON object\n",
    "        jsonObject = json.load(f)\n",
    "        \n",
    "        # create a tuple for song details\n",
    "        if 'tracks' in jsonObject:\n",
    "            print('tracks json')\n",
    "            for key in jsonObject['tracks']:\n",
    "                artist = key['artist']      # artist name\n",
    "                track_name = key['track']   # track name\n",
    "                # call to api_data function\n",
    "                '''\n",
    "                api_data[0] -> #song_id, api_data[1] -> #uri_id\n",
    "                api_data[2] -> #release_date, api_data[3] -> #type\n",
    "                api_data[4] -> #explicit, api_data[5] -> #popularity\n",
    "                '''\n",
    "                api_data = spotify_api(artist, track_name)  # Function\n",
    "                if api_data is not None:\n",
    "                    # Call to track_analysis_attributes function\n",
    "                    '''\n",
    "                    track_attribute[0] -> #danceability value, track_attribute[1] -> #energy value\n",
    "                    track_attribute[2] -> #loudness, track_attribute[3] -> #speechiness\n",
    "                    track_attribute[4] -> #acousticness, track_attribute[5] -> #instrumentalness value\n",
    "                    track_attribute[6] -> #liveness, track_attribute[7] -> #valence\n",
    "                    track_attribute[8] -> #tempo \n",
    "                    '''\n",
    "                    track_attribute = spotify_track_audio_attributes(api_data[0])   # Function \n",
    "                    # adding all the valus in a tuple\n",
    "                    songs_data.append((\n",
    "                        api_data[0], artist, track_name, api_data[1], api_data[2], \n",
    "                        api_data[4], api_data[3], api_data[5], \n",
    "                        track_attribute[0], track_attribute[1], track_attribute[2], track_attribute[3], \n",
    "                        track_attribute[4], track_attribute[5], track_attribute[6], track_attribute[7], \n",
    "                        track_attribute[8]\n",
    "                    ))\n",
    "                        \n",
    "        elif 'playlists' in jsonObject:\n",
    "            print('playlists json')\n",
    "            for key in jsonObject['playlists']:\n",
    "                for i in key['items']:\n",
    "                    artist = i['track']['artistName']\n",
    "                    track_name = i['track']['trackName']\n",
    "                    # call to api_data function\n",
    "                    api_data = spotify_api(artist, track_name)  # function\n",
    "                    if api_data is not None: \n",
    "                        # Call to track_analysis_attributes function\n",
    "                        '''\n",
    "                        track_attribute[0] -> #danceability value, track_attribute[1] -> #energy value\n",
    "                        track_attribute[2] -> #loudness, track_attribute[3] -> #speechiness\n",
    "                        track_attribute[4] -> #acousticness, track_attribute[5] -> #instrumentalness value\n",
    "                        track_attribute[6] -> #liveness, track_attribute[7] -> #valence\n",
    "                        track_attribute[8] -> #tempo \n",
    "                        '''\n",
    "                        track_attribute = spotify_track_audio_attributes(api_data[0])\n",
    "                        # adding all the valus in a tuple\n",
    "                        songs_data.append((\n",
    "                            api_data[0], artist, track_name, api_data[1], api_data[2], \n",
    "                            api_data[4], api_data[3], api_data[5], \n",
    "                            track_attribute[0], track_attribute[1], track_attribute[2], track_attribute[3], \n",
    "                            track_attribute[4], track_attribute[5], track_attribute[6], track_attribute[7], \n",
    "                            track_attribute[8]\n",
    "                        ))\n",
    "    return songs_data"
   ]
  },
  {
   "cell_type": "code",
   "execution_count": null,
   "metadata": {},
   "outputs": [],
   "source": [
    "if __name__ == '__main__':\n",
    "    data_df = []\n",
    "    json_extract(['./dataset/YourLibrary.json', './dataset/Playlist1.json'], data_df)\n",
    "    with open('./dataset/songs_data.csv', 'w', newline='', encoding='utf-8') as f:\n",
    "        header = ['song_id', 'artist_name', 'track_name', 'uri_id', 'release_date', 'explicit', 'type', 'popularity', 'danceability', 'energy', 'loudness', 'speechiness', 'acousticness', 'instrumentalness', 'liveness', 'valence', 'tempo']\n",
    "        writer = csv.writer(f)\n",
    "        writer.writerow(header)\n",
    "        writer.writerows(data_df)"
   ]
  },
  {
   "cell_type": "markdown",
   "metadata": {},
   "source": [
    "### Stream history"
   ]
  },
  {
   "cell_type": "code",
   "execution_count": null,
   "metadata": {},
   "outputs": [],
   "source": [
    "'''\n",
    "@ Streaming history data function\n",
    "'''\n",
    "def streaming_history_data(file, output):\n",
    "    f = open(file, encoding='utf8', errors='ignore')\n",
    "    # change the JSON string into a JSON object\n",
    "    jsonObject = json.load(f)\n",
    "    \n",
    "    print('Process Started')\n",
    "    for i in jsonObject:\n",
    "        year = i['endTime'].split('-')[0]\n",
    "        month = i['endTime'].split('-')[1]\n",
    "        day = i['endTime'].split('-')[2].split(' ')[0]\n",
    "        \n",
    "        # call to api_data function\n",
    "        song_details = spotify_api(i['artistName'], i['trackName'])     #Function\n",
    "        '''\n",
    "        song_details[0] -> #song_id, song_details[1] -> #uri_id\n",
    "        song_details[2] -> #release_date, song_details[3] -> #type\n",
    "        song_details[4] -> #explicit, song_details[5] -> #popularity\n",
    "        '''\n",
    "        if song_details is not None:\n",
    "            # call to track_analysis_attributes function\n",
    "            song_details_attribute = spotify_track_audio_attributes(song_details[0])    #Function\n",
    "            '''\n",
    "            track_attribute[0] -> #danceability value, track_attribute[1] -> #energy value\n",
    "            track_attribute[2] -> #loudness, track_attribute[3] -> #speechiness\n",
    "            track_attribute[4] -> #acousticness, track_attribute[5] -> #instrumentalness value\n",
    "            track_attribute[6] -> #liveness, track_attribute[7] -> #valence\n",
    "            track_attribute[8] -> #tempo \n",
    "            '''\n",
    "            output.append((\n",
    "                song_details[0], i['artistName'], i['trackName'], song_details[1], song_details[2], song_details[3], year,\n",
    "                month, day, song_details[4], song_details[5], i['endTime'], i['msPlayed'],\n",
    "                song_details_attribute[0], song_details_attribute[1], song_details_attribute[2], song_details_attribute[3],\n",
    "                song_details_attribute[4], song_details_attribute[5], song_details_attribute[6], song_details_attribute[7],\n",
    "                song_details_attribute[8] \n",
    "            ))\n",
    "    print('Process Ended')\n",
    "    return output"
   ]
  },
  {
   "cell_type": "code",
   "execution_count": null,
   "metadata": {},
   "outputs": [],
   "source": [
    "if __name__ == '__main__':\n",
    "    output_data = []\n",
    "    x = streaming_history_data('./dataset/StreamingHistory0.json', output_data)\n",
    "    with open('./dataset/streaming_history_data.csv', 'w', newline='', encoding='utf-8') as f:\n",
    "        header = ['song_id', 'artist_name', 'track_name', 'uri_id', 'release_date', 'type', 'year', 'month', 'day', 'explicit', 'popularity', 'end_time', 'ms_played', 'danceability', 'energy', 'loudness', 'speechiness', 'acousticness', 'instrumentalness', 'liveness', 'valence', 'tempo']\n",
    "        writer = csv.writer(f)\n",
    "        writer.writerow(header)\n",
    "        writer.writerows(output_data)"
   ]
  }
 ],
 "metadata": {
  "interpreter": {
   "hash": "7280db5d318d4ff8b5ffeb67a67e86bd7caf65749b20058abd0ba185de8428cc"
  },
  "kernelspec": {
   "display_name": "Python 3.8.6 64-bit ('.env': venv)",
   "language": "python",
   "name": "python3"
  },
  "language_info": {
   "codemirror_mode": {
    "name": "ipython",
    "version": 3
   },
   "file_extension": ".py",
   "mimetype": "text/x-python",
   "name": "python",
   "nbconvert_exporter": "python",
   "pygments_lexer": "ipython3",
   "version": "3.8.6"
  },
  "orig_nbformat": 4
 },
 "nbformat": 4,
 "nbformat_minor": 2
}
