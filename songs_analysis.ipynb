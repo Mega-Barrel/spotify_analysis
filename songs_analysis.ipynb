{
 "cells": [
  {
   "cell_type": "code",
   "execution_count": 1,
   "metadata": {},
   "outputs": [],
   "source": [
    "import pandas as pd\n",
    "import plotly.graph_objects as go"
   ]
  },
  {
   "cell_type": "markdown",
   "metadata": {},
   "source": [
    "### Reading CSV files"
   ]
  },
  {
   "cell_type": "code",
   "execution_count": 2,
   "metadata": {},
   "outputs": [],
   "source": [
    "df_songs = pd.read_csv('./dataset/songs_data.csv')"
   ]
  },
  {
   "cell_type": "markdown",
   "metadata": {},
   "source": [
    "Removing duplicates values from the datframe"
   ]
  },
  {
   "cell_type": "code",
   "execution_count": 3,
   "metadata": {},
   "outputs": [],
   "source": [
    "df_songs.drop_duplicates(subset =['song_id', 'artist_name', 'track_name', 'uri_id'], keep = False, inplace = True)"
   ]
  },
  {
   "cell_type": "code",
   "execution_count": 4,
   "metadata": {},
   "outputs": [
    {
     "data": {
      "text/html": [
       "<div>\n",
       "<style scoped>\n",
       "    .dataframe tbody tr th:only-of-type {\n",
       "        vertical-align: middle;\n",
       "    }\n",
       "\n",
       "    .dataframe tbody tr th {\n",
       "        vertical-align: top;\n",
       "    }\n",
       "\n",
       "    .dataframe thead th {\n",
       "        text-align: right;\n",
       "    }\n",
       "</style>\n",
       "<table border=\"1\" class=\"dataframe\">\n",
       "  <thead>\n",
       "    <tr style=\"text-align: right;\">\n",
       "      <th></th>\n",
       "      <th>song_id</th>\n",
       "      <th>artist_name</th>\n",
       "      <th>track_name</th>\n",
       "      <th>uri_id</th>\n",
       "      <th>release_date</th>\n",
       "      <th>explicit</th>\n",
       "      <th>type</th>\n",
       "      <th>popularity</th>\n",
       "      <th>danceability</th>\n",
       "      <th>energy</th>\n",
       "      <th>loudness</th>\n",
       "      <th>speechiness</th>\n",
       "      <th>acousticness</th>\n",
       "      <th>instrumentalness</th>\n",
       "      <th>liveness</th>\n",
       "      <th>valence</th>\n",
       "      <th>tempo</th>\n",
       "    </tr>\n",
       "  </thead>\n",
       "  <tbody>\n",
       "    <tr>\n",
       "      <th>0</th>\n",
       "      <td>7GajHE5z66qqmzTrKVFCab</td>\n",
       "      <td>Ella Henderson</td>\n",
       "      <td>Take Care of You</td>\n",
       "      <td>spotify:track:7GajHE5z66qqmzTrKVFCab</td>\n",
       "      <td>2020-06-12</td>\n",
       "      <td>True</td>\n",
       "      <td>track</td>\n",
       "      <td>67</td>\n",
       "      <td>0.660</td>\n",
       "      <td>0.667</td>\n",
       "      <td>-6.870</td>\n",
       "      <td>0.0474</td>\n",
       "      <td>0.14100</td>\n",
       "      <td>0.000053</td>\n",
       "      <td>0.107</td>\n",
       "      <td>0.452</td>\n",
       "      <td>114.901</td>\n",
       "    </tr>\n",
       "    <tr>\n",
       "      <th>1</th>\n",
       "      <td>3hWfKBt3n7j1xqIy6LA5ve</td>\n",
       "      <td>Vicetone</td>\n",
       "      <td>Astronomia</td>\n",
       "      <td>spotify:track:3hWfKBt3n7j1xqIy6LA5ve</td>\n",
       "      <td>2016-09-16</td>\n",
       "      <td>False</td>\n",
       "      <td>track</td>\n",
       "      <td>72</td>\n",
       "      <td>0.653</td>\n",
       "      <td>0.945</td>\n",
       "      <td>-2.634</td>\n",
       "      <td>0.0960</td>\n",
       "      <td>0.00561</td>\n",
       "      <td>0.915000</td>\n",
       "      <td>0.439</td>\n",
       "      <td>0.326</td>\n",
       "      <td>126.093</td>\n",
       "    </tr>\n",
       "    <tr>\n",
       "      <th>2</th>\n",
       "      <td>0gplL1WMoJ6iYaPgMCL0gX</td>\n",
       "      <td>Adele</td>\n",
       "      <td>Easy On Me</td>\n",
       "      <td>spotify:track:0gplL1WMoJ6iYaPgMCL0gX</td>\n",
       "      <td>2021-10-14</td>\n",
       "      <td>False</td>\n",
       "      <td>track</td>\n",
       "      <td>100</td>\n",
       "      <td>0.604</td>\n",
       "      <td>0.366</td>\n",
       "      <td>-7.519</td>\n",
       "      <td>0.0282</td>\n",
       "      <td>0.57800</td>\n",
       "      <td>0.000000</td>\n",
       "      <td>0.133</td>\n",
       "      <td>0.130</td>\n",
       "      <td>141.981</td>\n",
       "    </tr>\n",
       "    <tr>\n",
       "      <th>3</th>\n",
       "      <td>2etALbTip5aL30PxVbELDU</td>\n",
       "      <td>Sandman</td>\n",
       "      <td>Summer Lover</td>\n",
       "      <td>spotify:track:2etALbTip5aL30PxVbELDU</td>\n",
       "      <td>2021-08-20</td>\n",
       "      <td>False</td>\n",
       "      <td>track</td>\n",
       "      <td>27</td>\n",
       "      <td>0.564</td>\n",
       "      <td>0.687</td>\n",
       "      <td>-6.461</td>\n",
       "      <td>0.0264</td>\n",
       "      <td>0.28100</td>\n",
       "      <td>0.000000</td>\n",
       "      <td>0.156</td>\n",
       "      <td>0.768</td>\n",
       "      <td>86.950</td>\n",
       "    </tr>\n",
       "    <tr>\n",
       "      <th>4</th>\n",
       "      <td>0D9FOgEG9uZm8EsE5q2Y6F</td>\n",
       "      <td>Sarah Proctor</td>\n",
       "      <td>Lost</td>\n",
       "      <td>spotify:track:0D9FOgEG9uZm8EsE5q2Y6F</td>\n",
       "      <td>2021-05-14</td>\n",
       "      <td>False</td>\n",
       "      <td>track</td>\n",
       "      <td>45</td>\n",
       "      <td>0.543</td>\n",
       "      <td>0.458</td>\n",
       "      <td>-6.641</td>\n",
       "      <td>0.0306</td>\n",
       "      <td>0.30600</td>\n",
       "      <td>0.000000</td>\n",
       "      <td>0.105</td>\n",
       "      <td>0.241</td>\n",
       "      <td>126.804</td>\n",
       "    </tr>\n",
       "  </tbody>\n",
       "</table>\n",
       "</div>"
      ],
      "text/plain": [
       "                  song_id     artist_name        track_name  \\\n",
       "0  7GajHE5z66qqmzTrKVFCab  Ella Henderson  Take Care of You   \n",
       "1  3hWfKBt3n7j1xqIy6LA5ve        Vicetone        Astronomia   \n",
       "2  0gplL1WMoJ6iYaPgMCL0gX           Adele        Easy On Me   \n",
       "3  2etALbTip5aL30PxVbELDU         Sandman      Summer Lover   \n",
       "4  0D9FOgEG9uZm8EsE5q2Y6F   Sarah Proctor              Lost   \n",
       "\n",
       "                                 uri_id release_date  explicit   type  \\\n",
       "0  spotify:track:7GajHE5z66qqmzTrKVFCab   2020-06-12      True  track   \n",
       "1  spotify:track:3hWfKBt3n7j1xqIy6LA5ve   2016-09-16     False  track   \n",
       "2  spotify:track:0gplL1WMoJ6iYaPgMCL0gX   2021-10-14     False  track   \n",
       "3  spotify:track:2etALbTip5aL30PxVbELDU   2021-08-20     False  track   \n",
       "4  spotify:track:0D9FOgEG9uZm8EsE5q2Y6F   2021-05-14     False  track   \n",
       "\n",
       "   popularity  danceability  energy  loudness  speechiness  acousticness  \\\n",
       "0          67         0.660   0.667    -6.870       0.0474       0.14100   \n",
       "1          72         0.653   0.945    -2.634       0.0960       0.00561   \n",
       "2         100         0.604   0.366    -7.519       0.0282       0.57800   \n",
       "3          27         0.564   0.687    -6.461       0.0264       0.28100   \n",
       "4          45         0.543   0.458    -6.641       0.0306       0.30600   \n",
       "\n",
       "   instrumentalness  liveness  valence    tempo  \n",
       "0          0.000053     0.107    0.452  114.901  \n",
       "1          0.915000     0.439    0.326  126.093  \n",
       "2          0.000000     0.133    0.130  141.981  \n",
       "3          0.000000     0.156    0.768   86.950  \n",
       "4          0.000000     0.105    0.241  126.804  "
      ]
     },
     "execution_count": 4,
     "metadata": {},
     "output_type": "execute_result"
    }
   ],
   "source": [
    "df_songs.head(5)"
   ]
  },
  {
   "cell_type": "code",
   "execution_count": 5,
   "metadata": {},
   "outputs": [
    {
     "data": {
      "text/plain": [
       "song_id              object\n",
       "artist_name          object\n",
       "track_name           object\n",
       "uri_id               object\n",
       "release_date         object\n",
       "explicit               bool\n",
       "type                 object\n",
       "popularity            int64\n",
       "danceability        float64\n",
       "energy              float64\n",
       "loudness            float64\n",
       "speechiness         float64\n",
       "acousticness        float64\n",
       "instrumentalness    float64\n",
       "liveness            float64\n",
       "valence             float64\n",
       "tempo               float64\n",
       "dtype: object"
      ]
     },
     "execution_count": 5,
     "metadata": {},
     "output_type": "execute_result"
    }
   ],
   "source": [
    "df_songs.dtypes"
   ]
  },
  {
   "cell_type": "markdown",
   "metadata": {},
   "source": [
    "Converting release_date to a datetime column"
   ]
  },
  {
   "cell_type": "code",
   "execution_count": 6,
   "metadata": {},
   "outputs": [],
   "source": [
    "df_songs['release_date'] =  pd.to_datetime(df_songs['release_date'])"
   ]
  },
  {
   "cell_type": "markdown",
   "metadata": {},
   "source": [
    "### Song Analysis"
   ]
  },
  {
   "cell_type": "code",
   "execution_count": null,
   "metadata": {},
   "outputs": [],
   "source": []
  }
 ],
 "metadata": {
  "interpreter": {
   "hash": "7280db5d318d4ff8b5ffeb67a67e86bd7caf65749b20058abd0ba185de8428cc"
  },
  "kernelspec": {
   "display_name": "Python 3.8.6 64-bit ('.env': venv)",
   "language": "python",
   "name": "python3"
  },
  "language_info": {
   "codemirror_mode": {
    "name": "ipython",
    "version": 3
   },
   "file_extension": ".py",
   "mimetype": "text/x-python",
   "name": "python",
   "nbconvert_exporter": "python",
   "pygments_lexer": "ipython3",
   "version": "3.8.6"
  },
  "orig_nbformat": 4
 },
 "nbformat": 4,
 "nbformat_minor": 2
}
