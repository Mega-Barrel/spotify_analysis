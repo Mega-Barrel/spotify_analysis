{
 "cells": [
  {
   "cell_type": "code",
   "execution_count": 1,
   "metadata": {},
   "outputs": [],
   "source": [
    "import pandas as pd\n",
    "import plotly.express as px\n",
    "import plotly.graph_objects as go"
   ]
  },
  {
   "cell_type": "markdown",
   "metadata": {},
   "source": [
    "### Reading CSV file"
   ]
  },
  {
   "cell_type": "code",
   "execution_count": 2,
   "metadata": {},
   "outputs": [],
   "source": [
    "df_songs = pd.read_csv('./dataset/csv_data/songs_data.csv')"
   ]
  },
  {
   "cell_type": "code",
   "execution_count": 3,
   "metadata": {},
   "outputs": [
    {
     "data": {
      "text/html": [
       "<div>\n",
       "<style scoped>\n",
       "    .dataframe tbody tr th:only-of-type {\n",
       "        vertical-align: middle;\n",
       "    }\n",
       "\n",
       "    .dataframe tbody tr th {\n",
       "        vertical-align: top;\n",
       "    }\n",
       "\n",
       "    .dataframe thead th {\n",
       "        text-align: right;\n",
       "    }\n",
       "</style>\n",
       "<table border=\"1\" class=\"dataframe\">\n",
       "  <thead>\n",
       "    <tr style=\"text-align: right;\">\n",
       "      <th></th>\n",
       "      <th>song_id</th>\n",
       "      <th>artist_name</th>\n",
       "      <th>track_name</th>\n",
       "      <th>uri_id</th>\n",
       "      <th>release_date</th>\n",
       "      <th>explicit</th>\n",
       "      <th>type</th>\n",
       "      <th>popularity</th>\n",
       "      <th>danceability</th>\n",
       "      <th>energy</th>\n",
       "      <th>loudness</th>\n",
       "      <th>speechiness</th>\n",
       "      <th>acousticness</th>\n",
       "      <th>instrumentalness</th>\n",
       "      <th>liveness</th>\n",
       "      <th>valence</th>\n",
       "      <th>tempo</th>\n",
       "    </tr>\n",
       "  </thead>\n",
       "  <tbody>\n",
       "    <tr>\n",
       "      <th>0</th>\n",
       "      <td>7GajHE5z66qqmzTrKVFCab</td>\n",
       "      <td>Ella Henderson</td>\n",
       "      <td>Take Care of You</td>\n",
       "      <td>spotify:track:7GajHE5z66qqmzTrKVFCab</td>\n",
       "      <td>2020-06-12</td>\n",
       "      <td>True</td>\n",
       "      <td>track</td>\n",
       "      <td>67</td>\n",
       "      <td>0.660</td>\n",
       "      <td>0.667</td>\n",
       "      <td>-6.870</td>\n",
       "      <td>0.0474</td>\n",
       "      <td>0.14100</td>\n",
       "      <td>0.000053</td>\n",
       "      <td>0.107</td>\n",
       "      <td>0.452</td>\n",
       "      <td>114.901</td>\n",
       "    </tr>\n",
       "    <tr>\n",
       "      <th>1</th>\n",
       "      <td>3hWfKBt3n7j1xqIy6LA5ve</td>\n",
       "      <td>Vicetone</td>\n",
       "      <td>Astronomia</td>\n",
       "      <td>spotify:track:3hWfKBt3n7j1xqIy6LA5ve</td>\n",
       "      <td>2016-09-16</td>\n",
       "      <td>False</td>\n",
       "      <td>track</td>\n",
       "      <td>72</td>\n",
       "      <td>0.653</td>\n",
       "      <td>0.945</td>\n",
       "      <td>-2.634</td>\n",
       "      <td>0.0960</td>\n",
       "      <td>0.00561</td>\n",
       "      <td>0.915000</td>\n",
       "      <td>0.439</td>\n",
       "      <td>0.326</td>\n",
       "      <td>126.093</td>\n",
       "    </tr>\n",
       "    <tr>\n",
       "      <th>2</th>\n",
       "      <td>0gplL1WMoJ6iYaPgMCL0gX</td>\n",
       "      <td>Adele</td>\n",
       "      <td>Easy On Me</td>\n",
       "      <td>spotify:track:0gplL1WMoJ6iYaPgMCL0gX</td>\n",
       "      <td>2021-10-14</td>\n",
       "      <td>False</td>\n",
       "      <td>track</td>\n",
       "      <td>100</td>\n",
       "      <td>0.604</td>\n",
       "      <td>0.366</td>\n",
       "      <td>-7.519</td>\n",
       "      <td>0.0282</td>\n",
       "      <td>0.57800</td>\n",
       "      <td>0.000000</td>\n",
       "      <td>0.133</td>\n",
       "      <td>0.130</td>\n",
       "      <td>141.981</td>\n",
       "    </tr>\n",
       "    <tr>\n",
       "      <th>3</th>\n",
       "      <td>2etALbTip5aL30PxVbELDU</td>\n",
       "      <td>Sandman</td>\n",
       "      <td>Summer Lover</td>\n",
       "      <td>spotify:track:2etALbTip5aL30PxVbELDU</td>\n",
       "      <td>2021-08-20</td>\n",
       "      <td>False</td>\n",
       "      <td>track</td>\n",
       "      <td>27</td>\n",
       "      <td>0.564</td>\n",
       "      <td>0.687</td>\n",
       "      <td>-6.461</td>\n",
       "      <td>0.0264</td>\n",
       "      <td>0.28100</td>\n",
       "      <td>0.000000</td>\n",
       "      <td>0.156</td>\n",
       "      <td>0.768</td>\n",
       "      <td>86.950</td>\n",
       "    </tr>\n",
       "    <tr>\n",
       "      <th>4</th>\n",
       "      <td>0D9FOgEG9uZm8EsE5q2Y6F</td>\n",
       "      <td>Sarah Proctor</td>\n",
       "      <td>Lost</td>\n",
       "      <td>spotify:track:0D9FOgEG9uZm8EsE5q2Y6F</td>\n",
       "      <td>2021-05-14</td>\n",
       "      <td>False</td>\n",
       "      <td>track</td>\n",
       "      <td>45</td>\n",
       "      <td>0.543</td>\n",
       "      <td>0.458</td>\n",
       "      <td>-6.641</td>\n",
       "      <td>0.0306</td>\n",
       "      <td>0.30600</td>\n",
       "      <td>0.000000</td>\n",
       "      <td>0.105</td>\n",
       "      <td>0.241</td>\n",
       "      <td>126.804</td>\n",
       "    </tr>\n",
       "  </tbody>\n",
       "</table>\n",
       "</div>"
      ],
      "text/plain": [
       "                  song_id     artist_name        track_name  \\\n",
       "0  7GajHE5z66qqmzTrKVFCab  Ella Henderson  Take Care of You   \n",
       "1  3hWfKBt3n7j1xqIy6LA5ve        Vicetone        Astronomia   \n",
       "2  0gplL1WMoJ6iYaPgMCL0gX           Adele        Easy On Me   \n",
       "3  2etALbTip5aL30PxVbELDU         Sandman      Summer Lover   \n",
       "4  0D9FOgEG9uZm8EsE5q2Y6F   Sarah Proctor              Lost   \n",
       "\n",
       "                                 uri_id release_date  explicit   type  \\\n",
       "0  spotify:track:7GajHE5z66qqmzTrKVFCab   2020-06-12      True  track   \n",
       "1  spotify:track:3hWfKBt3n7j1xqIy6LA5ve   2016-09-16     False  track   \n",
       "2  spotify:track:0gplL1WMoJ6iYaPgMCL0gX   2021-10-14     False  track   \n",
       "3  spotify:track:2etALbTip5aL30PxVbELDU   2021-08-20     False  track   \n",
       "4  spotify:track:0D9FOgEG9uZm8EsE5q2Y6F   2021-05-14     False  track   \n",
       "\n",
       "   popularity  danceability  energy  loudness  speechiness  acousticness  \\\n",
       "0          67         0.660   0.667    -6.870       0.0474       0.14100   \n",
       "1          72         0.653   0.945    -2.634       0.0960       0.00561   \n",
       "2         100         0.604   0.366    -7.519       0.0282       0.57800   \n",
       "3          27         0.564   0.687    -6.461       0.0264       0.28100   \n",
       "4          45         0.543   0.458    -6.641       0.0306       0.30600   \n",
       "\n",
       "   instrumentalness  liveness  valence    tempo  \n",
       "0          0.000053     0.107    0.452  114.901  \n",
       "1          0.915000     0.439    0.326  126.093  \n",
       "2          0.000000     0.133    0.130  141.981  \n",
       "3          0.000000     0.156    0.768   86.950  \n",
       "4          0.000000     0.105    0.241  126.804  "
      ]
     },
     "execution_count": 3,
     "metadata": {},
     "output_type": "execute_result"
    }
   ],
   "source": [
    "df_songs.head(5)"
   ]
  },
  {
   "cell_type": "markdown",
   "metadata": {},
   "source": [
    "Converting release_date to datetime"
   ]
  },
  {
   "cell_type": "code",
   "execution_count": 4,
   "metadata": {},
   "outputs": [],
   "source": [
    "df_songs['release_date'] =  pd.to_datetime(df_songs['release_date'])"
   ]
  },
  {
   "cell_type": "code",
   "execution_count": 5,
   "metadata": {},
   "outputs": [],
   "source": [
    "df_songs['year'] = df_songs['release_date'].dt.year\n",
    "df_songs['month'] = df_songs['release_date'].dt.month\n",
    "df_songs['day'] = df_songs['release_date'].dt.day"
   ]
  },
  {
   "cell_type": "code",
   "execution_count": 6,
   "metadata": {},
   "outputs": [
    {
     "data": {
      "text/plain": [
       "Index(['song_id', 'artist_name', 'track_name', 'uri_id', 'release_date',\n",
       "       'explicit', 'type', 'popularity', 'danceability', 'energy', 'loudness',\n",
       "       'speechiness', 'acousticness', 'instrumentalness', 'liveness',\n",
       "       'valence', 'tempo', 'year', 'month', 'day'],\n",
       "      dtype='object')"
      ]
     },
     "execution_count": 6,
     "metadata": {},
     "output_type": "execute_result"
    }
   ],
   "source": [
    "df_songs.columns"
   ]
  },
  {
   "cell_type": "code",
   "execution_count": 7,
   "metadata": {},
   "outputs": [
    {
     "data": {
      "application/vnd.plotly.v1+json": {
       "config": {
        "plotlyServerURL": "https://plot.ly"
       },
       "data": [
        {
         "marker": {
          "color": [
           33,
           30,
           18,
           13,
           12,
           10,
           10,
           9,
           9,
           8,
           7,
           7,
           7,
           7,
           7,
           7,
           6,
           6,
           6,
           6,
           6,
           6,
           6,
           6,
           6,
           6,
           6
          ]
         },
         "text": [
          "Dua Lipa",
          "Katy Perry",
          "Taylor Swift",
          "Camila Cabello",
          "Selena Gomez",
          "Maroon 5",
          "Demi Lovato",
          "Ariana Grande",
          "Anne-Marie",
          "Justin Bieber",
          "Charli XCX",
          "Bebe Rexha",
          "Doja Cat",
          "Lil Nas X",
          "5 Seconds of Summer",
          "Khalid",
          "Shawn Mendes",
          "Little Mix",
          "Drake",
          "Maluma",
          "The Weeknd",
          "Zara Larsson",
          "Sam Smith",
          "J Balvin",
          "Ed Sheeran",
          "Lady Gaga",
          "Ava Max"
         ],
         "type": "bar",
         "x": [
          "Dua Lipa",
          "Katy Perry",
          "Taylor Swift",
          "Camila Cabello",
          "Selena Gomez",
          "Maroon 5",
          "Demi Lovato",
          "Ariana Grande",
          "Anne-Marie",
          "Justin Bieber",
          "Charli XCX",
          "Bebe Rexha",
          "Doja Cat",
          "Lil Nas X",
          "5 Seconds of Summer",
          "Khalid",
          "Shawn Mendes",
          "Little Mix",
          "Drake",
          "Maluma",
          "The Weeknd",
          "Zara Larsson",
          "Sam Smith",
          "J Balvin",
          "Ed Sheeran",
          "Lady Gaga",
          "Ava Max"
         ],
         "y": [
          33,
          30,
          18,
          13,
          12,
          10,
          10,
          9,
          9,
          8,
          7,
          7,
          7,
          7,
          7,
          7,
          6,
          6,
          6,
          6,
          6,
          6,
          6,
          6,
          6,
          6,
          6
         ]
        }
       ],
       "layout": {
        "barmode": "group",
        "height": 650,
        "hovermode": "x",
        "template": {
         "data": {
          "bar": [
           {
            "error_x": {
             "color": "#2a3f5f"
            },
            "error_y": {
             "color": "#2a3f5f"
            },
            "marker": {
             "line": {
              "color": "#E5ECF6",
              "width": 0.5
             },
             "pattern": {
              "fillmode": "overlay",
              "size": 10,
              "solidity": 0.2
             }
            },
            "type": "bar"
           }
          ],
          "barpolar": [
           {
            "marker": {
             "line": {
              "color": "#E5ECF6",
              "width": 0.5
             },
             "pattern": {
              "fillmode": "overlay",
              "size": 10,
              "solidity": 0.2
             }
            },
            "type": "barpolar"
           }
          ],
          "carpet": [
           {
            "aaxis": {
             "endlinecolor": "#2a3f5f",
             "gridcolor": "white",
             "linecolor": "white",
             "minorgridcolor": "white",
             "startlinecolor": "#2a3f5f"
            },
            "baxis": {
             "endlinecolor": "#2a3f5f",
             "gridcolor": "white",
             "linecolor": "white",
             "minorgridcolor": "white",
             "startlinecolor": "#2a3f5f"
            },
            "type": "carpet"
           }
          ],
          "choropleth": [
           {
            "colorbar": {
             "outlinewidth": 0,
             "ticks": ""
            },
            "type": "choropleth"
           }
          ],
          "contour": [
           {
            "colorbar": {
             "outlinewidth": 0,
             "ticks": ""
            },
            "colorscale": [
             [
              0,
              "#0d0887"
             ],
             [
              0.1111111111111111,
              "#46039f"
             ],
             [
              0.2222222222222222,
              "#7201a8"
             ],
             [
              0.3333333333333333,
              "#9c179e"
             ],
             [
              0.4444444444444444,
              "#bd3786"
             ],
             [
              0.5555555555555556,
              "#d8576b"
             ],
             [
              0.6666666666666666,
              "#ed7953"
             ],
             [
              0.7777777777777778,
              "#fb9f3a"
             ],
             [
              0.8888888888888888,
              "#fdca26"
             ],
             [
              1,
              "#f0f921"
             ]
            ],
            "type": "contour"
           }
          ],
          "contourcarpet": [
           {
            "colorbar": {
             "outlinewidth": 0,
             "ticks": ""
            },
            "type": "contourcarpet"
           }
          ],
          "heatmap": [
           {
            "colorbar": {
             "outlinewidth": 0,
             "ticks": ""
            },
            "colorscale": [
             [
              0,
              "#0d0887"
             ],
             [
              0.1111111111111111,
              "#46039f"
             ],
             [
              0.2222222222222222,
              "#7201a8"
             ],
             [
              0.3333333333333333,
              "#9c179e"
             ],
             [
              0.4444444444444444,
              "#bd3786"
             ],
             [
              0.5555555555555556,
              "#d8576b"
             ],
             [
              0.6666666666666666,
              "#ed7953"
             ],
             [
              0.7777777777777778,
              "#fb9f3a"
             ],
             [
              0.8888888888888888,
              "#fdca26"
             ],
             [
              1,
              "#f0f921"
             ]
            ],
            "type": "heatmap"
           }
          ],
          "heatmapgl": [
           {
            "colorbar": {
             "outlinewidth": 0,
             "ticks": ""
            },
            "colorscale": [
             [
              0,
              "#0d0887"
             ],
             [
              0.1111111111111111,
              "#46039f"
             ],
             [
              0.2222222222222222,
              "#7201a8"
             ],
             [
              0.3333333333333333,
              "#9c179e"
             ],
             [
              0.4444444444444444,
              "#bd3786"
             ],
             [
              0.5555555555555556,
              "#d8576b"
             ],
             [
              0.6666666666666666,
              "#ed7953"
             ],
             [
              0.7777777777777778,
              "#fb9f3a"
             ],
             [
              0.8888888888888888,
              "#fdca26"
             ],
             [
              1,
              "#f0f921"
             ]
            ],
            "type": "heatmapgl"
           }
          ],
          "histogram": [
           {
            "marker": {
             "pattern": {
              "fillmode": "overlay",
              "size": 10,
              "solidity": 0.2
             }
            },
            "type": "histogram"
           }
          ],
          "histogram2d": [
           {
            "colorbar": {
             "outlinewidth": 0,
             "ticks": ""
            },
            "colorscale": [
             [
              0,
              "#0d0887"
             ],
             [
              0.1111111111111111,
              "#46039f"
             ],
             [
              0.2222222222222222,
              "#7201a8"
             ],
             [
              0.3333333333333333,
              "#9c179e"
             ],
             [
              0.4444444444444444,
              "#bd3786"
             ],
             [
              0.5555555555555556,
              "#d8576b"
             ],
             [
              0.6666666666666666,
              "#ed7953"
             ],
             [
              0.7777777777777778,
              "#fb9f3a"
             ],
             [
              0.8888888888888888,
              "#fdca26"
             ],
             [
              1,
              "#f0f921"
             ]
            ],
            "type": "histogram2d"
           }
          ],
          "histogram2dcontour": [
           {
            "colorbar": {
             "outlinewidth": 0,
             "ticks": ""
            },
            "colorscale": [
             [
              0,
              "#0d0887"
             ],
             [
              0.1111111111111111,
              "#46039f"
             ],
             [
              0.2222222222222222,
              "#7201a8"
             ],
             [
              0.3333333333333333,
              "#9c179e"
             ],
             [
              0.4444444444444444,
              "#bd3786"
             ],
             [
              0.5555555555555556,
              "#d8576b"
             ],
             [
              0.6666666666666666,
              "#ed7953"
             ],
             [
              0.7777777777777778,
              "#fb9f3a"
             ],
             [
              0.8888888888888888,
              "#fdca26"
             ],
             [
              1,
              "#f0f921"
             ]
            ],
            "type": "histogram2dcontour"
           }
          ],
          "mesh3d": [
           {
            "colorbar": {
             "outlinewidth": 0,
             "ticks": ""
            },
            "type": "mesh3d"
           }
          ],
          "parcoords": [
           {
            "line": {
             "colorbar": {
              "outlinewidth": 0,
              "ticks": ""
             }
            },
            "type": "parcoords"
           }
          ],
          "pie": [
           {
            "automargin": true,
            "type": "pie"
           }
          ],
          "scatter": [
           {
            "marker": {
             "colorbar": {
              "outlinewidth": 0,
              "ticks": ""
             }
            },
            "type": "scatter"
           }
          ],
          "scatter3d": [
           {
            "line": {
             "colorbar": {
              "outlinewidth": 0,
              "ticks": ""
             }
            },
            "marker": {
             "colorbar": {
              "outlinewidth": 0,
              "ticks": ""
             }
            },
            "type": "scatter3d"
           }
          ],
          "scattercarpet": [
           {
            "marker": {
             "colorbar": {
              "outlinewidth": 0,
              "ticks": ""
             }
            },
            "type": "scattercarpet"
           }
          ],
          "scattergeo": [
           {
            "marker": {
             "colorbar": {
              "outlinewidth": 0,
              "ticks": ""
             }
            },
            "type": "scattergeo"
           }
          ],
          "scattergl": [
           {
            "marker": {
             "colorbar": {
              "outlinewidth": 0,
              "ticks": ""
             }
            },
            "type": "scattergl"
           }
          ],
          "scattermapbox": [
           {
            "marker": {
             "colorbar": {
              "outlinewidth": 0,
              "ticks": ""
             }
            },
            "type": "scattermapbox"
           }
          ],
          "scatterpolar": [
           {
            "marker": {
             "colorbar": {
              "outlinewidth": 0,
              "ticks": ""
             }
            },
            "type": "scatterpolar"
           }
          ],
          "scatterpolargl": [
           {
            "marker": {
             "colorbar": {
              "outlinewidth": 0,
              "ticks": ""
             }
            },
            "type": "scatterpolargl"
           }
          ],
          "scatterternary": [
           {
            "marker": {
             "colorbar": {
              "outlinewidth": 0,
              "ticks": ""
             }
            },
            "type": "scatterternary"
           }
          ],
          "surface": [
           {
            "colorbar": {
             "outlinewidth": 0,
             "ticks": ""
            },
            "colorscale": [
             [
              0,
              "#0d0887"
             ],
             [
              0.1111111111111111,
              "#46039f"
             ],
             [
              0.2222222222222222,
              "#7201a8"
             ],
             [
              0.3333333333333333,
              "#9c179e"
             ],
             [
              0.4444444444444444,
              "#bd3786"
             ],
             [
              0.5555555555555556,
              "#d8576b"
             ],
             [
              0.6666666666666666,
              "#ed7953"
             ],
             [
              0.7777777777777778,
              "#fb9f3a"
             ],
             [
              0.8888888888888888,
              "#fdca26"
             ],
             [
              1,
              "#f0f921"
             ]
            ],
            "type": "surface"
           }
          ],
          "table": [
           {
            "cells": {
             "fill": {
              "color": "#EBF0F8"
             },
             "line": {
              "color": "white"
             }
            },
            "header": {
             "fill": {
              "color": "#C8D4E3"
             },
             "line": {
              "color": "white"
             }
            },
            "type": "table"
           }
          ]
         },
         "layout": {
          "annotationdefaults": {
           "arrowcolor": "#2a3f5f",
           "arrowhead": 0,
           "arrowwidth": 1
          },
          "autotypenumbers": "strict",
          "coloraxis": {
           "colorbar": {
            "outlinewidth": 0,
            "ticks": ""
           }
          },
          "colorscale": {
           "diverging": [
            [
             0,
             "#8e0152"
            ],
            [
             0.1,
             "#c51b7d"
            ],
            [
             0.2,
             "#de77ae"
            ],
            [
             0.3,
             "#f1b6da"
            ],
            [
             0.4,
             "#fde0ef"
            ],
            [
             0.5,
             "#f7f7f7"
            ],
            [
             0.6,
             "#e6f5d0"
            ],
            [
             0.7,
             "#b8e186"
            ],
            [
             0.8,
             "#7fbc41"
            ],
            [
             0.9,
             "#4d9221"
            ],
            [
             1,
             "#276419"
            ]
           ],
           "sequential": [
            [
             0,
             "#0d0887"
            ],
            [
             0.1111111111111111,
             "#46039f"
            ],
            [
             0.2222222222222222,
             "#7201a8"
            ],
            [
             0.3333333333333333,
             "#9c179e"
            ],
            [
             0.4444444444444444,
             "#bd3786"
            ],
            [
             0.5555555555555556,
             "#d8576b"
            ],
            [
             0.6666666666666666,
             "#ed7953"
            ],
            [
             0.7777777777777778,
             "#fb9f3a"
            ],
            [
             0.8888888888888888,
             "#fdca26"
            ],
            [
             1,
             "#f0f921"
            ]
           ],
           "sequentialminus": [
            [
             0,
             "#0d0887"
            ],
            [
             0.1111111111111111,
             "#46039f"
            ],
            [
             0.2222222222222222,
             "#7201a8"
            ],
            [
             0.3333333333333333,
             "#9c179e"
            ],
            [
             0.4444444444444444,
             "#bd3786"
            ],
            [
             0.5555555555555556,
             "#d8576b"
            ],
            [
             0.6666666666666666,
             "#ed7953"
            ],
            [
             0.7777777777777778,
             "#fb9f3a"
            ],
            [
             0.8888888888888888,
             "#fdca26"
            ],
            [
             1,
             "#f0f921"
            ]
           ]
          },
          "colorway": [
           "#636efa",
           "#EF553B",
           "#00cc96",
           "#ab63fa",
           "#FFA15A",
           "#19d3f3",
           "#FF6692",
           "#B6E880",
           "#FF97FF",
           "#FECB52"
          ],
          "font": {
           "color": "#2a3f5f"
          },
          "geo": {
           "bgcolor": "white",
           "lakecolor": "white",
           "landcolor": "#E5ECF6",
           "showlakes": true,
           "showland": true,
           "subunitcolor": "white"
          },
          "hoverlabel": {
           "align": "left"
          },
          "hovermode": "closest",
          "mapbox": {
           "style": "light"
          },
          "paper_bgcolor": "white",
          "plot_bgcolor": "#E5ECF6",
          "polar": {
           "angularaxis": {
            "gridcolor": "white",
            "linecolor": "white",
            "ticks": ""
           },
           "bgcolor": "#E5ECF6",
           "radialaxis": {
            "gridcolor": "white",
            "linecolor": "white",
            "ticks": ""
           }
          },
          "scene": {
           "xaxis": {
            "backgroundcolor": "#E5ECF6",
            "gridcolor": "white",
            "gridwidth": 2,
            "linecolor": "white",
            "showbackground": true,
            "ticks": "",
            "zerolinecolor": "white"
           },
           "yaxis": {
            "backgroundcolor": "#E5ECF6",
            "gridcolor": "white",
            "gridwidth": 2,
            "linecolor": "white",
            "showbackground": true,
            "ticks": "",
            "zerolinecolor": "white"
           },
           "zaxis": {
            "backgroundcolor": "#E5ECF6",
            "gridcolor": "white",
            "gridwidth": 2,
            "linecolor": "white",
            "showbackground": true,
            "ticks": "",
            "zerolinecolor": "white"
           }
          },
          "shapedefaults": {
           "line": {
            "color": "#2a3f5f"
           }
          },
          "ternary": {
           "aaxis": {
            "gridcolor": "white",
            "linecolor": "white",
            "ticks": ""
           },
           "baxis": {
            "gridcolor": "white",
            "linecolor": "white",
            "ticks": ""
           },
           "bgcolor": "#E5ECF6",
           "caxis": {
            "gridcolor": "white",
            "linecolor": "white",
            "ticks": ""
           }
          },
          "title": {
           "x": 0.05
          },
          "xaxis": {
           "automargin": true,
           "gridcolor": "white",
           "linecolor": "white",
           "ticks": "",
           "title": {
            "standoff": 15
           },
           "zerolinecolor": "white",
           "zerolinewidth": 2
          },
          "yaxis": {
           "automargin": true,
           "gridcolor": "white",
           "linecolor": "white",
           "ticks": "",
           "title": {
            "standoff": 15
           },
           "zerolinecolor": "white",
           "zerolinewidth": 2
          }
         }
        },
        "title": {
         "text": "Count of Artists listened"
        },
        "width": 1210,
        "xaxis": {
         "tickangle": 45,
         "title": {
          "text": "Name"
         }
        },
        "yaxis": {
         "title": {
          "text": "Count"
         }
        }
       }
      }
     },
     "metadata": {},
     "output_type": "display_data"
    }
   ],
   "source": [
    "# most artists listened\n",
    "count_greater_1 = df_songs['artist_name'].value_counts()\n",
    "artist_name = count_greater_1[count_greater_1 > 5].index\n",
    "artist_count = count_greater_1[count_greater_1 > 5].values\n",
    "\n",
    "fig = go.Figure(\n",
    "    data=[\n",
    "        go.Bar(\n",
    "            x = artist_name, \n",
    "            y = artist_count,\n",
    "            marker = {\n",
    "                'color' : artist_count\n",
    "            },\n",
    "            text = artist_name,\n",
    "        )\n",
    "    ]\n",
    ")\n",
    "fig.update_layout(\n",
    "    title_text= 'Count of Artists listened',\n",
    "    barmode='group', \n",
    "    xaxis_tickangle=45,\n",
    "    xaxis_title = \"Name\",\n",
    "    yaxis_title = \"Count\",\n",
    "    hovermode = 'x',\n",
    "    height = 650,\n",
    "    width = 1210,\n",
    ")\n",
    "fig.show()\n"
   ]
  },
  {
   "cell_type": "code",
   "execution_count": 8,
   "metadata": {},
   "outputs": [
    {
     "data": {
      "application/vnd.plotly.v1+json": {
       "config": {
        "plotlyServerURL": "https://plot.ly"
       },
       "data": [
        {
         "marker": {
          "color": [
           115,
           82,
           99,
           135,
           132,
           102,
           73,
           94,
           97,
           121,
           98,
           57
          ]
         },
         "text": [
          "Jan",
          "Feb",
          "Mar",
          "Apr",
          "May",
          "Jun",
          "July",
          "Aug",
          "Sept",
          "Oct",
          "Nov",
          "Dec"
         ],
         "textposition": "inside",
         "type": "bar",
         "x": [
          "Jan",
          "Feb",
          "Mar",
          "Apr",
          "May",
          "Jun",
          "July",
          "Aug",
          "Sept",
          "Oct",
          "Nov",
          "Dec"
         ],
         "y": [
          115,
          82,
          99,
          135,
          132,
          102,
          73,
          94,
          97,
          121,
          98,
          57
         ]
        }
       ],
       "layout": {
        "barmode": "group",
        "height": 800,
        "hovermode": "x",
        "template": {
         "data": {
          "bar": [
           {
            "error_x": {
             "color": "#2a3f5f"
            },
            "error_y": {
             "color": "#2a3f5f"
            },
            "marker": {
             "line": {
              "color": "#E5ECF6",
              "width": 0.5
             },
             "pattern": {
              "fillmode": "overlay",
              "size": 10,
              "solidity": 0.2
             }
            },
            "type": "bar"
           }
          ],
          "barpolar": [
           {
            "marker": {
             "line": {
              "color": "#E5ECF6",
              "width": 0.5
             },
             "pattern": {
              "fillmode": "overlay",
              "size": 10,
              "solidity": 0.2
             }
            },
            "type": "barpolar"
           }
          ],
          "carpet": [
           {
            "aaxis": {
             "endlinecolor": "#2a3f5f",
             "gridcolor": "white",
             "linecolor": "white",
             "minorgridcolor": "white",
             "startlinecolor": "#2a3f5f"
            },
            "baxis": {
             "endlinecolor": "#2a3f5f",
             "gridcolor": "white",
             "linecolor": "white",
             "minorgridcolor": "white",
             "startlinecolor": "#2a3f5f"
            },
            "type": "carpet"
           }
          ],
          "choropleth": [
           {
            "colorbar": {
             "outlinewidth": 0,
             "ticks": ""
            },
            "type": "choropleth"
           }
          ],
          "contour": [
           {
            "colorbar": {
             "outlinewidth": 0,
             "ticks": ""
            },
            "colorscale": [
             [
              0,
              "#0d0887"
             ],
             [
              0.1111111111111111,
              "#46039f"
             ],
             [
              0.2222222222222222,
              "#7201a8"
             ],
             [
              0.3333333333333333,
              "#9c179e"
             ],
             [
              0.4444444444444444,
              "#bd3786"
             ],
             [
              0.5555555555555556,
              "#d8576b"
             ],
             [
              0.6666666666666666,
              "#ed7953"
             ],
             [
              0.7777777777777778,
              "#fb9f3a"
             ],
             [
              0.8888888888888888,
              "#fdca26"
             ],
             [
              1,
              "#f0f921"
             ]
            ],
            "type": "contour"
           }
          ],
          "contourcarpet": [
           {
            "colorbar": {
             "outlinewidth": 0,
             "ticks": ""
            },
            "type": "contourcarpet"
           }
          ],
          "heatmap": [
           {
            "colorbar": {
             "outlinewidth": 0,
             "ticks": ""
            },
            "colorscale": [
             [
              0,
              "#0d0887"
             ],
             [
              0.1111111111111111,
              "#46039f"
             ],
             [
              0.2222222222222222,
              "#7201a8"
             ],
             [
              0.3333333333333333,
              "#9c179e"
             ],
             [
              0.4444444444444444,
              "#bd3786"
             ],
             [
              0.5555555555555556,
              "#d8576b"
             ],
             [
              0.6666666666666666,
              "#ed7953"
             ],
             [
              0.7777777777777778,
              "#fb9f3a"
             ],
             [
              0.8888888888888888,
              "#fdca26"
             ],
             [
              1,
              "#f0f921"
             ]
            ],
            "type": "heatmap"
           }
          ],
          "heatmapgl": [
           {
            "colorbar": {
             "outlinewidth": 0,
             "ticks": ""
            },
            "colorscale": [
             [
              0,
              "#0d0887"
             ],
             [
              0.1111111111111111,
              "#46039f"
             ],
             [
              0.2222222222222222,
              "#7201a8"
             ],
             [
              0.3333333333333333,
              "#9c179e"
             ],
             [
              0.4444444444444444,
              "#bd3786"
             ],
             [
              0.5555555555555556,
              "#d8576b"
             ],
             [
              0.6666666666666666,
              "#ed7953"
             ],
             [
              0.7777777777777778,
              "#fb9f3a"
             ],
             [
              0.8888888888888888,
              "#fdca26"
             ],
             [
              1,
              "#f0f921"
             ]
            ],
            "type": "heatmapgl"
           }
          ],
          "histogram": [
           {
            "marker": {
             "pattern": {
              "fillmode": "overlay",
              "size": 10,
              "solidity": 0.2
             }
            },
            "type": "histogram"
           }
          ],
          "histogram2d": [
           {
            "colorbar": {
             "outlinewidth": 0,
             "ticks": ""
            },
            "colorscale": [
             [
              0,
              "#0d0887"
             ],
             [
              0.1111111111111111,
              "#46039f"
             ],
             [
              0.2222222222222222,
              "#7201a8"
             ],
             [
              0.3333333333333333,
              "#9c179e"
             ],
             [
              0.4444444444444444,
              "#bd3786"
             ],
             [
              0.5555555555555556,
              "#d8576b"
             ],
             [
              0.6666666666666666,
              "#ed7953"
             ],
             [
              0.7777777777777778,
              "#fb9f3a"
             ],
             [
              0.8888888888888888,
              "#fdca26"
             ],
             [
              1,
              "#f0f921"
             ]
            ],
            "type": "histogram2d"
           }
          ],
          "histogram2dcontour": [
           {
            "colorbar": {
             "outlinewidth": 0,
             "ticks": ""
            },
            "colorscale": [
             [
              0,
              "#0d0887"
             ],
             [
              0.1111111111111111,
              "#46039f"
             ],
             [
              0.2222222222222222,
              "#7201a8"
             ],
             [
              0.3333333333333333,
              "#9c179e"
             ],
             [
              0.4444444444444444,
              "#bd3786"
             ],
             [
              0.5555555555555556,
              "#d8576b"
             ],
             [
              0.6666666666666666,
              "#ed7953"
             ],
             [
              0.7777777777777778,
              "#fb9f3a"
             ],
             [
              0.8888888888888888,
              "#fdca26"
             ],
             [
              1,
              "#f0f921"
             ]
            ],
            "type": "histogram2dcontour"
           }
          ],
          "mesh3d": [
           {
            "colorbar": {
             "outlinewidth": 0,
             "ticks": ""
            },
            "type": "mesh3d"
           }
          ],
          "parcoords": [
           {
            "line": {
             "colorbar": {
              "outlinewidth": 0,
              "ticks": ""
             }
            },
            "type": "parcoords"
           }
          ],
          "pie": [
           {
            "automargin": true,
            "type": "pie"
           }
          ],
          "scatter": [
           {
            "marker": {
             "colorbar": {
              "outlinewidth": 0,
              "ticks": ""
             }
            },
            "type": "scatter"
           }
          ],
          "scatter3d": [
           {
            "line": {
             "colorbar": {
              "outlinewidth": 0,
              "ticks": ""
             }
            },
            "marker": {
             "colorbar": {
              "outlinewidth": 0,
              "ticks": ""
             }
            },
            "type": "scatter3d"
           }
          ],
          "scattercarpet": [
           {
            "marker": {
             "colorbar": {
              "outlinewidth": 0,
              "ticks": ""
             }
            },
            "type": "scattercarpet"
           }
          ],
          "scattergeo": [
           {
            "marker": {
             "colorbar": {
              "outlinewidth": 0,
              "ticks": ""
             }
            },
            "type": "scattergeo"
           }
          ],
          "scattergl": [
           {
            "marker": {
             "colorbar": {
              "outlinewidth": 0,
              "ticks": ""
             }
            },
            "type": "scattergl"
           }
          ],
          "scattermapbox": [
           {
            "marker": {
             "colorbar": {
              "outlinewidth": 0,
              "ticks": ""
             }
            },
            "type": "scattermapbox"
           }
          ],
          "scatterpolar": [
           {
            "marker": {
             "colorbar": {
              "outlinewidth": 0,
              "ticks": ""
             }
            },
            "type": "scatterpolar"
           }
          ],
          "scatterpolargl": [
           {
            "marker": {
             "colorbar": {
              "outlinewidth": 0,
              "ticks": ""
             }
            },
            "type": "scatterpolargl"
           }
          ],
          "scatterternary": [
           {
            "marker": {
             "colorbar": {
              "outlinewidth": 0,
              "ticks": ""
             }
            },
            "type": "scatterternary"
           }
          ],
          "surface": [
           {
            "colorbar": {
             "outlinewidth": 0,
             "ticks": ""
            },
            "colorscale": [
             [
              0,
              "#0d0887"
             ],
             [
              0.1111111111111111,
              "#46039f"
             ],
             [
              0.2222222222222222,
              "#7201a8"
             ],
             [
              0.3333333333333333,
              "#9c179e"
             ],
             [
              0.4444444444444444,
              "#bd3786"
             ],
             [
              0.5555555555555556,
              "#d8576b"
             ],
             [
              0.6666666666666666,
              "#ed7953"
             ],
             [
              0.7777777777777778,
              "#fb9f3a"
             ],
             [
              0.8888888888888888,
              "#fdca26"
             ],
             [
              1,
              "#f0f921"
             ]
            ],
            "type": "surface"
           }
          ],
          "table": [
           {
            "cells": {
             "fill": {
              "color": "#EBF0F8"
             },
             "line": {
              "color": "white"
             }
            },
            "header": {
             "fill": {
              "color": "#C8D4E3"
             },
             "line": {
              "color": "white"
             }
            },
            "type": "table"
           }
          ]
         },
         "layout": {
          "annotationdefaults": {
           "arrowcolor": "#2a3f5f",
           "arrowhead": 0,
           "arrowwidth": 1
          },
          "autotypenumbers": "strict",
          "coloraxis": {
           "colorbar": {
            "outlinewidth": 0,
            "ticks": ""
           }
          },
          "colorscale": {
           "diverging": [
            [
             0,
             "#8e0152"
            ],
            [
             0.1,
             "#c51b7d"
            ],
            [
             0.2,
             "#de77ae"
            ],
            [
             0.3,
             "#f1b6da"
            ],
            [
             0.4,
             "#fde0ef"
            ],
            [
             0.5,
             "#f7f7f7"
            ],
            [
             0.6,
             "#e6f5d0"
            ],
            [
             0.7,
             "#b8e186"
            ],
            [
             0.8,
             "#7fbc41"
            ],
            [
             0.9,
             "#4d9221"
            ],
            [
             1,
             "#276419"
            ]
           ],
           "sequential": [
            [
             0,
             "#0d0887"
            ],
            [
             0.1111111111111111,
             "#46039f"
            ],
            [
             0.2222222222222222,
             "#7201a8"
            ],
            [
             0.3333333333333333,
             "#9c179e"
            ],
            [
             0.4444444444444444,
             "#bd3786"
            ],
            [
             0.5555555555555556,
             "#d8576b"
            ],
            [
             0.6666666666666666,
             "#ed7953"
            ],
            [
             0.7777777777777778,
             "#fb9f3a"
            ],
            [
             0.8888888888888888,
             "#fdca26"
            ],
            [
             1,
             "#f0f921"
            ]
           ],
           "sequentialminus": [
            [
             0,
             "#0d0887"
            ],
            [
             0.1111111111111111,
             "#46039f"
            ],
            [
             0.2222222222222222,
             "#7201a8"
            ],
            [
             0.3333333333333333,
             "#9c179e"
            ],
            [
             0.4444444444444444,
             "#bd3786"
            ],
            [
             0.5555555555555556,
             "#d8576b"
            ],
            [
             0.6666666666666666,
             "#ed7953"
            ],
            [
             0.7777777777777778,
             "#fb9f3a"
            ],
            [
             0.8888888888888888,
             "#fdca26"
            ],
            [
             1,
             "#f0f921"
            ]
           ]
          },
          "colorway": [
           "#636efa",
           "#EF553B",
           "#00cc96",
           "#ab63fa",
           "#FFA15A",
           "#19d3f3",
           "#FF6692",
           "#B6E880",
           "#FF97FF",
           "#FECB52"
          ],
          "font": {
           "color": "#2a3f5f"
          },
          "geo": {
           "bgcolor": "white",
           "lakecolor": "white",
           "landcolor": "#E5ECF6",
           "showlakes": true,
           "showland": true,
           "subunitcolor": "white"
          },
          "hoverlabel": {
           "align": "left"
          },
          "hovermode": "closest",
          "mapbox": {
           "style": "light"
          },
          "paper_bgcolor": "white",
          "plot_bgcolor": "#E5ECF6",
          "polar": {
           "angularaxis": {
            "gridcolor": "white",
            "linecolor": "white",
            "ticks": ""
           },
           "bgcolor": "#E5ECF6",
           "radialaxis": {
            "gridcolor": "white",
            "linecolor": "white",
            "ticks": ""
           }
          },
          "scene": {
           "xaxis": {
            "backgroundcolor": "#E5ECF6",
            "gridcolor": "white",
            "gridwidth": 2,
            "linecolor": "white",
            "showbackground": true,
            "ticks": "",
            "zerolinecolor": "white"
           },
           "yaxis": {
            "backgroundcolor": "#E5ECF6",
            "gridcolor": "white",
            "gridwidth": 2,
            "linecolor": "white",
            "showbackground": true,
            "ticks": "",
            "zerolinecolor": "white"
           },
           "zaxis": {
            "backgroundcolor": "#E5ECF6",
            "gridcolor": "white",
            "gridwidth": 2,
            "linecolor": "white",
            "showbackground": true,
            "ticks": "",
            "zerolinecolor": "white"
           }
          },
          "shapedefaults": {
           "line": {
            "color": "#2a3f5f"
           }
          },
          "ternary": {
           "aaxis": {
            "gridcolor": "white",
            "linecolor": "white",
            "ticks": ""
           },
           "baxis": {
            "gridcolor": "white",
            "linecolor": "white",
            "ticks": ""
           },
           "bgcolor": "#E5ECF6",
           "caxis": {
            "gridcolor": "white",
            "linecolor": "white",
            "ticks": ""
           }
          },
          "title": {
           "x": 0.05
          },
          "xaxis": {
           "automargin": true,
           "gridcolor": "white",
           "linecolor": "white",
           "ticks": "",
           "title": {
            "standoff": 15
           },
           "zerolinecolor": "white",
           "zerolinewidth": 2
          },
          "yaxis": {
           "automargin": true,
           "gridcolor": "white",
           "linecolor": "white",
           "ticks": "",
           "title": {
            "standoff": 15
           },
           "zerolinecolor": "white",
           "zerolinewidth": 2
          }
         }
        },
        "title": {
         "text": "Count of songs listened as per month"
        },
        "width": 1210,
        "xaxis": {
         "title": {
          "text": "month"
         }
        },
        "yaxis": {
         "title": {
          "text": "count"
         }
        }
       }
      }
     },
     "metadata": {},
     "output_type": "display_data"
    }
   ],
   "source": [
    "# plot for count of track listened\n",
    "month = df_songs['month'].value_counts().sort_index(ascending=True)\n",
    "# month\n",
    "\n",
    "months = ['Jan', 'Feb', 'Mar', 'Apr', 'May', 'Jun', 'July', 'Aug', 'Sept', 'Oct', 'Nov', 'Dec']\n",
    "\n",
    "fig = go.Figure(\n",
    "    data=[\n",
    "        go.Bar(\n",
    "            x = months, \n",
    "            y = month.values,\n",
    "            marker = {\n",
    "                'color' : month.values\n",
    "            },\n",
    "            text = months,\n",
    "            textposition = 'inside'\n",
    "        )\n",
    "    ]\n",
    ")\n",
    "fig.update_layout(\n",
    "    title_text='Count of songs listened as per month',\n",
    "    barmode='group', \n",
    "    xaxis_title = \"month\",\n",
    "    yaxis_title = \"count\",\n",
    "    height = 800,\n",
    "    width = 1210,\n",
    "    hovermode = 'x'\n",
    ")\n",
    "fig.show()"
   ]
  },
  {
   "cell_type": "code",
   "execution_count": 9,
   "metadata": {},
   "outputs": [
    {
     "data": {
      "application/vnd.plotly.v1+json": {
       "config": {
        "plotlyServerURL": "https://plot.ly"
       },
       "data": [
        {
         "marker": {
          "color": [
           66,
           42,
           32,
           29,
           36,
           48,
           44,
           38,
           57,
           36,
           40,
           42,
           42,
           56,
           33,
           33,
           36,
           42,
           26,
           43,
           39,
           30,
           32,
           33,
           24,
           30,
           60,
           29,
           41,
           53,
           13
          ]
         },
         "text": [
          66,
          42,
          32,
          29,
          36,
          48,
          44,
          38,
          57,
          36,
          40,
          42,
          42,
          56,
          33,
          33,
          36,
          42,
          26,
          43,
          39,
          30,
          32,
          33,
          24,
          30,
          60,
          29,
          41,
          53,
          13
         ],
         "textposition": "inside",
         "type": "bar",
         "x": [
          1,
          2,
          3,
          4,
          5,
          6,
          7,
          8,
          9,
          10,
          11,
          12,
          13,
          14,
          15,
          16,
          17,
          18,
          19,
          20,
          21,
          22,
          23,
          24,
          25,
          26,
          27,
          28,
          29,
          30,
          31
         ],
         "y": [
          66,
          42,
          32,
          29,
          36,
          48,
          44,
          38,
          57,
          36,
          40,
          42,
          42,
          56,
          33,
          33,
          36,
          42,
          26,
          43,
          39,
          30,
          32,
          33,
          24,
          30,
          60,
          29,
          41,
          53,
          13
         ]
        }
       ],
       "layout": {
        "barmode": "group",
        "height": 800,
        "hovermode": "x",
        "template": {
         "data": {
          "bar": [
           {
            "error_x": {
             "color": "#2a3f5f"
            },
            "error_y": {
             "color": "#2a3f5f"
            },
            "marker": {
             "line": {
              "color": "#E5ECF6",
              "width": 0.5
             },
             "pattern": {
              "fillmode": "overlay",
              "size": 10,
              "solidity": 0.2
             }
            },
            "type": "bar"
           }
          ],
          "barpolar": [
           {
            "marker": {
             "line": {
              "color": "#E5ECF6",
              "width": 0.5
             },
             "pattern": {
              "fillmode": "overlay",
              "size": 10,
              "solidity": 0.2
             }
            },
            "type": "barpolar"
           }
          ],
          "carpet": [
           {
            "aaxis": {
             "endlinecolor": "#2a3f5f",
             "gridcolor": "white",
             "linecolor": "white",
             "minorgridcolor": "white",
             "startlinecolor": "#2a3f5f"
            },
            "baxis": {
             "endlinecolor": "#2a3f5f",
             "gridcolor": "white",
             "linecolor": "white",
             "minorgridcolor": "white",
             "startlinecolor": "#2a3f5f"
            },
            "type": "carpet"
           }
          ],
          "choropleth": [
           {
            "colorbar": {
             "outlinewidth": 0,
             "ticks": ""
            },
            "type": "choropleth"
           }
          ],
          "contour": [
           {
            "colorbar": {
             "outlinewidth": 0,
             "ticks": ""
            },
            "colorscale": [
             [
              0,
              "#0d0887"
             ],
             [
              0.1111111111111111,
              "#46039f"
             ],
             [
              0.2222222222222222,
              "#7201a8"
             ],
             [
              0.3333333333333333,
              "#9c179e"
             ],
             [
              0.4444444444444444,
              "#bd3786"
             ],
             [
              0.5555555555555556,
              "#d8576b"
             ],
             [
              0.6666666666666666,
              "#ed7953"
             ],
             [
              0.7777777777777778,
              "#fb9f3a"
             ],
             [
              0.8888888888888888,
              "#fdca26"
             ],
             [
              1,
              "#f0f921"
             ]
            ],
            "type": "contour"
           }
          ],
          "contourcarpet": [
           {
            "colorbar": {
             "outlinewidth": 0,
             "ticks": ""
            },
            "type": "contourcarpet"
           }
          ],
          "heatmap": [
           {
            "colorbar": {
             "outlinewidth": 0,
             "ticks": ""
            },
            "colorscale": [
             [
              0,
              "#0d0887"
             ],
             [
              0.1111111111111111,
              "#46039f"
             ],
             [
              0.2222222222222222,
              "#7201a8"
             ],
             [
              0.3333333333333333,
              "#9c179e"
             ],
             [
              0.4444444444444444,
              "#bd3786"
             ],
             [
              0.5555555555555556,
              "#d8576b"
             ],
             [
              0.6666666666666666,
              "#ed7953"
             ],
             [
              0.7777777777777778,
              "#fb9f3a"
             ],
             [
              0.8888888888888888,
              "#fdca26"
             ],
             [
              1,
              "#f0f921"
             ]
            ],
            "type": "heatmap"
           }
          ],
          "heatmapgl": [
           {
            "colorbar": {
             "outlinewidth": 0,
             "ticks": ""
            },
            "colorscale": [
             [
              0,
              "#0d0887"
             ],
             [
              0.1111111111111111,
              "#46039f"
             ],
             [
              0.2222222222222222,
              "#7201a8"
             ],
             [
              0.3333333333333333,
              "#9c179e"
             ],
             [
              0.4444444444444444,
              "#bd3786"
             ],
             [
              0.5555555555555556,
              "#d8576b"
             ],
             [
              0.6666666666666666,
              "#ed7953"
             ],
             [
              0.7777777777777778,
              "#fb9f3a"
             ],
             [
              0.8888888888888888,
              "#fdca26"
             ],
             [
              1,
              "#f0f921"
             ]
            ],
            "type": "heatmapgl"
           }
          ],
          "histogram": [
           {
            "marker": {
             "pattern": {
              "fillmode": "overlay",
              "size": 10,
              "solidity": 0.2
             }
            },
            "type": "histogram"
           }
          ],
          "histogram2d": [
           {
            "colorbar": {
             "outlinewidth": 0,
             "ticks": ""
            },
            "colorscale": [
             [
              0,
              "#0d0887"
             ],
             [
              0.1111111111111111,
              "#46039f"
             ],
             [
              0.2222222222222222,
              "#7201a8"
             ],
             [
              0.3333333333333333,
              "#9c179e"
             ],
             [
              0.4444444444444444,
              "#bd3786"
             ],
             [
              0.5555555555555556,
              "#d8576b"
             ],
             [
              0.6666666666666666,
              "#ed7953"
             ],
             [
              0.7777777777777778,
              "#fb9f3a"
             ],
             [
              0.8888888888888888,
              "#fdca26"
             ],
             [
              1,
              "#f0f921"
             ]
            ],
            "type": "histogram2d"
           }
          ],
          "histogram2dcontour": [
           {
            "colorbar": {
             "outlinewidth": 0,
             "ticks": ""
            },
            "colorscale": [
             [
              0,
              "#0d0887"
             ],
             [
              0.1111111111111111,
              "#46039f"
             ],
             [
              0.2222222222222222,
              "#7201a8"
             ],
             [
              0.3333333333333333,
              "#9c179e"
             ],
             [
              0.4444444444444444,
              "#bd3786"
             ],
             [
              0.5555555555555556,
              "#d8576b"
             ],
             [
              0.6666666666666666,
              "#ed7953"
             ],
             [
              0.7777777777777778,
              "#fb9f3a"
             ],
             [
              0.8888888888888888,
              "#fdca26"
             ],
             [
              1,
              "#f0f921"
             ]
            ],
            "type": "histogram2dcontour"
           }
          ],
          "mesh3d": [
           {
            "colorbar": {
             "outlinewidth": 0,
             "ticks": ""
            },
            "type": "mesh3d"
           }
          ],
          "parcoords": [
           {
            "line": {
             "colorbar": {
              "outlinewidth": 0,
              "ticks": ""
             }
            },
            "type": "parcoords"
           }
          ],
          "pie": [
           {
            "automargin": true,
            "type": "pie"
           }
          ],
          "scatter": [
           {
            "marker": {
             "colorbar": {
              "outlinewidth": 0,
              "ticks": ""
             }
            },
            "type": "scatter"
           }
          ],
          "scatter3d": [
           {
            "line": {
             "colorbar": {
              "outlinewidth": 0,
              "ticks": ""
             }
            },
            "marker": {
             "colorbar": {
              "outlinewidth": 0,
              "ticks": ""
             }
            },
            "type": "scatter3d"
           }
          ],
          "scattercarpet": [
           {
            "marker": {
             "colorbar": {
              "outlinewidth": 0,
              "ticks": ""
             }
            },
            "type": "scattercarpet"
           }
          ],
          "scattergeo": [
           {
            "marker": {
             "colorbar": {
              "outlinewidth": 0,
              "ticks": ""
             }
            },
            "type": "scattergeo"
           }
          ],
          "scattergl": [
           {
            "marker": {
             "colorbar": {
              "outlinewidth": 0,
              "ticks": ""
             }
            },
            "type": "scattergl"
           }
          ],
          "scattermapbox": [
           {
            "marker": {
             "colorbar": {
              "outlinewidth": 0,
              "ticks": ""
             }
            },
            "type": "scattermapbox"
           }
          ],
          "scatterpolar": [
           {
            "marker": {
             "colorbar": {
              "outlinewidth": 0,
              "ticks": ""
             }
            },
            "type": "scatterpolar"
           }
          ],
          "scatterpolargl": [
           {
            "marker": {
             "colorbar": {
              "outlinewidth": 0,
              "ticks": ""
             }
            },
            "type": "scatterpolargl"
           }
          ],
          "scatterternary": [
           {
            "marker": {
             "colorbar": {
              "outlinewidth": 0,
              "ticks": ""
             }
            },
            "type": "scatterternary"
           }
          ],
          "surface": [
           {
            "colorbar": {
             "outlinewidth": 0,
             "ticks": ""
            },
            "colorscale": [
             [
              0,
              "#0d0887"
             ],
             [
              0.1111111111111111,
              "#46039f"
             ],
             [
              0.2222222222222222,
              "#7201a8"
             ],
             [
              0.3333333333333333,
              "#9c179e"
             ],
             [
              0.4444444444444444,
              "#bd3786"
             ],
             [
              0.5555555555555556,
              "#d8576b"
             ],
             [
              0.6666666666666666,
              "#ed7953"
             ],
             [
              0.7777777777777778,
              "#fb9f3a"
             ],
             [
              0.8888888888888888,
              "#fdca26"
             ],
             [
              1,
              "#f0f921"
             ]
            ],
            "type": "surface"
           }
          ],
          "table": [
           {
            "cells": {
             "fill": {
              "color": "#EBF0F8"
             },
             "line": {
              "color": "white"
             }
            },
            "header": {
             "fill": {
              "color": "#C8D4E3"
             },
             "line": {
              "color": "white"
             }
            },
            "type": "table"
           }
          ]
         },
         "layout": {
          "annotationdefaults": {
           "arrowcolor": "#2a3f5f",
           "arrowhead": 0,
           "arrowwidth": 1
          },
          "autotypenumbers": "strict",
          "coloraxis": {
           "colorbar": {
            "outlinewidth": 0,
            "ticks": ""
           }
          },
          "colorscale": {
           "diverging": [
            [
             0,
             "#8e0152"
            ],
            [
             0.1,
             "#c51b7d"
            ],
            [
             0.2,
             "#de77ae"
            ],
            [
             0.3,
             "#f1b6da"
            ],
            [
             0.4,
             "#fde0ef"
            ],
            [
             0.5,
             "#f7f7f7"
            ],
            [
             0.6,
             "#e6f5d0"
            ],
            [
             0.7,
             "#b8e186"
            ],
            [
             0.8,
             "#7fbc41"
            ],
            [
             0.9,
             "#4d9221"
            ],
            [
             1,
             "#276419"
            ]
           ],
           "sequential": [
            [
             0,
             "#0d0887"
            ],
            [
             0.1111111111111111,
             "#46039f"
            ],
            [
             0.2222222222222222,
             "#7201a8"
            ],
            [
             0.3333333333333333,
             "#9c179e"
            ],
            [
             0.4444444444444444,
             "#bd3786"
            ],
            [
             0.5555555555555556,
             "#d8576b"
            ],
            [
             0.6666666666666666,
             "#ed7953"
            ],
            [
             0.7777777777777778,
             "#fb9f3a"
            ],
            [
             0.8888888888888888,
             "#fdca26"
            ],
            [
             1,
             "#f0f921"
            ]
           ],
           "sequentialminus": [
            [
             0,
             "#0d0887"
            ],
            [
             0.1111111111111111,
             "#46039f"
            ],
            [
             0.2222222222222222,
             "#7201a8"
            ],
            [
             0.3333333333333333,
             "#9c179e"
            ],
            [
             0.4444444444444444,
             "#bd3786"
            ],
            [
             0.5555555555555556,
             "#d8576b"
            ],
            [
             0.6666666666666666,
             "#ed7953"
            ],
            [
             0.7777777777777778,
             "#fb9f3a"
            ],
            [
             0.8888888888888888,
             "#fdca26"
            ],
            [
             1,
             "#f0f921"
            ]
           ]
          },
          "colorway": [
           "#636efa",
           "#EF553B",
           "#00cc96",
           "#ab63fa",
           "#FFA15A",
           "#19d3f3",
           "#FF6692",
           "#B6E880",
           "#FF97FF",
           "#FECB52"
          ],
          "font": {
           "color": "#2a3f5f"
          },
          "geo": {
           "bgcolor": "white",
           "lakecolor": "white",
           "landcolor": "#E5ECF6",
           "showlakes": true,
           "showland": true,
           "subunitcolor": "white"
          },
          "hoverlabel": {
           "align": "left"
          },
          "hovermode": "closest",
          "mapbox": {
           "style": "light"
          },
          "paper_bgcolor": "white",
          "plot_bgcolor": "#E5ECF6",
          "polar": {
           "angularaxis": {
            "gridcolor": "white",
            "linecolor": "white",
            "ticks": ""
           },
           "bgcolor": "#E5ECF6",
           "radialaxis": {
            "gridcolor": "white",
            "linecolor": "white",
            "ticks": ""
           }
          },
          "scene": {
           "xaxis": {
            "backgroundcolor": "#E5ECF6",
            "gridcolor": "white",
            "gridwidth": 2,
            "linecolor": "white",
            "showbackground": true,
            "ticks": "",
            "zerolinecolor": "white"
           },
           "yaxis": {
            "backgroundcolor": "#E5ECF6",
            "gridcolor": "white",
            "gridwidth": 2,
            "linecolor": "white",
            "showbackground": true,
            "ticks": "",
            "zerolinecolor": "white"
           },
           "zaxis": {
            "backgroundcolor": "#E5ECF6",
            "gridcolor": "white",
            "gridwidth": 2,
            "linecolor": "white",
            "showbackground": true,
            "ticks": "",
            "zerolinecolor": "white"
           }
          },
          "shapedefaults": {
           "line": {
            "color": "#2a3f5f"
           }
          },
          "ternary": {
           "aaxis": {
            "gridcolor": "white",
            "linecolor": "white",
            "ticks": ""
           },
           "baxis": {
            "gridcolor": "white",
            "linecolor": "white",
            "ticks": ""
           },
           "bgcolor": "#E5ECF6",
           "caxis": {
            "gridcolor": "white",
            "linecolor": "white",
            "ticks": ""
           }
          },
          "title": {
           "x": 0.05
          },
          "xaxis": {
           "automargin": true,
           "gridcolor": "white",
           "linecolor": "white",
           "ticks": "",
           "title": {
            "standoff": 15
           },
           "zerolinecolor": "white",
           "zerolinewidth": 2
          },
          "yaxis": {
           "automargin": true,
           "gridcolor": "white",
           "linecolor": "white",
           "ticks": "",
           "title": {
            "standoff": 15
           },
           "zerolinecolor": "white",
           "zerolinewidth": 2
          }
         }
        },
        "title": {
         "text": "Count of songs released as per days"
        },
        "width": 1210,
        "xaxis": {
         "title": {
          "text": "month"
         }
        },
        "yaxis": {
         "title": {
          "text": "count"
         }
        }
       }
      }
     },
     "metadata": {},
     "output_type": "display_data"
    }
   ],
   "source": [
    "# plot for count of track listened\n",
    "day = df_songs['day'].value_counts().sort_index(ascending=True)\n",
    "# day\n",
    "\n",
    "days = ['1st', '2nd', '3rd', '4th', '5th', '6th', 'July', 'Aug', 'Sept', 'Oct', 'Nov', 'Dec']\n",
    "\n",
    "fig = go.Figure(\n",
    "    data=[\n",
    "        go.Bar(\n",
    "            x = day.index, \n",
    "            y = day.values,\n",
    "            marker = {\n",
    "                'color' : day.values\n",
    "            },\n",
    "            text = day,\n",
    "            textposition = 'inside'\n",
    "        )\n",
    "    ]\n",
    ")\n",
    "fig.update_layout(\n",
    "    title_text='Count of songs released as per days',\n",
    "    barmode='group', \n",
    "    xaxis_title = \"month\",\n",
    "    yaxis_title = \"count\",\n",
    "    height = 800,\n",
    "    width = 1210,\n",
    "    hovermode = 'x'\n",
    ")\n",
    "fig.show()"
   ]
  },
  {
   "cell_type": "code",
   "execution_count": 10,
   "metadata": {},
   "outputs": [
    {
     "data": {
      "application/vnd.plotly.v1+json": {
       "config": {
        "plotlyServerURL": "https://plot.ly"
       },
       "data": [
        {
         "hole": 0.3,
         "hoverinfo": "label+percent",
         "labels": [
          false,
          true
         ],
         "marker": {
          "colors": [
           "lightgreen",
           "red"
          ],
          "line": {
           "color": "#000000",
           "width": 2
          }
         },
         "textfont": {
          "size": 20
         },
         "textinfo": "value",
         "type": "pie",
         "values": [
          877,
          328
         ]
        }
       ],
       "layout": {
        "height": 600,
        "hovermode": "x",
        "template": {
         "data": {
          "bar": [
           {
            "error_x": {
             "color": "#2a3f5f"
            },
            "error_y": {
             "color": "#2a3f5f"
            },
            "marker": {
             "line": {
              "color": "#E5ECF6",
              "width": 0.5
             },
             "pattern": {
              "fillmode": "overlay",
              "size": 10,
              "solidity": 0.2
             }
            },
            "type": "bar"
           }
          ],
          "barpolar": [
           {
            "marker": {
             "line": {
              "color": "#E5ECF6",
              "width": 0.5
             },
             "pattern": {
              "fillmode": "overlay",
              "size": 10,
              "solidity": 0.2
             }
            },
            "type": "barpolar"
           }
          ],
          "carpet": [
           {
            "aaxis": {
             "endlinecolor": "#2a3f5f",
             "gridcolor": "white",
             "linecolor": "white",
             "minorgridcolor": "white",
             "startlinecolor": "#2a3f5f"
            },
            "baxis": {
             "endlinecolor": "#2a3f5f",
             "gridcolor": "white",
             "linecolor": "white",
             "minorgridcolor": "white",
             "startlinecolor": "#2a3f5f"
            },
            "type": "carpet"
           }
          ],
          "choropleth": [
           {
            "colorbar": {
             "outlinewidth": 0,
             "ticks": ""
            },
            "type": "choropleth"
           }
          ],
          "contour": [
           {
            "colorbar": {
             "outlinewidth": 0,
             "ticks": ""
            },
            "colorscale": [
             [
              0,
              "#0d0887"
             ],
             [
              0.1111111111111111,
              "#46039f"
             ],
             [
              0.2222222222222222,
              "#7201a8"
             ],
             [
              0.3333333333333333,
              "#9c179e"
             ],
             [
              0.4444444444444444,
              "#bd3786"
             ],
             [
              0.5555555555555556,
              "#d8576b"
             ],
             [
              0.6666666666666666,
              "#ed7953"
             ],
             [
              0.7777777777777778,
              "#fb9f3a"
             ],
             [
              0.8888888888888888,
              "#fdca26"
             ],
             [
              1,
              "#f0f921"
             ]
            ],
            "type": "contour"
           }
          ],
          "contourcarpet": [
           {
            "colorbar": {
             "outlinewidth": 0,
             "ticks": ""
            },
            "type": "contourcarpet"
           }
          ],
          "heatmap": [
           {
            "colorbar": {
             "outlinewidth": 0,
             "ticks": ""
            },
            "colorscale": [
             [
              0,
              "#0d0887"
             ],
             [
              0.1111111111111111,
              "#46039f"
             ],
             [
              0.2222222222222222,
              "#7201a8"
             ],
             [
              0.3333333333333333,
              "#9c179e"
             ],
             [
              0.4444444444444444,
              "#bd3786"
             ],
             [
              0.5555555555555556,
              "#d8576b"
             ],
             [
              0.6666666666666666,
              "#ed7953"
             ],
             [
              0.7777777777777778,
              "#fb9f3a"
             ],
             [
              0.8888888888888888,
              "#fdca26"
             ],
             [
              1,
              "#f0f921"
             ]
            ],
            "type": "heatmap"
           }
          ],
          "heatmapgl": [
           {
            "colorbar": {
             "outlinewidth": 0,
             "ticks": ""
            },
            "colorscale": [
             [
              0,
              "#0d0887"
             ],
             [
              0.1111111111111111,
              "#46039f"
             ],
             [
              0.2222222222222222,
              "#7201a8"
             ],
             [
              0.3333333333333333,
              "#9c179e"
             ],
             [
              0.4444444444444444,
              "#bd3786"
             ],
             [
              0.5555555555555556,
              "#d8576b"
             ],
             [
              0.6666666666666666,
              "#ed7953"
             ],
             [
              0.7777777777777778,
              "#fb9f3a"
             ],
             [
              0.8888888888888888,
              "#fdca26"
             ],
             [
              1,
              "#f0f921"
             ]
            ],
            "type": "heatmapgl"
           }
          ],
          "histogram": [
           {
            "marker": {
             "pattern": {
              "fillmode": "overlay",
              "size": 10,
              "solidity": 0.2
             }
            },
            "type": "histogram"
           }
          ],
          "histogram2d": [
           {
            "colorbar": {
             "outlinewidth": 0,
             "ticks": ""
            },
            "colorscale": [
             [
              0,
              "#0d0887"
             ],
             [
              0.1111111111111111,
              "#46039f"
             ],
             [
              0.2222222222222222,
              "#7201a8"
             ],
             [
              0.3333333333333333,
              "#9c179e"
             ],
             [
              0.4444444444444444,
              "#bd3786"
             ],
             [
              0.5555555555555556,
              "#d8576b"
             ],
             [
              0.6666666666666666,
              "#ed7953"
             ],
             [
              0.7777777777777778,
              "#fb9f3a"
             ],
             [
              0.8888888888888888,
              "#fdca26"
             ],
             [
              1,
              "#f0f921"
             ]
            ],
            "type": "histogram2d"
           }
          ],
          "histogram2dcontour": [
           {
            "colorbar": {
             "outlinewidth": 0,
             "ticks": ""
            },
            "colorscale": [
             [
              0,
              "#0d0887"
             ],
             [
              0.1111111111111111,
              "#46039f"
             ],
             [
              0.2222222222222222,
              "#7201a8"
             ],
             [
              0.3333333333333333,
              "#9c179e"
             ],
             [
              0.4444444444444444,
              "#bd3786"
             ],
             [
              0.5555555555555556,
              "#d8576b"
             ],
             [
              0.6666666666666666,
              "#ed7953"
             ],
             [
              0.7777777777777778,
              "#fb9f3a"
             ],
             [
              0.8888888888888888,
              "#fdca26"
             ],
             [
              1,
              "#f0f921"
             ]
            ],
            "type": "histogram2dcontour"
           }
          ],
          "mesh3d": [
           {
            "colorbar": {
             "outlinewidth": 0,
             "ticks": ""
            },
            "type": "mesh3d"
           }
          ],
          "parcoords": [
           {
            "line": {
             "colorbar": {
              "outlinewidth": 0,
              "ticks": ""
             }
            },
            "type": "parcoords"
           }
          ],
          "pie": [
           {
            "automargin": true,
            "type": "pie"
           }
          ],
          "scatter": [
           {
            "marker": {
             "colorbar": {
              "outlinewidth": 0,
              "ticks": ""
             }
            },
            "type": "scatter"
           }
          ],
          "scatter3d": [
           {
            "line": {
             "colorbar": {
              "outlinewidth": 0,
              "ticks": ""
             }
            },
            "marker": {
             "colorbar": {
              "outlinewidth": 0,
              "ticks": ""
             }
            },
            "type": "scatter3d"
           }
          ],
          "scattercarpet": [
           {
            "marker": {
             "colorbar": {
              "outlinewidth": 0,
              "ticks": ""
             }
            },
            "type": "scattercarpet"
           }
          ],
          "scattergeo": [
           {
            "marker": {
             "colorbar": {
              "outlinewidth": 0,
              "ticks": ""
             }
            },
            "type": "scattergeo"
           }
          ],
          "scattergl": [
           {
            "marker": {
             "colorbar": {
              "outlinewidth": 0,
              "ticks": ""
             }
            },
            "type": "scattergl"
           }
          ],
          "scattermapbox": [
           {
            "marker": {
             "colorbar": {
              "outlinewidth": 0,
              "ticks": ""
             }
            },
            "type": "scattermapbox"
           }
          ],
          "scatterpolar": [
           {
            "marker": {
             "colorbar": {
              "outlinewidth": 0,
              "ticks": ""
             }
            },
            "type": "scatterpolar"
           }
          ],
          "scatterpolargl": [
           {
            "marker": {
             "colorbar": {
              "outlinewidth": 0,
              "ticks": ""
             }
            },
            "type": "scatterpolargl"
           }
          ],
          "scatterternary": [
           {
            "marker": {
             "colorbar": {
              "outlinewidth": 0,
              "ticks": ""
             }
            },
            "type": "scatterternary"
           }
          ],
          "surface": [
           {
            "colorbar": {
             "outlinewidth": 0,
             "ticks": ""
            },
            "colorscale": [
             [
              0,
              "#0d0887"
             ],
             [
              0.1111111111111111,
              "#46039f"
             ],
             [
              0.2222222222222222,
              "#7201a8"
             ],
             [
              0.3333333333333333,
              "#9c179e"
             ],
             [
              0.4444444444444444,
              "#bd3786"
             ],
             [
              0.5555555555555556,
              "#d8576b"
             ],
             [
              0.6666666666666666,
              "#ed7953"
             ],
             [
              0.7777777777777778,
              "#fb9f3a"
             ],
             [
              0.8888888888888888,
              "#fdca26"
             ],
             [
              1,
              "#f0f921"
             ]
            ],
            "type": "surface"
           }
          ],
          "table": [
           {
            "cells": {
             "fill": {
              "color": "#EBF0F8"
             },
             "line": {
              "color": "white"
             }
            },
            "header": {
             "fill": {
              "color": "#C8D4E3"
             },
             "line": {
              "color": "white"
             }
            },
            "type": "table"
           }
          ]
         },
         "layout": {
          "annotationdefaults": {
           "arrowcolor": "#2a3f5f",
           "arrowhead": 0,
           "arrowwidth": 1
          },
          "autotypenumbers": "strict",
          "coloraxis": {
           "colorbar": {
            "outlinewidth": 0,
            "ticks": ""
           }
          },
          "colorscale": {
           "diverging": [
            [
             0,
             "#8e0152"
            ],
            [
             0.1,
             "#c51b7d"
            ],
            [
             0.2,
             "#de77ae"
            ],
            [
             0.3,
             "#f1b6da"
            ],
            [
             0.4,
             "#fde0ef"
            ],
            [
             0.5,
             "#f7f7f7"
            ],
            [
             0.6,
             "#e6f5d0"
            ],
            [
             0.7,
             "#b8e186"
            ],
            [
             0.8,
             "#7fbc41"
            ],
            [
             0.9,
             "#4d9221"
            ],
            [
             1,
             "#276419"
            ]
           ],
           "sequential": [
            [
             0,
             "#0d0887"
            ],
            [
             0.1111111111111111,
             "#46039f"
            ],
            [
             0.2222222222222222,
             "#7201a8"
            ],
            [
             0.3333333333333333,
             "#9c179e"
            ],
            [
             0.4444444444444444,
             "#bd3786"
            ],
            [
             0.5555555555555556,
             "#d8576b"
            ],
            [
             0.6666666666666666,
             "#ed7953"
            ],
            [
             0.7777777777777778,
             "#fb9f3a"
            ],
            [
             0.8888888888888888,
             "#fdca26"
            ],
            [
             1,
             "#f0f921"
            ]
           ],
           "sequentialminus": [
            [
             0,
             "#0d0887"
            ],
            [
             0.1111111111111111,
             "#46039f"
            ],
            [
             0.2222222222222222,
             "#7201a8"
            ],
            [
             0.3333333333333333,
             "#9c179e"
            ],
            [
             0.4444444444444444,
             "#bd3786"
            ],
            [
             0.5555555555555556,
             "#d8576b"
            ],
            [
             0.6666666666666666,
             "#ed7953"
            ],
            [
             0.7777777777777778,
             "#fb9f3a"
            ],
            [
             0.8888888888888888,
             "#fdca26"
            ],
            [
             1,
             "#f0f921"
            ]
           ]
          },
          "colorway": [
           "#636efa",
           "#EF553B",
           "#00cc96",
           "#ab63fa",
           "#FFA15A",
           "#19d3f3",
           "#FF6692",
           "#B6E880",
           "#FF97FF",
           "#FECB52"
          ],
          "font": {
           "color": "#2a3f5f"
          },
          "geo": {
           "bgcolor": "white",
           "lakecolor": "white",
           "landcolor": "#E5ECF6",
           "showlakes": true,
           "showland": true,
           "subunitcolor": "white"
          },
          "hoverlabel": {
           "align": "left"
          },
          "hovermode": "closest",
          "mapbox": {
           "style": "light"
          },
          "paper_bgcolor": "white",
          "plot_bgcolor": "#E5ECF6",
          "polar": {
           "angularaxis": {
            "gridcolor": "white",
            "linecolor": "white",
            "ticks": ""
           },
           "bgcolor": "#E5ECF6",
           "radialaxis": {
            "gridcolor": "white",
            "linecolor": "white",
            "ticks": ""
           }
          },
          "scene": {
           "xaxis": {
            "backgroundcolor": "#E5ECF6",
            "gridcolor": "white",
            "gridwidth": 2,
            "linecolor": "white",
            "showbackground": true,
            "ticks": "",
            "zerolinecolor": "white"
           },
           "yaxis": {
            "backgroundcolor": "#E5ECF6",
            "gridcolor": "white",
            "gridwidth": 2,
            "linecolor": "white",
            "showbackground": true,
            "ticks": "",
            "zerolinecolor": "white"
           },
           "zaxis": {
            "backgroundcolor": "#E5ECF6",
            "gridcolor": "white",
            "gridwidth": 2,
            "linecolor": "white",
            "showbackground": true,
            "ticks": "",
            "zerolinecolor": "white"
           }
          },
          "shapedefaults": {
           "line": {
            "color": "#2a3f5f"
           }
          },
          "ternary": {
           "aaxis": {
            "gridcolor": "white",
            "linecolor": "white",
            "ticks": ""
           },
           "baxis": {
            "gridcolor": "white",
            "linecolor": "white",
            "ticks": ""
           },
           "bgcolor": "#E5ECF6",
           "caxis": {
            "gridcolor": "white",
            "linecolor": "white",
            "ticks": ""
           }
          },
          "title": {
           "x": 0.05
          },
          "xaxis": {
           "automargin": true,
           "gridcolor": "white",
           "linecolor": "white",
           "ticks": "",
           "title": {
            "standoff": 15
           },
           "zerolinecolor": "white",
           "zerolinewidth": 2
          },
          "yaxis": {
           "automargin": true,
           "gridcolor": "white",
           "linecolor": "white",
           "ticks": "",
           "title": {
            "standoff": 15
           },
           "zerolinecolor": "white",
           "zerolinewidth": 2
          }
         }
        },
        "title": {
         "text": "Explicit songs distribution"
        },
        "width": 900
       }
      }
     },
     "metadata": {},
     "output_type": "display_data"
    }
   ],
   "source": [
    "explicit_content = df_songs['explicit'].value_counts().sort_index(ascending=True)\n",
    "colors = ['lightgreen', 'red']\n",
    "\n",
    "labels = explicit_content.index\n",
    "values = explicit_content.values\n",
    "\n",
    "fig = go.Figure(\n",
    "    data=[\n",
    "        go.Pie(\n",
    "            labels=labels, \n",
    "            values=values,\n",
    "            hole=.3\n",
    "        )\n",
    "    ]\n",
    ")\n",
    "fig.update_layout(\n",
    "    title_text='Explicit songs distribution',\n",
    "    height = 600,\n",
    "    width = 900,\n",
    "    hovermode = 'x'\n",
    ")\n",
    "fig.update_traces(\n",
    "    hoverinfo='label+percent', \n",
    "    textinfo='value', \n",
    "    textfont_size=20,\n",
    "    marker=dict(\n",
    "        colors = colors, \n",
    "        line=dict(\n",
    "            color='#000000', width=2\n",
    "            )\n",
    "        )\n",
    "    )\n",
    "fig.show()"
   ]
  },
  {
   "cell_type": "code",
   "execution_count": 11,
   "metadata": {},
   "outputs": [
    {
     "data": {
      "application/vnd.plotly.v1+json": {
       "config": {
        "plotlyServerURL": "https://plot.ly"
       },
       "data": [
        {
         "coloraxis": "coloraxis",
         "hovertemplate": "x: %{x}<br>y: %{y}<br>Correlation: %{z}<extra></extra>",
         "name": "0",
         "type": "heatmap",
         "x": [
          "danceability",
          "energy",
          "loudness",
          "speechiness",
          "acousticness",
          "instrumentalness",
          "liveness",
          "valence",
          "tempo"
         ],
         "xaxis": "x",
         "y": [
          "danceability",
          "energy",
          "loudness",
          "speechiness",
          "acousticness",
          "instrumentalness",
          "liveness",
          "valence",
          "tempo"
         ],
         "yaxis": "y",
         "z": [
          [
           1,
           0.006796875042739997,
           0.09433762552043867,
           0.17684922209063544,
           -0.05473881902906193,
           0.047321427936135106,
           -0.08912312364250671,
           0.39003920991749924,
           -0.14054143191322593
          ],
          [
           0.006796875042739997,
           1,
           0.6815246942547838,
           0.042505516297822295,
           -0.4897928164823277,
           0.014354842954758034,
           0.08155381103440022,
           0.34551599271913663,
           0.10687831050080035
          ],
          [
           0.09433762552043867,
           0.6815246942547838,
           1,
           0.015033039850803915,
           -0.3487317127975966,
           -0.16998021237166883,
           0.04141931984342318,
           0.277211797697051,
           0.04922641797207162
          ],
          [
           0.17684922209063544,
           0.042505516297822295,
           0.015033039850803915,
           1,
           0.055087929349139385,
           -0.1535884627552919,
           0.0008440772424146428,
           0.09228066581638898,
           0.04037872214807522
          ],
          [
           -0.05473881902906193,
           -0.4897928164823277,
           -0.3487317127975966,
           0.055087929349139385,
           1,
           -0.046369064688666625,
           -0.0680799729369614,
           -0.11352196689383254,
           -0.13398958761811885
          ],
          [
           0.047321427936135106,
           0.014354842954758034,
           -0.16998021237166883,
           -0.1535884627552919,
           -0.046369064688666625,
           1,
           -0.05510737140790039,
           -0.010506111842822916,
           0.017978756568880053
          ],
          [
           -0.08912312364250671,
           0.08155381103440022,
           0.04141931984342318,
           0.0008440772424146428,
           -0.0680799729369614,
           -0.05510737140790039,
           1,
           -0.024574725013203035,
           0.02829016431483584
          ],
          [
           0.39003920991749924,
           0.34551599271913663,
           0.277211797697051,
           0.09228066581638898,
           -0.11352196689383254,
           -0.010506111842822916,
           -0.024574725013203035,
           1,
           0.020713204662170154
          ],
          [
           -0.14054143191322593,
           0.10687831050080035,
           0.04922641797207162,
           0.04037872214807522,
           -0.13398958761811885,
           0.017978756568880053,
           0.02829016431483584,
           0.020713204662170154,
           1
          ]
         ]
        }
       ],
       "layout": {
        "coloraxis": {
         "colorbar": {
          "title": {
           "text": "Correlation"
          }
         },
         "colorscale": [
          [
           0,
           "#0d0887"
          ],
          [
           0.1111111111111111,
           "#46039f"
          ],
          [
           0.2222222222222222,
           "#7201a8"
          ],
          [
           0.3333333333333333,
           "#9c179e"
          ],
          [
           0.4444444444444444,
           "#bd3786"
          ],
          [
           0.5555555555555556,
           "#d8576b"
          ],
          [
           0.6666666666666666,
           "#ed7953"
          ],
          [
           0.7777777777777778,
           "#fb9f3a"
          ],
          [
           0.8888888888888888,
           "#fdca26"
          ],
          [
           1,
           "#f0f921"
          ]
         ]
        },
        "height": 600,
        "margin": {
         "t": 60
        },
        "template": {
         "data": {
          "bar": [
           {
            "error_x": {
             "color": "#2a3f5f"
            },
            "error_y": {
             "color": "#2a3f5f"
            },
            "marker": {
             "line": {
              "color": "#E5ECF6",
              "width": 0.5
             },
             "pattern": {
              "fillmode": "overlay",
              "size": 10,
              "solidity": 0.2
             }
            },
            "type": "bar"
           }
          ],
          "barpolar": [
           {
            "marker": {
             "line": {
              "color": "#E5ECF6",
              "width": 0.5
             },
             "pattern": {
              "fillmode": "overlay",
              "size": 10,
              "solidity": 0.2
             }
            },
            "type": "barpolar"
           }
          ],
          "carpet": [
           {
            "aaxis": {
             "endlinecolor": "#2a3f5f",
             "gridcolor": "white",
             "linecolor": "white",
             "minorgridcolor": "white",
             "startlinecolor": "#2a3f5f"
            },
            "baxis": {
             "endlinecolor": "#2a3f5f",
             "gridcolor": "white",
             "linecolor": "white",
             "minorgridcolor": "white",
             "startlinecolor": "#2a3f5f"
            },
            "type": "carpet"
           }
          ],
          "choropleth": [
           {
            "colorbar": {
             "outlinewidth": 0,
             "ticks": ""
            },
            "type": "choropleth"
           }
          ],
          "contour": [
           {
            "colorbar": {
             "outlinewidth": 0,
             "ticks": ""
            },
            "colorscale": [
             [
              0,
              "#0d0887"
             ],
             [
              0.1111111111111111,
              "#46039f"
             ],
             [
              0.2222222222222222,
              "#7201a8"
             ],
             [
              0.3333333333333333,
              "#9c179e"
             ],
             [
              0.4444444444444444,
              "#bd3786"
             ],
             [
              0.5555555555555556,
              "#d8576b"
             ],
             [
              0.6666666666666666,
              "#ed7953"
             ],
             [
              0.7777777777777778,
              "#fb9f3a"
             ],
             [
              0.8888888888888888,
              "#fdca26"
             ],
             [
              1,
              "#f0f921"
             ]
            ],
            "type": "contour"
           }
          ],
          "contourcarpet": [
           {
            "colorbar": {
             "outlinewidth": 0,
             "ticks": ""
            },
            "type": "contourcarpet"
           }
          ],
          "heatmap": [
           {
            "colorbar": {
             "outlinewidth": 0,
             "ticks": ""
            },
            "colorscale": [
             [
              0,
              "#0d0887"
             ],
             [
              0.1111111111111111,
              "#46039f"
             ],
             [
              0.2222222222222222,
              "#7201a8"
             ],
             [
              0.3333333333333333,
              "#9c179e"
             ],
             [
              0.4444444444444444,
              "#bd3786"
             ],
             [
              0.5555555555555556,
              "#d8576b"
             ],
             [
              0.6666666666666666,
              "#ed7953"
             ],
             [
              0.7777777777777778,
              "#fb9f3a"
             ],
             [
              0.8888888888888888,
              "#fdca26"
             ],
             [
              1,
              "#f0f921"
             ]
            ],
            "type": "heatmap"
           }
          ],
          "heatmapgl": [
           {
            "colorbar": {
             "outlinewidth": 0,
             "ticks": ""
            },
            "colorscale": [
             [
              0,
              "#0d0887"
             ],
             [
              0.1111111111111111,
              "#46039f"
             ],
             [
              0.2222222222222222,
              "#7201a8"
             ],
             [
              0.3333333333333333,
              "#9c179e"
             ],
             [
              0.4444444444444444,
              "#bd3786"
             ],
             [
              0.5555555555555556,
              "#d8576b"
             ],
             [
              0.6666666666666666,
              "#ed7953"
             ],
             [
              0.7777777777777778,
              "#fb9f3a"
             ],
             [
              0.8888888888888888,
              "#fdca26"
             ],
             [
              1,
              "#f0f921"
             ]
            ],
            "type": "heatmapgl"
           }
          ],
          "histogram": [
           {
            "marker": {
             "pattern": {
              "fillmode": "overlay",
              "size": 10,
              "solidity": 0.2
             }
            },
            "type": "histogram"
           }
          ],
          "histogram2d": [
           {
            "colorbar": {
             "outlinewidth": 0,
             "ticks": ""
            },
            "colorscale": [
             [
              0,
              "#0d0887"
             ],
             [
              0.1111111111111111,
              "#46039f"
             ],
             [
              0.2222222222222222,
              "#7201a8"
             ],
             [
              0.3333333333333333,
              "#9c179e"
             ],
             [
              0.4444444444444444,
              "#bd3786"
             ],
             [
              0.5555555555555556,
              "#d8576b"
             ],
             [
              0.6666666666666666,
              "#ed7953"
             ],
             [
              0.7777777777777778,
              "#fb9f3a"
             ],
             [
              0.8888888888888888,
              "#fdca26"
             ],
             [
              1,
              "#f0f921"
             ]
            ],
            "type": "histogram2d"
           }
          ],
          "histogram2dcontour": [
           {
            "colorbar": {
             "outlinewidth": 0,
             "ticks": ""
            },
            "colorscale": [
             [
              0,
              "#0d0887"
             ],
             [
              0.1111111111111111,
              "#46039f"
             ],
             [
              0.2222222222222222,
              "#7201a8"
             ],
             [
              0.3333333333333333,
              "#9c179e"
             ],
             [
              0.4444444444444444,
              "#bd3786"
             ],
             [
              0.5555555555555556,
              "#d8576b"
             ],
             [
              0.6666666666666666,
              "#ed7953"
             ],
             [
              0.7777777777777778,
              "#fb9f3a"
             ],
             [
              0.8888888888888888,
              "#fdca26"
             ],
             [
              1,
              "#f0f921"
             ]
            ],
            "type": "histogram2dcontour"
           }
          ],
          "mesh3d": [
           {
            "colorbar": {
             "outlinewidth": 0,
             "ticks": ""
            },
            "type": "mesh3d"
           }
          ],
          "parcoords": [
           {
            "line": {
             "colorbar": {
              "outlinewidth": 0,
              "ticks": ""
             }
            },
            "type": "parcoords"
           }
          ],
          "pie": [
           {
            "automargin": true,
            "type": "pie"
           }
          ],
          "scatter": [
           {
            "marker": {
             "colorbar": {
              "outlinewidth": 0,
              "ticks": ""
             }
            },
            "type": "scatter"
           }
          ],
          "scatter3d": [
           {
            "line": {
             "colorbar": {
              "outlinewidth": 0,
              "ticks": ""
             }
            },
            "marker": {
             "colorbar": {
              "outlinewidth": 0,
              "ticks": ""
             }
            },
            "type": "scatter3d"
           }
          ],
          "scattercarpet": [
           {
            "marker": {
             "colorbar": {
              "outlinewidth": 0,
              "ticks": ""
             }
            },
            "type": "scattercarpet"
           }
          ],
          "scattergeo": [
           {
            "marker": {
             "colorbar": {
              "outlinewidth": 0,
              "ticks": ""
             }
            },
            "type": "scattergeo"
           }
          ],
          "scattergl": [
           {
            "marker": {
             "colorbar": {
              "outlinewidth": 0,
              "ticks": ""
             }
            },
            "type": "scattergl"
           }
          ],
          "scattermapbox": [
           {
            "marker": {
             "colorbar": {
              "outlinewidth": 0,
              "ticks": ""
             }
            },
            "type": "scattermapbox"
           }
          ],
          "scatterpolar": [
           {
            "marker": {
             "colorbar": {
              "outlinewidth": 0,
              "ticks": ""
             }
            },
            "type": "scatterpolar"
           }
          ],
          "scatterpolargl": [
           {
            "marker": {
             "colorbar": {
              "outlinewidth": 0,
              "ticks": ""
             }
            },
            "type": "scatterpolargl"
           }
          ],
          "scatterternary": [
           {
            "marker": {
             "colorbar": {
              "outlinewidth": 0,
              "ticks": ""
             }
            },
            "type": "scatterternary"
           }
          ],
          "surface": [
           {
            "colorbar": {
             "outlinewidth": 0,
             "ticks": ""
            },
            "colorscale": [
             [
              0,
              "#0d0887"
             ],
             [
              0.1111111111111111,
              "#46039f"
             ],
             [
              0.2222222222222222,
              "#7201a8"
             ],
             [
              0.3333333333333333,
              "#9c179e"
             ],
             [
              0.4444444444444444,
              "#bd3786"
             ],
             [
              0.5555555555555556,
              "#d8576b"
             ],
             [
              0.6666666666666666,
              "#ed7953"
             ],
             [
              0.7777777777777778,
              "#fb9f3a"
             ],
             [
              0.8888888888888888,
              "#fdca26"
             ],
             [
              1,
              "#f0f921"
             ]
            ],
            "type": "surface"
           }
          ],
          "table": [
           {
            "cells": {
             "fill": {
              "color": "#EBF0F8"
             },
             "line": {
              "color": "white"
             }
            },
            "header": {
             "fill": {
              "color": "#C8D4E3"
             },
             "line": {
              "color": "white"
             }
            },
            "type": "table"
           }
          ]
         },
         "layout": {
          "annotationdefaults": {
           "arrowcolor": "#2a3f5f",
           "arrowhead": 0,
           "arrowwidth": 1
          },
          "autotypenumbers": "strict",
          "coloraxis": {
           "colorbar": {
            "outlinewidth": 0,
            "ticks": ""
           }
          },
          "colorscale": {
           "diverging": [
            [
             0,
             "#8e0152"
            ],
            [
             0.1,
             "#c51b7d"
            ],
            [
             0.2,
             "#de77ae"
            ],
            [
             0.3,
             "#f1b6da"
            ],
            [
             0.4,
             "#fde0ef"
            ],
            [
             0.5,
             "#f7f7f7"
            ],
            [
             0.6,
             "#e6f5d0"
            ],
            [
             0.7,
             "#b8e186"
            ],
            [
             0.8,
             "#7fbc41"
            ],
            [
             0.9,
             "#4d9221"
            ],
            [
             1,
             "#276419"
            ]
           ],
           "sequential": [
            [
             0,
             "#0d0887"
            ],
            [
             0.1111111111111111,
             "#46039f"
            ],
            [
             0.2222222222222222,
             "#7201a8"
            ],
            [
             0.3333333333333333,
             "#9c179e"
            ],
            [
             0.4444444444444444,
             "#bd3786"
            ],
            [
             0.5555555555555556,
             "#d8576b"
            ],
            [
             0.6666666666666666,
             "#ed7953"
            ],
            [
             0.7777777777777778,
             "#fb9f3a"
            ],
            [
             0.8888888888888888,
             "#fdca26"
            ],
            [
             1,
             "#f0f921"
            ]
           ],
           "sequentialminus": [
            [
             0,
             "#0d0887"
            ],
            [
             0.1111111111111111,
             "#46039f"
            ],
            [
             0.2222222222222222,
             "#7201a8"
            ],
            [
             0.3333333333333333,
             "#9c179e"
            ],
            [
             0.4444444444444444,
             "#bd3786"
            ],
            [
             0.5555555555555556,
             "#d8576b"
            ],
            [
             0.6666666666666666,
             "#ed7953"
            ],
            [
             0.7777777777777778,
             "#fb9f3a"
            ],
            [
             0.8888888888888888,
             "#fdca26"
            ],
            [
             1,
             "#f0f921"
            ]
           ]
          },
          "colorway": [
           "#636efa",
           "#EF553B",
           "#00cc96",
           "#ab63fa",
           "#FFA15A",
           "#19d3f3",
           "#FF6692",
           "#B6E880",
           "#FF97FF",
           "#FECB52"
          ],
          "font": {
           "color": "#2a3f5f"
          },
          "geo": {
           "bgcolor": "white",
           "lakecolor": "white",
           "landcolor": "#E5ECF6",
           "showlakes": true,
           "showland": true,
           "subunitcolor": "white"
          },
          "hoverlabel": {
           "align": "left"
          },
          "hovermode": "closest",
          "mapbox": {
           "style": "light"
          },
          "paper_bgcolor": "white",
          "plot_bgcolor": "#E5ECF6",
          "polar": {
           "angularaxis": {
            "gridcolor": "white",
            "linecolor": "white",
            "ticks": ""
           },
           "bgcolor": "#E5ECF6",
           "radialaxis": {
            "gridcolor": "white",
            "linecolor": "white",
            "ticks": ""
           }
          },
          "scene": {
           "xaxis": {
            "backgroundcolor": "#E5ECF6",
            "gridcolor": "white",
            "gridwidth": 2,
            "linecolor": "white",
            "showbackground": true,
            "ticks": "",
            "zerolinecolor": "white"
           },
           "yaxis": {
            "backgroundcolor": "#E5ECF6",
            "gridcolor": "white",
            "gridwidth": 2,
            "linecolor": "white",
            "showbackground": true,
            "ticks": "",
            "zerolinecolor": "white"
           },
           "zaxis": {
            "backgroundcolor": "#E5ECF6",
            "gridcolor": "white",
            "gridwidth": 2,
            "linecolor": "white",
            "showbackground": true,
            "ticks": "",
            "zerolinecolor": "white"
           }
          },
          "shapedefaults": {
           "line": {
            "color": "#2a3f5f"
           }
          },
          "ternary": {
           "aaxis": {
            "gridcolor": "white",
            "linecolor": "white",
            "ticks": ""
           },
           "baxis": {
            "gridcolor": "white",
            "linecolor": "white",
            "ticks": ""
           },
           "bgcolor": "#E5ECF6",
           "caxis": {
            "gridcolor": "white",
            "linecolor": "white",
            "ticks": ""
           }
          },
          "title": {
           "x": 0.05
          },
          "xaxis": {
           "automargin": true,
           "gridcolor": "white",
           "linecolor": "white",
           "ticks": "",
           "title": {
            "standoff": 15
           },
           "zerolinecolor": "white",
           "zerolinewidth": 2
          },
          "yaxis": {
           "automargin": true,
           "gridcolor": "white",
           "linecolor": "white",
           "ticks": "",
           "title": {
            "standoff": 15
           },
           "zerolinecolor": "white",
           "zerolinewidth": 2
          }
         }
        },
        "title": {
         "text": "Heatmap Correlation between songs attributes"
        },
        "width": 800,
        "xaxis": {
         "anchor": "y",
         "constrain": "domain",
         "domain": [
          0,
          1
         ],
         "scaleanchor": "y"
        },
        "yaxis": {
         "anchor": "x",
         "autorange": "reversed",
         "constrain": "domain",
         "domain": [
          0,
          1
         ]
        }
       }
      }
     },
     "metadata": {},
     "output_type": "display_data"
    }
   ],
   "source": [
    "correlation = df_songs[['danceability', 'energy', 'loudness', 'speechiness', 'acousticness', 'instrumentalness', 'liveness', 'valence', 'tempo']]\n",
    "correlation = correlation.corr(method='spearman')\n",
    "fig = px.imshow(\n",
    "    correlation,\n",
    "    labels = dict(\n",
    "        color=\"Correlation\"\n",
    "        )\n",
    "    )\n",
    "fig.update_layout(\n",
    "    title_text='Heatmap Correlation between songs attributes',\n",
    "    height = 600,\n",
    "    width = 800,\n",
    ")\n",
    "fig.show()"
   ]
  },
  {
   "cell_type": "code",
   "execution_count": 12,
   "metadata": {},
   "outputs": [],
   "source": [
    "popularity = df_songs[['artist_name', 'popularity']]\n",
    "\n",
    "most_popular = popularity.groupby('artist_name').agg('max').reset_index().sort_values(by='popularity', ascending=False)[:1]\n",
    "least_popular = popularity.groupby('artist_name').agg('max').reset_index().sort_values(by='popularity', ascending=False)[::-1][:1]"
   ]
  },
  {
   "cell_type": "code",
   "execution_count": 13,
   "metadata": {},
   "outputs": [
    {
     "name": "stdout",
     "output_type": "stream",
     "text": [
      "Most popular: Adele\n",
      "least popular: Mabel\n"
     ]
    }
   ],
   "source": [
    "print(f'Most popular: {\" \".join(most_popular[\"artist_name\"])}')\n",
    "print(f'least popular: {\" \".join(least_popular[\"artist_name\"])}')"
   ]
  },
  {
   "cell_type": "code",
   "execution_count": 14,
   "metadata": {},
   "outputs": [
    {
     "data": {
      "text/html": [
       "<div>\n",
       "<style scoped>\n",
       "    .dataframe tbody tr th:only-of-type {\n",
       "        vertical-align: middle;\n",
       "    }\n",
       "\n",
       "    .dataframe tbody tr th {\n",
       "        vertical-align: top;\n",
       "    }\n",
       "\n",
       "    .dataframe thead th {\n",
       "        text-align: right;\n",
       "    }\n",
       "</style>\n",
       "<table border=\"1\" class=\"dataframe\">\n",
       "  <thead>\n",
       "    <tr style=\"text-align: right;\">\n",
       "      <th></th>\n",
       "      <th>danceability</th>\n",
       "      <th>energy</th>\n",
       "      <th>loudness</th>\n",
       "      <th>speechiness</th>\n",
       "      <th>acousticness</th>\n",
       "      <th>instrumentalness</th>\n",
       "      <th>liveness</th>\n",
       "      <th>valence</th>\n",
       "      <th>tempo</th>\n",
       "    </tr>\n",
       "  </thead>\n",
       "  <tbody>\n",
       "    <tr>\n",
       "      <th>0</th>\n",
       "      <td>0.660</td>\n",
       "      <td>0.667</td>\n",
       "      <td>-6.870</td>\n",
       "      <td>0.0474</td>\n",
       "      <td>0.14100</td>\n",
       "      <td>0.000053</td>\n",
       "      <td>0.1070</td>\n",
       "      <td>0.452</td>\n",
       "      <td>114.901</td>\n",
       "    </tr>\n",
       "    <tr>\n",
       "      <th>1</th>\n",
       "      <td>0.653</td>\n",
       "      <td>0.945</td>\n",
       "      <td>-2.634</td>\n",
       "      <td>0.0960</td>\n",
       "      <td>0.00561</td>\n",
       "      <td>0.915000</td>\n",
       "      <td>0.4390</td>\n",
       "      <td>0.326</td>\n",
       "      <td>126.093</td>\n",
       "    </tr>\n",
       "    <tr>\n",
       "      <th>2</th>\n",
       "      <td>0.604</td>\n",
       "      <td>0.366</td>\n",
       "      <td>-7.519</td>\n",
       "      <td>0.0282</td>\n",
       "      <td>0.57800</td>\n",
       "      <td>0.000000</td>\n",
       "      <td>0.1330</td>\n",
       "      <td>0.130</td>\n",
       "      <td>141.981</td>\n",
       "    </tr>\n",
       "    <tr>\n",
       "      <th>3</th>\n",
       "      <td>0.564</td>\n",
       "      <td>0.687</td>\n",
       "      <td>-6.461</td>\n",
       "      <td>0.0264</td>\n",
       "      <td>0.28100</td>\n",
       "      <td>0.000000</td>\n",
       "      <td>0.1560</td>\n",
       "      <td>0.768</td>\n",
       "      <td>86.950</td>\n",
       "    </tr>\n",
       "    <tr>\n",
       "      <th>4</th>\n",
       "      <td>0.543</td>\n",
       "      <td>0.458</td>\n",
       "      <td>-6.641</td>\n",
       "      <td>0.0306</td>\n",
       "      <td>0.30600</td>\n",
       "      <td>0.000000</td>\n",
       "      <td>0.1050</td>\n",
       "      <td>0.241</td>\n",
       "      <td>126.804</td>\n",
       "    </tr>\n",
       "    <tr>\n",
       "      <th>...</th>\n",
       "      <td>...</td>\n",
       "      <td>...</td>\n",
       "      <td>...</td>\n",
       "      <td>...</td>\n",
       "      <td>...</td>\n",
       "      <td>...</td>\n",
       "      <td>...</td>\n",
       "      <td>...</td>\n",
       "      <td>...</td>\n",
       "    </tr>\n",
       "    <tr>\n",
       "      <th>1200</th>\n",
       "      <td>0.652</td>\n",
       "      <td>0.802</td>\n",
       "      <td>-6.114</td>\n",
       "      <td>0.1810</td>\n",
       "      <td>0.08710</td>\n",
       "      <td>0.000006</td>\n",
       "      <td>0.1480</td>\n",
       "      <td>0.295</td>\n",
       "      <td>170.157</td>\n",
       "    </tr>\n",
       "    <tr>\n",
       "      <th>1201</th>\n",
       "      <td>0.586</td>\n",
       "      <td>0.561</td>\n",
       "      <td>-6.594</td>\n",
       "      <td>0.0817</td>\n",
       "      <td>0.03240</td>\n",
       "      <td>0.000000</td>\n",
       "      <td>0.1070</td>\n",
       "      <td>0.446</td>\n",
       "      <td>161.906</td>\n",
       "    </tr>\n",
       "    <tr>\n",
       "      <th>1202</th>\n",
       "      <td>0.759</td>\n",
       "      <td>0.605</td>\n",
       "      <td>-7.737</td>\n",
       "      <td>0.0433</td>\n",
       "      <td>0.15600</td>\n",
       "      <td>0.000000</td>\n",
       "      <td>0.6940</td>\n",
       "      <td>0.640</td>\n",
       "      <td>121.049</td>\n",
       "    </tr>\n",
       "    <tr>\n",
       "      <th>1203</th>\n",
       "      <td>0.594</td>\n",
       "      <td>0.808</td>\n",
       "      <td>-2.409</td>\n",
       "      <td>0.0489</td>\n",
       "      <td>0.41500</td>\n",
       "      <td>0.000014</td>\n",
       "      <td>0.5650</td>\n",
       "      <td>0.919</td>\n",
       "      <td>188.090</td>\n",
       "    </tr>\n",
       "    <tr>\n",
       "      <th>1204</th>\n",
       "      <td>0.772</td>\n",
       "      <td>0.637</td>\n",
       "      <td>-6.881</td>\n",
       "      <td>0.1140</td>\n",
       "      <td>0.00459</td>\n",
       "      <td>0.000000</td>\n",
       "      <td>0.0778</td>\n",
       "      <td>0.540</td>\n",
       "      <td>149.906</td>\n",
       "    </tr>\n",
       "  </tbody>\n",
       "</table>\n",
       "<p>1205 rows × 9 columns</p>\n",
       "</div>"
      ],
      "text/plain": [
       "      danceability  energy  loudness  speechiness  acousticness  \\\n",
       "0            0.660   0.667    -6.870       0.0474       0.14100   \n",
       "1            0.653   0.945    -2.634       0.0960       0.00561   \n",
       "2            0.604   0.366    -7.519       0.0282       0.57800   \n",
       "3            0.564   0.687    -6.461       0.0264       0.28100   \n",
       "4            0.543   0.458    -6.641       0.0306       0.30600   \n",
       "...            ...     ...       ...          ...           ...   \n",
       "1200         0.652   0.802    -6.114       0.1810       0.08710   \n",
       "1201         0.586   0.561    -6.594       0.0817       0.03240   \n",
       "1202         0.759   0.605    -7.737       0.0433       0.15600   \n",
       "1203         0.594   0.808    -2.409       0.0489       0.41500   \n",
       "1204         0.772   0.637    -6.881       0.1140       0.00459   \n",
       "\n",
       "      instrumentalness  liveness  valence    tempo  \n",
       "0             0.000053    0.1070    0.452  114.901  \n",
       "1             0.915000    0.4390    0.326  126.093  \n",
       "2             0.000000    0.1330    0.130  141.981  \n",
       "3             0.000000    0.1560    0.768   86.950  \n",
       "4             0.000000    0.1050    0.241  126.804  \n",
       "...                ...       ...      ...      ...  \n",
       "1200          0.000006    0.1480    0.295  170.157  \n",
       "1201          0.000000    0.1070    0.446  161.906  \n",
       "1202          0.000000    0.6940    0.640  121.049  \n",
       "1203          0.000014    0.5650    0.919  188.090  \n",
       "1204          0.000000    0.0778    0.540  149.906  \n",
       "\n",
       "[1205 rows x 9 columns]"
      ]
     },
     "execution_count": 14,
     "metadata": {},
     "output_type": "execute_result"
    }
   ],
   "source": [
    "# radar plot\n",
    "song_attributes = df_songs[['danceability', 'energy', 'loudness', 'speechiness', 'acousticness', 'instrumentalness', 'liveness', 'valence', 'tempo']]\n",
    "song_attributes"
   ]
  },
  {
   "cell_type": "code",
   "execution_count": 15,
   "metadata": {},
   "outputs": [
    {
     "data": {
      "application/vnd.plotly.v1+json": {
       "config": {
        "plotlyServerURL": "https://plot.ly"
       },
       "data": [
        {
         "fill": "tonext",
         "r": [
          0.6736112033195022,
          0.6554562489626555,
          -6.204976763485478,
          0.09602456431535271,
          0.20633917161825727,
          0.018293294132780084,
          0.17228165975103735,
          0.5440269709543568,
          121.00918921161824
         ],
         "theta": [
          "danceability",
          "energy",
          "loudness",
          "speechiness",
          "acousticness",
          "instrumentalness",
          "liveness",
          "valence",
          "tempo"
         ],
         "type": "scatterpolar"
        }
       ],
       "layout": {
        "polar": {
         "radialaxis": {
          "visible": true
         }
        },
        "showlegend": false,
        "template": {
         "data": {
          "bar": [
           {
            "error_x": {
             "color": "#2a3f5f"
            },
            "error_y": {
             "color": "#2a3f5f"
            },
            "marker": {
             "line": {
              "color": "#E5ECF6",
              "width": 0.5
             },
             "pattern": {
              "fillmode": "overlay",
              "size": 10,
              "solidity": 0.2
             }
            },
            "type": "bar"
           }
          ],
          "barpolar": [
           {
            "marker": {
             "line": {
              "color": "#E5ECF6",
              "width": 0.5
             },
             "pattern": {
              "fillmode": "overlay",
              "size": 10,
              "solidity": 0.2
             }
            },
            "type": "barpolar"
           }
          ],
          "carpet": [
           {
            "aaxis": {
             "endlinecolor": "#2a3f5f",
             "gridcolor": "white",
             "linecolor": "white",
             "minorgridcolor": "white",
             "startlinecolor": "#2a3f5f"
            },
            "baxis": {
             "endlinecolor": "#2a3f5f",
             "gridcolor": "white",
             "linecolor": "white",
             "minorgridcolor": "white",
             "startlinecolor": "#2a3f5f"
            },
            "type": "carpet"
           }
          ],
          "choropleth": [
           {
            "colorbar": {
             "outlinewidth": 0,
             "ticks": ""
            },
            "type": "choropleth"
           }
          ],
          "contour": [
           {
            "colorbar": {
             "outlinewidth": 0,
             "ticks": ""
            },
            "colorscale": [
             [
              0,
              "#0d0887"
             ],
             [
              0.1111111111111111,
              "#46039f"
             ],
             [
              0.2222222222222222,
              "#7201a8"
             ],
             [
              0.3333333333333333,
              "#9c179e"
             ],
             [
              0.4444444444444444,
              "#bd3786"
             ],
             [
              0.5555555555555556,
              "#d8576b"
             ],
             [
              0.6666666666666666,
              "#ed7953"
             ],
             [
              0.7777777777777778,
              "#fb9f3a"
             ],
             [
              0.8888888888888888,
              "#fdca26"
             ],
             [
              1,
              "#f0f921"
             ]
            ],
            "type": "contour"
           }
          ],
          "contourcarpet": [
           {
            "colorbar": {
             "outlinewidth": 0,
             "ticks": ""
            },
            "type": "contourcarpet"
           }
          ],
          "heatmap": [
           {
            "colorbar": {
             "outlinewidth": 0,
             "ticks": ""
            },
            "colorscale": [
             [
              0,
              "#0d0887"
             ],
             [
              0.1111111111111111,
              "#46039f"
             ],
             [
              0.2222222222222222,
              "#7201a8"
             ],
             [
              0.3333333333333333,
              "#9c179e"
             ],
             [
              0.4444444444444444,
              "#bd3786"
             ],
             [
              0.5555555555555556,
              "#d8576b"
             ],
             [
              0.6666666666666666,
              "#ed7953"
             ],
             [
              0.7777777777777778,
              "#fb9f3a"
             ],
             [
              0.8888888888888888,
              "#fdca26"
             ],
             [
              1,
              "#f0f921"
             ]
            ],
            "type": "heatmap"
           }
          ],
          "heatmapgl": [
           {
            "colorbar": {
             "outlinewidth": 0,
             "ticks": ""
            },
            "colorscale": [
             [
              0,
              "#0d0887"
             ],
             [
              0.1111111111111111,
              "#46039f"
             ],
             [
              0.2222222222222222,
              "#7201a8"
             ],
             [
              0.3333333333333333,
              "#9c179e"
             ],
             [
              0.4444444444444444,
              "#bd3786"
             ],
             [
              0.5555555555555556,
              "#d8576b"
             ],
             [
              0.6666666666666666,
              "#ed7953"
             ],
             [
              0.7777777777777778,
              "#fb9f3a"
             ],
             [
              0.8888888888888888,
              "#fdca26"
             ],
             [
              1,
              "#f0f921"
             ]
            ],
            "type": "heatmapgl"
           }
          ],
          "histogram": [
           {
            "marker": {
             "pattern": {
              "fillmode": "overlay",
              "size": 10,
              "solidity": 0.2
             }
            },
            "type": "histogram"
           }
          ],
          "histogram2d": [
           {
            "colorbar": {
             "outlinewidth": 0,
             "ticks": ""
            },
            "colorscale": [
             [
              0,
              "#0d0887"
             ],
             [
              0.1111111111111111,
              "#46039f"
             ],
             [
              0.2222222222222222,
              "#7201a8"
             ],
             [
              0.3333333333333333,
              "#9c179e"
             ],
             [
              0.4444444444444444,
              "#bd3786"
             ],
             [
              0.5555555555555556,
              "#d8576b"
             ],
             [
              0.6666666666666666,
              "#ed7953"
             ],
             [
              0.7777777777777778,
              "#fb9f3a"
             ],
             [
              0.8888888888888888,
              "#fdca26"
             ],
             [
              1,
              "#f0f921"
             ]
            ],
            "type": "histogram2d"
           }
          ],
          "histogram2dcontour": [
           {
            "colorbar": {
             "outlinewidth": 0,
             "ticks": ""
            },
            "colorscale": [
             [
              0,
              "#0d0887"
             ],
             [
              0.1111111111111111,
              "#46039f"
             ],
             [
              0.2222222222222222,
              "#7201a8"
             ],
             [
              0.3333333333333333,
              "#9c179e"
             ],
             [
              0.4444444444444444,
              "#bd3786"
             ],
             [
              0.5555555555555556,
              "#d8576b"
             ],
             [
              0.6666666666666666,
              "#ed7953"
             ],
             [
              0.7777777777777778,
              "#fb9f3a"
             ],
             [
              0.8888888888888888,
              "#fdca26"
             ],
             [
              1,
              "#f0f921"
             ]
            ],
            "type": "histogram2dcontour"
           }
          ],
          "mesh3d": [
           {
            "colorbar": {
             "outlinewidth": 0,
             "ticks": ""
            },
            "type": "mesh3d"
           }
          ],
          "parcoords": [
           {
            "line": {
             "colorbar": {
              "outlinewidth": 0,
              "ticks": ""
             }
            },
            "type": "parcoords"
           }
          ],
          "pie": [
           {
            "automargin": true,
            "type": "pie"
           }
          ],
          "scatter": [
           {
            "marker": {
             "colorbar": {
              "outlinewidth": 0,
              "ticks": ""
             }
            },
            "type": "scatter"
           }
          ],
          "scatter3d": [
           {
            "line": {
             "colorbar": {
              "outlinewidth": 0,
              "ticks": ""
             }
            },
            "marker": {
             "colorbar": {
              "outlinewidth": 0,
              "ticks": ""
             }
            },
            "type": "scatter3d"
           }
          ],
          "scattercarpet": [
           {
            "marker": {
             "colorbar": {
              "outlinewidth": 0,
              "ticks": ""
             }
            },
            "type": "scattercarpet"
           }
          ],
          "scattergeo": [
           {
            "marker": {
             "colorbar": {
              "outlinewidth": 0,
              "ticks": ""
             }
            },
            "type": "scattergeo"
           }
          ],
          "scattergl": [
           {
            "marker": {
             "colorbar": {
              "outlinewidth": 0,
              "ticks": ""
             }
            },
            "type": "scattergl"
           }
          ],
          "scattermapbox": [
           {
            "marker": {
             "colorbar": {
              "outlinewidth": 0,
              "ticks": ""
             }
            },
            "type": "scattermapbox"
           }
          ],
          "scatterpolar": [
           {
            "marker": {
             "colorbar": {
              "outlinewidth": 0,
              "ticks": ""
             }
            },
            "type": "scatterpolar"
           }
          ],
          "scatterpolargl": [
           {
            "marker": {
             "colorbar": {
              "outlinewidth": 0,
              "ticks": ""
             }
            },
            "type": "scatterpolargl"
           }
          ],
          "scatterternary": [
           {
            "marker": {
             "colorbar": {
              "outlinewidth": 0,
              "ticks": ""
             }
            },
            "type": "scatterternary"
           }
          ],
          "surface": [
           {
            "colorbar": {
             "outlinewidth": 0,
             "ticks": ""
            },
            "colorscale": [
             [
              0,
              "#0d0887"
             ],
             [
              0.1111111111111111,
              "#46039f"
             ],
             [
              0.2222222222222222,
              "#7201a8"
             ],
             [
              0.3333333333333333,
              "#9c179e"
             ],
             [
              0.4444444444444444,
              "#bd3786"
             ],
             [
              0.5555555555555556,
              "#d8576b"
             ],
             [
              0.6666666666666666,
              "#ed7953"
             ],
             [
              0.7777777777777778,
              "#fb9f3a"
             ],
             [
              0.8888888888888888,
              "#fdca26"
             ],
             [
              1,
              "#f0f921"
             ]
            ],
            "type": "surface"
           }
          ],
          "table": [
           {
            "cells": {
             "fill": {
              "color": "#EBF0F8"
             },
             "line": {
              "color": "white"
             }
            },
            "header": {
             "fill": {
              "color": "#C8D4E3"
             },
             "line": {
              "color": "white"
             }
            },
            "type": "table"
           }
          ]
         },
         "layout": {
          "annotationdefaults": {
           "arrowcolor": "#2a3f5f",
           "arrowhead": 0,
           "arrowwidth": 1
          },
          "autotypenumbers": "strict",
          "coloraxis": {
           "colorbar": {
            "outlinewidth": 0,
            "ticks": ""
           }
          },
          "colorscale": {
           "diverging": [
            [
             0,
             "#8e0152"
            ],
            [
             0.1,
             "#c51b7d"
            ],
            [
             0.2,
             "#de77ae"
            ],
            [
             0.3,
             "#f1b6da"
            ],
            [
             0.4,
             "#fde0ef"
            ],
            [
             0.5,
             "#f7f7f7"
            ],
            [
             0.6,
             "#e6f5d0"
            ],
            [
             0.7,
             "#b8e186"
            ],
            [
             0.8,
             "#7fbc41"
            ],
            [
             0.9,
             "#4d9221"
            ],
            [
             1,
             "#276419"
            ]
           ],
           "sequential": [
            [
             0,
             "#0d0887"
            ],
            [
             0.1111111111111111,
             "#46039f"
            ],
            [
             0.2222222222222222,
             "#7201a8"
            ],
            [
             0.3333333333333333,
             "#9c179e"
            ],
            [
             0.4444444444444444,
             "#bd3786"
            ],
            [
             0.5555555555555556,
             "#d8576b"
            ],
            [
             0.6666666666666666,
             "#ed7953"
            ],
            [
             0.7777777777777778,
             "#fb9f3a"
            ],
            [
             0.8888888888888888,
             "#fdca26"
            ],
            [
             1,
             "#f0f921"
            ]
           ],
           "sequentialminus": [
            [
             0,
             "#0d0887"
            ],
            [
             0.1111111111111111,
             "#46039f"
            ],
            [
             0.2222222222222222,
             "#7201a8"
            ],
            [
             0.3333333333333333,
             "#9c179e"
            ],
            [
             0.4444444444444444,
             "#bd3786"
            ],
            [
             0.5555555555555556,
             "#d8576b"
            ],
            [
             0.6666666666666666,
             "#ed7953"
            ],
            [
             0.7777777777777778,
             "#fb9f3a"
            ],
            [
             0.8888888888888888,
             "#fdca26"
            ],
            [
             1,
             "#f0f921"
            ]
           ]
          },
          "colorway": [
           "#636efa",
           "#EF553B",
           "#00cc96",
           "#ab63fa",
           "#FFA15A",
           "#19d3f3",
           "#FF6692",
           "#B6E880",
           "#FF97FF",
           "#FECB52"
          ],
          "font": {
           "color": "#2a3f5f"
          },
          "geo": {
           "bgcolor": "white",
           "lakecolor": "white",
           "landcolor": "#E5ECF6",
           "showlakes": true,
           "showland": true,
           "subunitcolor": "white"
          },
          "hoverlabel": {
           "align": "left"
          },
          "hovermode": "closest",
          "mapbox": {
           "style": "light"
          },
          "paper_bgcolor": "white",
          "plot_bgcolor": "#E5ECF6",
          "polar": {
           "angularaxis": {
            "gridcolor": "white",
            "linecolor": "white",
            "ticks": ""
           },
           "bgcolor": "#E5ECF6",
           "radialaxis": {
            "gridcolor": "white",
            "linecolor": "white",
            "ticks": ""
           }
          },
          "scene": {
           "xaxis": {
            "backgroundcolor": "#E5ECF6",
            "gridcolor": "white",
            "gridwidth": 2,
            "linecolor": "white",
            "showbackground": true,
            "ticks": "",
            "zerolinecolor": "white"
           },
           "yaxis": {
            "backgroundcolor": "#E5ECF6",
            "gridcolor": "white",
            "gridwidth": 2,
            "linecolor": "white",
            "showbackground": true,
            "ticks": "",
            "zerolinecolor": "white"
           },
           "zaxis": {
            "backgroundcolor": "#E5ECF6",
            "gridcolor": "white",
            "gridwidth": 2,
            "linecolor": "white",
            "showbackground": true,
            "ticks": "",
            "zerolinecolor": "white"
           }
          },
          "shapedefaults": {
           "line": {
            "color": "#2a3f5f"
           }
          },
          "ternary": {
           "aaxis": {
            "gridcolor": "white",
            "linecolor": "white",
            "ticks": ""
           },
           "baxis": {
            "gridcolor": "white",
            "linecolor": "white",
            "ticks": ""
           },
           "bgcolor": "#E5ECF6",
           "caxis": {
            "gridcolor": "white",
            "linecolor": "white",
            "ticks": ""
           }
          },
          "title": {
           "x": 0.05
          },
          "xaxis": {
           "automargin": true,
           "gridcolor": "white",
           "linecolor": "white",
           "ticks": "",
           "title": {
            "standoff": 15
           },
           "zerolinecolor": "white",
           "zerolinewidth": 2
          },
          "yaxis": {
           "automargin": true,
           "gridcolor": "white",
           "linecolor": "white",
           "ticks": "",
           "title": {
            "standoff": 15
           },
           "zerolinecolor": "white",
           "zerolinewidth": 2
          }
         }
        },
        "title": {
         "text": "Radar chart for songs features"
        }
       }
      }
     },
     "metadata": {},
     "output_type": "display_data"
    }
   ],
   "source": [
    "fig = go.Figure(\n",
    "    data = go.Scatterpolar(\n",
    "        r = song_attributes.mean(),\n",
    "        theta = ['danceability', 'energy', 'loudness', 'speechiness', 'acousticness', 'instrumentalness', 'liveness', 'valence', 'tempo'],\n",
    "        fill = 'tonext'\n",
    "    )\n",
    ")\n",
    "fig.update_layout(\n",
    "    polar = dict(\n",
    "        radialaxis = dict(\n",
    "            visible = True\n",
    "        ),\n",
    "    ),\n",
    "    showlegend=False,\n",
    "    title_text = 'Radar chart for songs features'\n",
    ")\n",
    "\n",
    "fig.show()"
   ]
  },
  {
   "cell_type": "code",
   "execution_count": 16,
   "metadata": {},
   "outputs": [],
   "source": [
    "def get_correlation_song_attribute(x, y):\n",
    "    fig = px.scatter(\n",
    "        df_songs,\n",
    "        x = x, \n",
    "        y = y, \n",
    "        color = \"year\", \n",
    "        facet_row = \"explicit\",\n",
    "        marginal_y = \"box\"\n",
    "    )\n",
    "    fig.update_layout(\n",
    "        title = f'Correlation between {x} and {y} attributes',\n",
    "    )\n",
    "    return fig"
   ]
  },
  {
   "cell_type": "code",
   "execution_count": 17,
   "metadata": {},
   "outputs": [
    {
     "data": {
      "application/vnd.plotly.v1+json": {
       "config": {
        "plotlyServerURL": "https://plot.ly"
       },
       "data": [
        {
         "hovertemplate": "explicit=True<br>speechiness=%{x}<br>danceability=%{y}<br>year=%{marker.color}<extra></extra>",
         "legendgroup": "",
         "marker": {
          "color": [
           2020,
           2020,
           2021,
           2021,
           2020,
           2015,
           2021,
           2018,
           2019,
           2020,
           2021,
           2021,
           2021,
           2021,
           2021,
           2021,
           2019,
           2020,
           2014,
           2015,
           2006,
           2019,
           2019,
           2020,
           2021,
           2021,
           2021,
           2021,
           2018,
           2020,
           2018,
           2018,
           2021,
           2021,
           2021,
           2021,
           2020,
           2021,
           2012,
           2018,
           2014,
           2020,
           2018,
           2021,
           2008,
           2019,
           2021,
           2020,
           2020,
           1992,
           2021,
           2019,
           2009,
           2014,
           2020,
           2021,
           2021,
           2020,
           2019,
           2020,
           2021,
           2020,
           2018,
           2020,
           2021,
           2020,
           2016,
           2017,
           2021,
           2021,
           2021,
           2019,
           2020,
           2021,
           2019,
           2017,
           2021,
           2018,
           2020,
           2019,
           2021,
           2018,
           2019,
           2021,
           2021,
           2021,
           2021,
           2020,
           2020,
           2021,
           2020,
           2021,
           2021,
           2021,
           2016,
           2019,
           2021,
           2020,
           2021,
           2019,
           2020,
           2020,
           2020,
           2021,
           2021,
           2017,
           2010,
           2020,
           2020,
           2020,
           2019,
           2021,
           2019,
           2021,
           2021,
           2021,
           2021,
           2021,
           2021,
           2020,
           2020,
           2021,
           2020,
           2018,
           2021,
           2018,
           2021,
           2021,
           2021,
           2020,
           2018,
           2021,
           2021,
           2021,
           2021,
           2007,
           2019,
           2019,
           2021,
           2018,
           2020,
           2004,
           2021,
           2020,
           2021,
           2021,
           2020,
           2021,
           2020,
           2020,
           2020,
           2020,
           2021,
           2020,
           2020,
           2019,
           1999,
           2019,
           2021,
           2021,
           2020,
           2017,
           2019,
           2021,
           2018,
           2020,
           2020,
           2020,
           2021,
           2020,
           2019,
           2021,
           2021,
           2020,
           2021,
           2020,
           2019,
           2020,
           2021,
           2021,
           2021,
           2018,
           2021,
           2020,
           2021,
           2021,
           2016,
           2019,
           2019,
           2003,
           2021,
           2018,
           2018,
           2020,
           2016,
           2020,
           2021,
           2020,
           2021,
           2020,
           2021,
           2020,
           2019,
           2019,
           2021,
           2017,
           2019,
           2021,
           2020,
           2021,
           2021,
           2021,
           2021,
           2021,
           2021,
           2020,
           2021,
           2021,
           2020,
           2018,
           2021,
           2013,
           2006,
           2021,
           2020,
           2018,
           2020,
           2020,
           2020,
           2011,
           2018,
           2012,
           2021,
           2021,
           2021,
           2019,
           2021,
           2020,
           2020,
           2021,
           2021,
           2020,
           2021,
           2021,
           2020,
           2021,
           2021,
           2006,
           2019,
           2019,
           2016,
           2020,
           2021,
           2020,
           2020,
           2021,
           2020,
           2003,
           2016,
           2020,
           2021,
           2021,
           2019,
           2021,
           2019,
           2020,
           2019,
           2020,
           2020,
           2021,
           2019,
           2017,
           2021,
           2007,
           2021,
           2005,
           2021,
           2019,
           2021,
           2021,
           2014,
           2020,
           2020,
           2021,
           2020,
           2019,
           2021,
           2021,
           2019,
           2021,
           2020,
           2016,
           2017,
           2017,
           2016,
           2017,
           2017,
           2018,
           2018,
           2019,
           2016,
           2018,
           2018,
           2015,
           2019,
           2019,
           2018,
           2013,
           2018,
           2018,
           2018,
           2018,
           2018,
           2018,
           2016,
           2016,
           2016,
           2002,
           2016,
           2018,
           2019,
           2018,
           2017,
           2017,
           2019,
           2019,
           2019,
           2019
          ],
          "coloraxis": "coloraxis",
          "symbol": "circle"
         },
         "mode": "markers",
         "name": "",
         "showlegend": false,
         "type": "scattergl",
         "x": [
          0.0474,
          0.0651,
          0.254,
          0.224,
          0.0655,
          0.0475,
          0.128,
          0.132,
          0.0954,
          0.309,
          0.177,
          0.0446,
          0.217,
          0.0366,
          0.22,
          0.24,
          0.0378,
          0.0584,
          0.0859,
          0.0677,
          0.0414,
          0.0534,
          0.0463,
          0.0277,
          0.0286,
          0.185,
          0.141,
          0.0367,
          0.129,
          0.094,
          0.0578,
          0.21,
          0.15,
          0.259,
          0.2,
          0.0568,
          0.481,
          0.0824,
          0.0311,
          0.269,
          0.0583,
          0.107,
          0.306,
          0.148,
          0.0756,
          0.0559,
          0.319,
          0.0607,
          0.0427,
          0.301,
          0.179,
          0.159,
          0.0437,
          0.0851,
          0.0385,
          0.355,
          0.26,
          0.0583,
          0.0638,
          0.0468,
          0.0292,
          0.0373,
          0.179,
          0.0454,
          0.0367,
          0.102,
          0.0436,
          0.0571,
          0.119,
          0.137,
          0.0459,
          0.0363,
          0.0471,
          0.184,
          0.0444,
          0.119,
          0.0636,
          0.198,
          0.133,
          0.0842,
          0.141,
          0.0483,
          0.127,
          0.0361,
          0.0691,
          0.0811,
          0.192,
          0.368,
          0.0369,
          0.0892,
          0.164,
          0.0332,
          0.0395,
          0.0286,
          0.0694,
          0.441,
          0.133,
          0.0361,
          0.238,
          0.0593,
          0.0772,
          0.0383,
          0.19,
          0.353,
          0.0731,
          0.206,
          0.258,
          0.0803,
          0.389,
          0.079,
          0.457,
          0.71,
          0.0951,
          0.0365,
          0.0648,
          0.0375,
          0.0262,
          0.0329,
          0.0317,
          0.0355,
          0.353,
          0.324,
          0.0259,
          0.342,
          0.0372,
          0.0504,
          0.044,
          0.0707,
          0.22,
          0.07,
          0.107,
          0.0467,
          0.187,
          0.182,
          0.341,
          0.183,
          0.0846,
          0.0711,
          0.0777,
          0.0463,
          0.182,
          0.0338,
          0.0913,
          0.0627,
          0.0485,
          0.222,
          0.256,
          0.0633,
          0.148,
          0.105,
          0.0355,
          0.116,
          0.029,
          0.0812,
          0.156,
          0.334,
          0.234,
          0.0533,
          0.242,
          0.139,
          0.0474,
          0.0449,
          0.0419,
          0.0539,
          0.398,
          0.0765,
          0.133,
          0.0751,
          0.0526,
          0.0858,
          0.178,
          0.188,
          0.103,
          0.261,
          0.0898,
          0.0531,
          0.0917,
          0.165,
          0.0409,
          0.286,
          0.0315,
          0.115,
          0.0483,
          0.191,
          0.0578,
          0.334,
          0.317,
          0.142,
          0.0965,
          0.342,
          0.0317,
          0.0597,
          0.0464,
          0.145,
          0.229,
          0.0483,
          0.0917,
          0.0538,
          0.412,
          0.119,
          0.112,
          0.3,
          0.257,
          0.0674,
          0.143,
          0.113,
          0.0427,
          0.203,
          0.15,
          0.22,
          0.154,
          0.0867,
          0.0491,
          0.269,
          0.0661,
          0.0299,
          0.157,
          0.0535,
          0.0387,
          0.0505,
          0.0516,
          0.0284,
          0.0259,
          0.0349,
          0.173,
          0.0499,
          0.201,
          0.236,
          0.2,
          0.0675,
          0.0618,
          0.0394,
          0.0391,
          0.0473,
          0.136,
          0.148,
          0.0398,
          0.0434,
          0.295,
          0.146,
          0.0443,
          0.291,
          0.187,
          0.191,
          0.0494,
          0.16,
          0.143,
          0.0789,
          0.0851,
          0.0346,
          0.0456,
          0.0529,
          0.292,
          0.242,
          0.0346,
          0.186,
          0.0677,
          0.357,
          0.122,
          0.211,
          0.0479,
          0.0319,
          0.0988,
          0.121,
          0.0658,
          0.0878,
          0.218,
          0.0767,
          0.213,
          0.178,
          0.137,
          0.0943,
          0.053,
          0.22,
          0.0377,
          0.41,
          0.101,
          0.114,
          0.159,
          0.242,
          0.0334,
          0.0568,
          0.266,
          0.13,
          0.0444,
          0.0707,
          0.332,
          0.293,
          0.0329,
          0.0615,
          0.204,
          0.122,
          0.0943,
          0.234,
          0.109,
          0.0449,
          0.0371,
          0.0504,
          0.21,
          0.0329,
          0.232,
          0.0555,
          0.0499,
          0.0677,
          0.0525,
          0.14,
          0.0464,
          0.0284,
          0.0578,
          0.269,
          0.0597,
          0.093,
          0.299,
          0.297,
          0.132,
          0.317,
          0.0436,
          0.0738,
          0.0464,
          0.228,
          0.179,
          0.109,
          0.0449,
          0.0982,
          0.0415,
          0.0341,
          0.208,
          0.114
         ],
         "xaxis": "x3",
         "y": [
          0.66,
          0.729,
          0.754,
          0.54,
          0.525,
          0.68,
          0.682,
          0.618,
          0.773,
          0.897,
          0.735,
          0.707,
          0.629,
          0.749,
          0.593,
          0.799,
          0.693,
          0.558,
          0.55,
          0.594,
          0.866,
          0.863,
          0.486,
          0.591,
          0.762,
          0.882,
          0.826,
          0.691,
          0.816,
          0.83,
          0.665,
          0.708,
          0.822,
          0.58,
          0.887,
          0.54,
          0.676,
          0.838,
          0.495,
          0.817,
          0.721,
          0.802,
          0.752,
          0.818,
          0.949,
          0.896,
          0.797,
          0.84,
          0.867,
          0.926,
          0.693,
          0.787,
          0.775,
          0.647,
          0.688,
          0.621,
          0.666,
          0.436,
          0.453,
          0.701,
          0.655,
          0.848,
          0.704,
          0.612,
          0.855,
          0.724,
          0.439,
          0.893,
          0.677,
          0.597,
          0.58,
          0.806,
          0.916,
          0.658,
          0.718,
          0.721,
          0.76,
          0.636,
          0.834,
          0.749,
          0.803,
          0.787,
          0.769,
          0.701,
          0.757,
          0.814,
          0.796,
          0.48,
          0.759,
          0.638,
          0.81,
          0.424,
          0.496,
          0.762,
          0.828,
          0.62,
          0.861,
          0.433,
          0.652,
          0.652,
          0.851,
          0.774,
          0.816,
          0.559,
          0.739,
          0.88,
          0.633,
          0.767,
          0.61,
          0.799,
          0.886,
          0.335,
          0.782,
          0.577,
          0.448,
          0.8,
          0.538,
          0.826,
          0.535,
          0.765,
          0.709,
          0.849,
          0.742,
          0.552,
          0.669,
          0.626,
          0.562,
          0.664,
          0.737,
          0.953,
          0.6,
          0.774,
          0.829,
          0.725,
          0.624,
          0.761,
          0.843,
          0.764,
          0.908,
          0.733,
          0.628,
          0.632,
          0.778,
          0.885,
          0.802,
          0.841,
          0.498,
          0.447,
          0.425,
          0.82,
          0.622,
          0.779,
          0.529,
          0.886,
          0.753,
          0.778,
          0.816,
          0.717,
          0.789,
          0.716,
          0.769,
          0.838,
          0.843,
          0.907,
          0.797,
          0.717,
          0.601,
          0.622,
          0.771,
          0.685,
          0.569,
          0.76,
          0.675,
          0.8,
          0.95,
          0.825,
          0.726,
          0.839,
          0.563,
          0.578,
          0.509,
          0.847,
          0.591,
          0.965,
          0.561,
          0.867,
          0.502,
          0.648,
          0.765,
          0.7,
          0.788,
          0.698,
          0.632,
          0.755,
          0.65,
          0.722,
          0.68,
          0.735,
          0.509,
          0.722,
          0.442,
          0.826,
          0.869,
          0.738,
          0.781,
          0.748,
          0.572,
          0.762,
          0.537,
          0.593,
          0.563,
          0.771,
          0.8,
          0.868,
          0.619,
          0.773,
          0.719,
          0.77,
          0.707,
          0.851,
          0.779,
          0.711,
          0.632,
          0.332,
          0.801,
          0.721,
          0.834,
          0.683,
          0.816,
          0.684,
          0.575,
          0.739,
          0.676,
          0.759,
          0.84,
          0.621,
          0.816,
          0.731,
          0.747,
          0.742,
          0.759,
          0.744,
          0.725,
          0.869,
          0.798,
          0.562,
          0.62,
          0.967,
          0.515,
          0.559,
          0.584,
          0.51,
          0.724,
          0.799,
          0.667,
          0.41,
          0.865,
          0.652,
          0.654,
          0.735,
          0.766,
          0.603,
          0.543,
          0.584,
          0.717,
          0.737,
          0.735,
          0.782,
          0.956,
          0.756,
          0.826,
          0.836,
          0.521,
          0.82,
          0.568,
          0.489,
          0.609,
          0.772,
          0.743,
          0.429,
          0.748,
          0.787,
          0.775,
          0.824,
          0.687,
          0.74,
          0.681,
          0.774,
          0.494,
          0.736,
          0.954,
          0.654,
          0.836,
          0.706,
          0.674,
          0.838,
          0.738,
          0.626,
          0.708,
          0.494,
          0.756,
          0.75,
          0.721,
          0.594,
          0.79,
          0.774,
          0.632,
          0.711,
          0.665,
          0.817,
          0.698,
          0.735,
          0.645,
          0.618,
          0.457,
          0.502,
          0.439,
          0.908,
          0.607,
          0.842,
          0.803,
          0.754,
          0.838,
          0.653,
          0.46,
          0.494,
          0.829,
          0.772
         ],
         "yaxis": "y3"
        },
        {
         "alignmentgroup": "True",
         "hovertemplate": "explicit=True<br>danceability=%{y}<extra></extra>",
         "legendgroup": "",
         "marker": {
          "color": "#0d0887",
          "symbol": "circle"
         },
         "name": "",
         "notched": true,
         "offsetgroup": "",
         "showlegend": false,
         "type": "box",
         "xaxis": "x4",
         "y": [
          0.66,
          0.729,
          0.754,
          0.54,
          0.525,
          0.68,
          0.682,
          0.618,
          0.773,
          0.897,
          0.735,
          0.707,
          0.629,
          0.749,
          0.593,
          0.799,
          0.693,
          0.558,
          0.55,
          0.594,
          0.866,
          0.863,
          0.486,
          0.591,
          0.762,
          0.882,
          0.826,
          0.691,
          0.816,
          0.83,
          0.665,
          0.708,
          0.822,
          0.58,
          0.887,
          0.54,
          0.676,
          0.838,
          0.495,
          0.817,
          0.721,
          0.802,
          0.752,
          0.818,
          0.949,
          0.896,
          0.797,
          0.84,
          0.867,
          0.926,
          0.693,
          0.787,
          0.775,
          0.647,
          0.688,
          0.621,
          0.666,
          0.436,
          0.453,
          0.701,
          0.655,
          0.848,
          0.704,
          0.612,
          0.855,
          0.724,
          0.439,
          0.893,
          0.677,
          0.597,
          0.58,
          0.806,
          0.916,
          0.658,
          0.718,
          0.721,
          0.76,
          0.636,
          0.834,
          0.749,
          0.803,
          0.787,
          0.769,
          0.701,
          0.757,
          0.814,
          0.796,
          0.48,
          0.759,
          0.638,
          0.81,
          0.424,
          0.496,
          0.762,
          0.828,
          0.62,
          0.861,
          0.433,
          0.652,
          0.652,
          0.851,
          0.774,
          0.816,
          0.559,
          0.739,
          0.88,
          0.633,
          0.767,
          0.61,
          0.799,
          0.886,
          0.335,
          0.782,
          0.577,
          0.448,
          0.8,
          0.538,
          0.826,
          0.535,
          0.765,
          0.709,
          0.849,
          0.742,
          0.552,
          0.669,
          0.626,
          0.562,
          0.664,
          0.737,
          0.953,
          0.6,
          0.774,
          0.829,
          0.725,
          0.624,
          0.761,
          0.843,
          0.764,
          0.908,
          0.733,
          0.628,
          0.632,
          0.778,
          0.885,
          0.802,
          0.841,
          0.498,
          0.447,
          0.425,
          0.82,
          0.622,
          0.779,
          0.529,
          0.886,
          0.753,
          0.778,
          0.816,
          0.717,
          0.789,
          0.716,
          0.769,
          0.838,
          0.843,
          0.907,
          0.797,
          0.717,
          0.601,
          0.622,
          0.771,
          0.685,
          0.569,
          0.76,
          0.675,
          0.8,
          0.95,
          0.825,
          0.726,
          0.839,
          0.563,
          0.578,
          0.509,
          0.847,
          0.591,
          0.965,
          0.561,
          0.867,
          0.502,
          0.648,
          0.765,
          0.7,
          0.788,
          0.698,
          0.632,
          0.755,
          0.65,
          0.722,
          0.68,
          0.735,
          0.509,
          0.722,
          0.442,
          0.826,
          0.869,
          0.738,
          0.781,
          0.748,
          0.572,
          0.762,
          0.537,
          0.593,
          0.563,
          0.771,
          0.8,
          0.868,
          0.619,
          0.773,
          0.719,
          0.77,
          0.707,
          0.851,
          0.779,
          0.711,
          0.632,
          0.332,
          0.801,
          0.721,
          0.834,
          0.683,
          0.816,
          0.684,
          0.575,
          0.739,
          0.676,
          0.759,
          0.84,
          0.621,
          0.816,
          0.731,
          0.747,
          0.742,
          0.759,
          0.744,
          0.725,
          0.869,
          0.798,
          0.562,
          0.62,
          0.967,
          0.515,
          0.559,
          0.584,
          0.51,
          0.724,
          0.799,
          0.667,
          0.41,
          0.865,
          0.652,
          0.654,
          0.735,
          0.766,
          0.603,
          0.543,
          0.584,
          0.717,
          0.737,
          0.735,
          0.782,
          0.956,
          0.756,
          0.826,
          0.836,
          0.521,
          0.82,
          0.568,
          0.489,
          0.609,
          0.772,
          0.743,
          0.429,
          0.748,
          0.787,
          0.775,
          0.824,
          0.687,
          0.74,
          0.681,
          0.774,
          0.494,
          0.736,
          0.954,
          0.654,
          0.836,
          0.706,
          0.674,
          0.838,
          0.738,
          0.626,
          0.708,
          0.494,
          0.756,
          0.75,
          0.721,
          0.594,
          0.79,
          0.774,
          0.632,
          0.711,
          0.665,
          0.817,
          0.698,
          0.735,
          0.645,
          0.618,
          0.457,
          0.502,
          0.439,
          0.908,
          0.607,
          0.842,
          0.803,
          0.754,
          0.838,
          0.653,
          0.46,
          0.494,
          0.829,
          0.772
         ],
         "yaxis": "y4"
        },
        {
         "hovertemplate": "explicit=False<br>speechiness=%{x}<br>danceability=%{y}<br>year=%{marker.color}<extra></extra>",
         "legendgroup": "",
         "marker": {
          "color": [
           2016,
           2021,
           2021,
           2021,
           2019,
           2016,
           2021,
           2021,
           2020,
           2021,
           2019,
           2020,
           2016,
           2018,
           2021,
           2020,
           2017,
           2006,
           2019,
           2021,
           2020,
           2013,
           2020,
           2019,
           2021,
           2020,
           2021,
           2021,
           2021,
           2009,
           2020,
           2020,
           2018,
           2019,
           2019,
           2020,
           2020,
           2019,
           2021,
           2020,
           2020,
           2020,
           2021,
           2021,
           2021,
           2020,
           2018,
           2021,
           2019,
           2013,
           2012,
           2021,
           2011,
           2007,
           2020,
           2018,
           2019,
           2019,
           2017,
           2019,
           2019,
           2019,
           2018,
           2020,
           2020,
           2021,
           2020,
           2018,
           2021,
           2021,
           2012,
           1981,
           2021,
           2017,
           2013,
           2021,
           2021,
           2020,
           2021,
           2019,
           2018,
           2021,
           2017,
           2020,
           2020,
           2017,
           2019,
           2021,
           2020,
           2017,
           2020,
           2019,
           2020,
           2019,
           2019,
           2021,
           2021,
           2020,
           2020,
           2021,
           2021,
           2003,
           2021,
           2003,
           2016,
           2019,
           2010,
           2018,
           1978,
           2021,
           2020,
           2012,
           2020,
           2021,
           2021,
           2021,
           2019,
           2000,
           2016,
           2019,
           2020,
           2008,
           2020,
           2020,
           2020,
           2012,
           2019,
           1993,
           2011,
           2020,
           2021,
           1991,
           1990,
           2021,
           2020,
           2021,
           2020,
           2021,
           2020,
           2020,
           2019,
           2020,
           2020,
           2021,
           2021,
           2019,
           2020,
           2018,
           2021,
           2021,
           2017,
           2020,
           2020,
           2021,
           2021,
           2012,
           2020,
           2020,
           2020,
           2020,
           2021,
           2006,
           2021,
           2021,
           2021,
           2020,
           2019,
           2015,
           2021,
           2021,
           2017,
           2017,
           2021,
           2020,
           2020,
           2020,
           2020,
           2021,
           2014,
           2021,
           2020,
           2017,
           2020,
           2019,
           2020,
           2019,
           2020,
           2021,
           2021,
           2021,
           2021,
           2020,
           2021,
           2020,
           2019,
           2021,
           2021,
           2020,
           2021,
           2013,
           2021,
           1975,
           2021,
           2021,
           2019,
           2014,
           2020,
           2020,
           2017,
           2021,
           2021,
           2021,
           2020,
           2019,
           2018,
           2021,
           2019,
           2015,
           2020,
           2021,
           2021,
           2021,
           2018,
           2019,
           2020,
           2020,
           2021,
           2017,
           2018,
           2021,
           1998,
           2021,
           2020,
           2020,
           2021,
           2018,
           2020,
           2018,
           2021,
           2021,
           1999,
           2015,
           2020,
           2021,
           2020,
           2020,
           2020,
           2017,
           2020,
           2021,
           2021,
           2021,
           2021,
           2020,
           2020,
           2021,
           2020,
           2016,
           2008,
           2019,
           2020,
           2021,
           2020,
           2021,
           2020,
           2021,
           2021,
           2019,
           2017,
           2018,
           2021,
           2018,
           2020,
           2016,
           2020,
           2007,
           2020,
           2021,
           1963,
           2020,
           2020,
           2019,
           2005,
           2018,
           2021,
           2019,
           2018,
           2021,
           2021,
           2021,
           2019,
           2021,
           2018,
           2021,
           2021,
           2020,
           2019,
           2020,
           2007,
           2018,
           2020,
           2018,
           2021,
           2020,
           2020,
           2021,
           2018,
           2020,
           2021,
           2021,
           2017,
           2021,
           2020,
           2020,
           2021,
           2013,
           2014,
           2021,
           2016,
           2019,
           2020,
           2018,
           2010,
           2017,
           2020,
           2020,
           2012,
           2020,
           2016,
           2020,
           2017,
           2021,
           2019,
           2021,
           2018,
           2021,
           2021,
           1959,
           2020,
           2021,
           2020,
           2020,
           2021,
           2021,
           2016,
           2021,
           2021,
           2020,
           2020,
           2020,
           2010,
           2021,
           2019,
           2020,
           2020,
           2021,
           2021,
           2003,
           2020,
           2016,
           2017,
           2021,
           2021,
           2018,
           2019,
           2021,
           2020,
           2020,
           2005,
           2021,
           2021,
           2021,
           2021,
           2021,
           2019,
           2020,
           2021,
           2017,
           2021,
           2016,
           2018,
           2020,
           2021,
           2021,
           2020,
           2021,
           2021,
           2020,
           2020,
           2021,
           2021,
           2019,
           2017,
           2021,
           2019,
           2008,
           2013,
           2021,
           2020,
           2021,
           2020,
           2021,
           2017,
           2020,
           2012,
           2020,
           2021,
           2020,
           2019,
           2021,
           2021,
           2020,
           2019,
           2020,
           2020,
           2013,
           2020,
           2019,
           2017,
           2021,
           2020,
           2021,
           2020,
           2020,
           2019,
           2021,
           2021,
           2021,
           1972,
           2020,
           2020,
           2020,
           2012,
           2019,
           2019,
           2021,
           2015,
           2020,
           2020,
           2020,
           2019,
           2021,
           2019,
           2014,
           2018,
           2019,
           2020,
           2021,
           2018,
           2021,
           2019,
           2020,
           2021,
           2018,
           2020,
           2020,
           2020,
           2021,
           1996,
           2019,
           2019,
           2021,
           2021,
           2021,
           2021,
           2020,
           2020,
           2018,
           2020,
           2020,
           2021,
           2020,
           2019,
           2021,
           2019,
           2020,
           2002,
           2021,
           2020,
           2018,
           2021,
           2020,
           2021,
           2021,
           2020,
           2021,
           2011,
           2021,
           2018,
           2020,
           2020,
           2020,
           2015,
           2017,
           2020,
           2021,
           2021,
           2019,
           1985,
           2021,
           2020,
           2016,
           2021,
           2021,
           2020,
           2020,
           2021,
           2021,
           2021,
           2017,
           2021,
           2019,
           2021,
           2021,
           2016,
           2020,
           2021,
           2021,
           2021,
           2021,
           2020,
           2019,
           2020,
           2019,
           2019,
           2020,
           2004,
           2021,
           2019,
           2005,
           2021,
           2021,
           2019,
           2009,
           2021,
           2017,
           2021,
           2010,
           2020,
           2021,
           2018,
           2017,
           2020,
           2020,
           2021,
           2020,
           2020,
           2020,
           2020,
           2021,
           2019,
           2021,
           2021,
           2018,
           2021,
           2021,
           2017,
           2021,
           2011,
           2018,
           2018,
           2020,
           2020,
           2021,
           2021,
           2019,
           2021,
           1997,
           2019,
           2021,
           2020,
           2007,
           2020,
           2021,
           2016,
           2019,
           2021,
           2020,
           2021,
           2020,
           2020,
           2019,
           2013,
           2018,
           2020,
           2021,
           2020,
           2020,
           2020,
           2019,
           2021,
           2020,
           2018,
           2021,
           2021,
           2020,
           2021,
           2020,
           2021,
           2020,
           2019,
           2021,
           2020,
           2021,
           2009,
           2021,
           2017,
           2019,
           2019,
           2019,
           2021,
           2020,
           2021,
           2021,
           2021,
           2020,
           2021,
           2019,
           2019,
           2020,
           2019,
           1995,
           2020,
           2019,
           2021,
           2021,
           2021,
           2021,
           2021,
           2020,
           2018,
           2021,
           2021,
           2021,
           2019,
           2021,
           2020,
           2017,
           2014,
           1980,
           2021,
           2020,
           2006,
           2018,
           2021,
           2021,
           2021,
           2020,
           2020,
           2021,
           2021,
           2020,
           2021,
           2015,
           2016,
           2021,
           2021,
           2020,
           2021,
           2014,
           2021,
           2006,
           2013,
           2020,
           2020,
           2020,
           2021,
           2015,
           2019,
           1944,
           2020,
           2019,
           2021,
           2018,
           2021,
           2020,
           2021,
           2021,
           2014,
           2017,
           2021,
           2020,
           2021,
           2015,
           2021,
           2020,
           2021,
           2021,
           1998,
           2021,
           2021,
           2020,
           2019,
           2015,
           2017,
           2014,
           2020,
           2018,
           2021,
           2021,
           2010,
           2021,
           2019,
           2009,
           2021,
           2021,
           2014,
           2019,
           2021,
           2021,
           2021,
           2015,
           2020,
           2021,
           2020,
           2021,
           2020,
           2017,
           2021,
           2019,
           2021,
           2021,
           2019,
           2019,
           2020,
           2017,
           2018,
           2020,
           2021,
           2020,
           2020,
           2019,
           2020,
           2018,
           2011,
           2021,
           2020,
           2020,
           2016,
           2020,
           2020,
           2020,
           2020,
           2016,
           2009,
           2020,
           2021,
           2019,
           2015,
           2011,
           2021,
           2021,
           2012,
           2019,
           2019,
           2015,
           2021,
           2018,
           2020,
           2021,
           2020,
           2020,
           2019,
           2016,
           2015,
           2019,
           2020,
           2018,
           2020,
           2018,
           2019,
           2018,
           2018,
           2015,
           2018,
           2018,
           2017,
           2018,
           2016,
           2016,
           2017,
           2017,
           2017,
           2018,
           2015,
           2017,
           2017,
           2018,
           2017,
           2017,
           2013,
           2017,
           2018,
           2017,
           2017,
           2017,
           2017,
           2017,
           2017,
           2017,
           2017,
           2017,
           2017,
           2008,
           2012,
           2008,
           2008,
           2015,
           2018,
           2018,
           2019,
           2017,
           2015,
           2015,
           2019,
           2019,
           2019,
           2018,
           2016,
           2018,
           2018,
           2017,
           2018,
           2013,
           2019,
           2017,
           2017,
           2019,
           2017,
           2013,
           2015,
           2016,
           2016,
           2016,
           2017,
           2019,
           2019,
           2014,
           2014,
           2021,
           2017,
           2019,
           2019,
           2017,
           2020,
           2011,
           2015,
           2015,
           2015,
           2016,
           2018,
           2019,
           2012,
           2013,
           2010,
           2019,
           2021,
           2013,
           2017,
           2019,
           2017,
           2017,
           2020,
           2017,
           2018,
           2018,
           2017,
           2017,
           2017,
           2017,
           2018,
           2020,
           2021,
           2014,
           2017,
           2019,
           2020
          ],
          "coloraxis": "coloraxis",
          "symbol": "circle"
         },
         "mode": "markers",
         "name": "",
         "showlegend": false,
         "type": "scattergl",
         "x": [
          0.096,
          0.0282,
          0.0264,
          0.0306,
          0.0287,
          0.381,
          0.0473,
          0.117,
          0.0359,
          0.164,
          0.0423,
          0.467,
          0.344,
          0.0388,
          0.126,
          0.0441,
          0.121,
          0.0678,
          0.0334,
          0.0577,
          0.142,
          0.0441,
          0.0791,
          0.0446,
          0.116,
          0.0297,
          0.0522,
          0.0293,
          0.0445,
          0.0708,
          0.0315,
          0.0994,
          0.0832,
          0.0442,
          0.0602,
          0.0385,
          0.256,
          0.0741,
          0.0597,
          0.139,
          0.0394,
          0.292,
          0.0668,
          0.195,
          0.0612,
          0.0698,
          0.0266,
          0.0317,
          0.0716,
          0.0681,
          0.0368,
          0.0646,
          0.0376,
          0.335,
          0.0944,
          0.03,
          0.123,
          0.102,
          0.0277,
          0.0362,
          0.0965,
          0.0416,
          0.117,
          0.226,
          0.0884,
          0.038,
          0.194,
          0.0276,
          0.0474,
          0.0343,
          0.313,
          0.026,
          0.0879,
          0.0745,
          0.0246,
          0.112,
          0.0521,
          0.0885,
          0.0427,
          0.136,
          0.0318,
          0.0983,
          0.0827,
          0.0697,
          0.247,
          0.0438,
          0.0378,
          0.035,
          0.0423,
          0.112,
          0.0438,
          0.125,
          0.0379,
          0.0485,
          0.0416,
          0.06,
          0.306,
          0.0411,
          0.0458,
          0.0542,
          0.0565,
          0.0289,
          0.0709,
          0.0346,
          0.0406,
          0.0573,
          0.0403,
          0.137,
          0.192,
          0.0396,
          0.0891,
          0.0561,
          0.029,
          0.0311,
          0.046,
          0.0333,
          0.0962,
          0.0993,
          0.0523,
          0.0962,
          0.234,
          0.139,
          0.057,
          0.0338,
          0.36,
          0.0269,
          0.0259,
          0.211,
          0.316,
          0.163,
          0.108,
          0.169,
          0.0448,
          0.0349,
          0.404,
          0.0306,
          0.164,
          0.0352,
          0.166,
          0.312,
          0.375,
          0.0486,
          0.062,
          0.0309,
          0.0436,
          0.0984,
          0.222,
          0.117,
          0.0655,
          0.0637,
          0.0308,
          0.0569,
          0.0636,
          0.131,
          0.046,
          0.0564,
          0.0378,
          0.07,
          0.051,
          0.0357,
          0.038,
          0.139,
          0.205,
          0.335,
          0.0541,
          0.0452,
          0.0927,
          0.0575,
          0.0403,
          0.0472,
          0.064,
          0.0908,
          0.0883,
          0.0401,
          0.075,
          0.0451,
          0.0502,
          0.0674,
          0.253,
          0.0358,
          0.077,
          0.0585,
          0.0329,
          0.0396,
          0.0791,
          0.0541,
          0.301,
          0.0284,
          0.229,
          0.0299,
          0.0529,
          0.0618,
          0.0492,
          0.0887,
          0.0335,
          0.0644,
          0.0258,
          0.0318,
          0.0307,
          0.0465,
          0.027,
          0.0429,
          0.0394,
          0.0322,
          0.0456,
          0.181,
          0.0291,
          0.326,
          0.0346,
          0.288,
          0.0595,
          0.0515,
          0.0383,
          0.216,
          0.0343,
          0.032,
          0.0426,
          0.0533,
          0.0791,
          0.0355,
          0.451,
          0.0375,
          0.0387,
          0.0433,
          0.0597,
          0.0646,
          0.0509,
          0.102,
          0.115,
          0.0822,
          0.0362,
          0.125,
          0.0393,
          0.0546,
          0.0694,
          0.112,
          0.0601,
          0.0738,
          0.0322,
          0.0452,
          0.0418,
          0.0815,
          0.0305,
          0.0674,
          0.0374,
          0.0642,
          0.0407,
          0.223,
          0.0334,
          0.116,
          0.228,
          0.15,
          0.0428,
          0.0344,
          0.0662,
          0.121,
          0.188,
          0.0458,
          0.0677,
          0.0336,
          0.0692,
          0.0635,
          0.0421,
          0.0377,
          0.039,
          0.0344,
          0.0542,
          0.132,
          0.0802,
          0.0468,
          0.0744,
          0.0473,
          0.426,
          0.0779,
          0.0598,
          0.0334,
          0.0507,
          0.0477,
          0.0369,
          0.033,
          0.0615,
          0.132,
          0.216,
          0.0486,
          0.0874,
          0.0357,
          0.0542,
          0.0454,
          0.378,
          0.0708,
          0.0584,
          0.0439,
          0.0902,
          0.121,
          0.0642,
          0.0351,
          0.0273,
          0.0783,
          0.039,
          0.0329,
          0.17,
          0.0466,
          0.0739,
          0.0313,
          0.0401,
          0.0391,
          0.0904,
          0.0549,
          0.0536,
          0.0678,
          0.0263,
          0.0768,
          0.0457,
          0.105,
          0.0284,
          0.0838,
          0.0454,
          0.264,
          0.0898,
          0.0396,
          0.061,
          0.0778,
          0.0392,
          0.0694,
          0.0538,
          0.0649,
          0.0509,
          0.0356,
          0.043,
          0.0339,
          0.101,
          0.209,
          0.0498,
          0.0466,
          0.064,
          0.119,
          0.0417,
          0.0312,
          0.133,
          0.0618,
          0.032,
          0.217,
          0.0791,
          0.0471,
          0.03,
          0.0415,
          0.147,
          0.14,
          0.05,
          0.101,
          0.0425,
          0.0869,
          0.0324,
          0.118,
          0.0904,
          0.0468,
          0.0789,
          0.197,
          0.0498,
          0.0704,
          0.0584,
          0.137,
          0.0622,
          0.0897,
          0.102,
          0.315,
          0.17,
          0.333,
          0.0707,
          0.0264,
          0.0664,
          0.223,
          0.0851,
          0.031,
          0.0925,
          0.0381,
          0.0454,
          0.0564,
          0.0273,
          0.288,
          0.0344,
          0.0993,
          0.0455,
          0.0523,
          0.0603,
          0.0622,
          0.0853,
          0.0456,
          0.0397,
          0.135,
          0.0282,
          0.0442,
          0.0276,
          0.0423,
          0.298,
          0.0509,
          0.0276,
          0.0723,
          0.104,
          0.054,
          0.041,
          0.0398,
          0.0626,
          0.0824,
          0.0307,
          0.221,
          0.315,
          0.0436,
          0.0854,
          0.0656,
          0.1,
          0.0624,
          0.0352,
          0.0432,
          0.0397,
          0.0513,
          0.22,
          0.218,
          0.0542,
          0.0368,
          0.0455,
          0.0328,
          0.131,
          0.0341,
          0.034,
          0.0484,
          0.311,
          0.0491,
          0.0568,
          0.0389,
          0.0812,
          0.0555,
          0.0408,
          0.299,
          0.0492,
          0.0271,
          0.0762,
          0.0601,
          0.0617,
          0.0335,
          0.0299,
          0.0664,
          0.181,
          0.0619,
          0.0929,
          0.0404,
          0.0431,
          0.072,
          0.0331,
          0.342,
          0.0795,
          0.181,
          0.0414,
          0.0315,
          0.0583,
          0.0959,
          0.0447,
          0.0406,
          0.0473,
          0.203,
          0.0386,
          0.147,
          0.235,
          0.0438,
          0.0286,
          0.032,
          0.0664,
          0.0437,
          0.0845,
          0.0587,
          0.0875,
          0.0545,
          0.0656,
          0.057,
          0.0571,
          0.0458,
          0.0309,
          0.108,
          0.0405,
          0.0342,
          0.0543,
          0.0367,
          0.351,
          0.0752,
          0.0366,
          0.0902,
          0.0475,
          0.109,
          0.0855,
          0.038,
          0.141,
          0.0436,
          0.0329,
          0.0311,
          0.172,
          0.0475,
          0.0612,
          0.131,
          0.039,
          0.0557,
          0.0749,
          0.0286,
          0.0484,
          0.146,
          0.106,
          0.0304,
          0.0713,
          0.243,
          0.0569,
          0.0485,
          0.0671,
          0.0527,
          0.0333,
          0.403,
          0.0251,
          0.0427,
          0.0288,
          0.0318,
          0.0745,
          0.0315,
          0.18,
          0.0735,
          0.129,
          0.174,
          0.0677,
          0.033,
          0.0614,
          0.0375,
          0.101,
          0.12,
          0.211,
          0.172,
          0.0924,
          0.0494,
          0.0406,
          0.0564,
          0.112,
          0.0409,
          0.185,
          0.108,
          0.0368,
          0.138,
          0.0543,
          0.135,
          0.0293,
          0.0807,
          0.0489,
          0.0479,
          0.0457,
          0.0265,
          0.0465,
          0.0284,
          0.0422,
          0.0666,
          0.265,
          0.0532,
          0.179,
          0.0342,
          0.0479,
          0.0477,
          0.0823,
          0.035,
          0.111,
          0.0274,
          0.0346,
          0.0483,
          0.0327,
          0.0349,
          0.0968,
          0.0499,
          0.185,
          0.0307,
          0.0431,
          0.0322,
          0.0391,
          0.0375,
          0.149,
          0.229,
          0.0445,
          0.0519,
          0.0623,
          0.183,
          0.122,
          0.0758,
          0.0897,
          0.0507,
          0.0741,
          0.0575,
          0.0457,
          0.0395,
          0.0936,
          0.0401,
          0.0934,
          0.0442,
          0.0314,
          0.177,
          0.0536,
          0.0602,
          0.0254,
          0.0533,
          0.039,
          0.0592,
          0.0519,
          0.246,
          0.111,
          0.102,
          0.398,
          0.0433,
          0.167,
          0.0578,
          0.0431,
          0.0352,
          0.0347,
          0.0412,
          0.125,
          0.035,
          0.0449,
          0.325,
          0.0413,
          0.0435,
          0.033,
          0.0323,
          0.0568,
          0.0702,
          0.0316,
          0.0387,
          0.0399,
          0.0581,
          0.119,
          0.0715,
          0.246,
          0.0413,
          0.073,
          0.038,
          0.126,
          0.0454,
          0.055,
          0.0682,
          0.165,
          0.0319,
          0.0797,
          0.0461,
          0.0511,
          0.0445,
          0.143,
          0.0715,
          0.219,
          0.0625,
          0.0427,
          0.0413,
          0.0847,
          0.0473,
          0.0324,
          0.0404,
          0.121,
          0.0388,
          0.0372,
          0.0542,
          0.0251,
          0.0381,
          0.0945,
          0.0506,
          0.0334,
          0.077,
          0.0772,
          0.0556,
          0.0609,
          0.0383,
          0.0692,
          0.0393,
          0.0408,
          0.218,
          0.0521,
          0.0291,
          0.0497,
          0.0598,
          0.0381,
          0.0684,
          0.183,
          0.0555,
          0.0703,
          0.259,
          0.0363,
          0.0865,
          0.0342,
          0.334,
          0.0685,
          0.0331,
          0.0363,
          0.0322,
          0.0866,
          0.205,
          0.0287,
          0.103,
          0.0432,
          0.0306,
          0.052,
          0.0878,
          0.0437,
          0.06,
          0.143,
          0.0381,
          0.0994,
          0.0652,
          0.0325,
          0.0493,
          0.0898,
          0.0561,
          0.0996,
          0.0354,
          0.06,
          0.0499,
          0.098,
          0.0922,
          0.0491,
          0.0415,
          0.156,
          0.0421,
          0.0911,
          0.0622,
          0.0363,
          0.0362,
          0.0832,
          0.301,
          0.13,
          0.0504,
          0.0485,
          0.0502,
          0.124,
          0.0374,
          0.1,
          0.0857,
          0.037,
          0.11,
          0.0268,
          0.0573,
          0.0373,
          0.23,
          0.0338,
          0.11,
          0.0326,
          0.0677,
          0.0623,
          0.0797,
          0.137,
          0.343,
          0.0334,
          0.0892,
          0.0423,
          0.037,
          0.0992,
          0.211,
          0.0431,
          0.0437,
          0.0465,
          0.0824,
          0.0579,
          0.374,
          0.0944,
          0.0345,
          0.0395,
          0.0569,
          0.028,
          0.0418,
          0.0484,
          0.0658,
          0.0675,
          0.163,
          0.0553,
          0.0388,
          0.131,
          0.0929,
          0.0387,
          0.103,
          0.0477,
          0.03,
          0.123,
          0.0542,
          0.121,
          0.319,
          0.0763,
          0.276,
          0.0562,
          0.0329,
          0.129,
          0.0554,
          0.0448,
          0.0747,
          0.039,
          0.136,
          0.0852,
          0.383,
          0.0594,
          0.0592,
          0.0536,
          0.0626,
          0.0452,
          0.056,
          0.0325,
          0.112,
          0.0354,
          0.115,
          0.0438,
          0.0677,
          0.0408,
          0.0418,
          0.0311,
          0.0499,
          0.11,
          0.0533,
          0.216,
          0.0908,
          0.0445,
          0.0484,
          0.0589,
          0.0287,
          0.0456,
          0.0934,
          0.0523,
          0.11,
          0.0437,
          0.249,
          0.0329,
          0.0276,
          0.141,
          0.0802,
          0.0263,
          0.034,
          0.046,
          0.0441,
          0.0423,
          0.0286,
          0.0898,
          0.03,
          0.0682,
          0.0553,
          0.064,
          0.0646,
          0.165,
          0.0331,
          0.0533,
          0.0571,
          0.0919,
          0.0558,
          0.0436,
          0.0469,
          0.118,
          0.0304,
          0.0404,
          0.134,
          0.128,
          0.0602,
          0.0479,
          0.0513,
          0.0409,
          0.1,
          0.0454,
          0.0681,
          0.064,
          0.127,
          0.0421,
          0.138,
          0.0959,
          0.0564,
          0.117,
          0.0473,
          0.0745,
          0.0564,
          0.0284,
          0.0576,
          0.137,
          0.0569,
          0.0579,
          0.181,
          0.0817,
          0.0433,
          0.0489
         ],
         "xaxis": "x",
         "y": [
          0.653,
          0.604,
          0.564,
          0.543,
          0.682,
          0.386,
          0.697,
          0.744,
          0.151,
          0.503,
          0.657,
          0.776,
          0.6,
          0.796,
          0.824,
          0.742,
          0.638,
          0.961,
          0.619,
          0.691,
          0.507,
          0.495,
          0.449,
          0.56,
          0.544,
          0.763,
          0.668,
          0.642,
          0.722,
          0.706,
          0.639,
          0.69,
          0.578,
          0.66,
          0.77,
          0.635,
          0.777,
          0.635,
          0.734,
          0.627,
          0.631,
          0.552,
          0.756,
          0.715,
          0.636,
          0.866,
          0.532,
          0.796,
          0.753,
          0.719,
          0.675,
          0.583,
          0.674,
          0.593,
          0.761,
          0.765,
          0.681,
          0.552,
          0.67,
          0.699,
          0.645,
          0.673,
          0.697,
          0.824,
          0.73,
          0.619,
          0.906,
          0.606,
          0.747,
          0.821,
          0.747,
          0.452,
          0.664,
          0.715,
          0.592,
          0.919,
          0.517,
          0.664,
          0.413,
          0.669,
          0.652,
          0.555,
          0.555,
          0.889,
          0.657,
          0.605,
          0.396,
          0.629,
          0.653,
          0.562,
          0.676,
          0.868,
          0.736,
          0.801,
          0.749,
          0.849,
          0.704,
          0.769,
          0.657,
          0.576,
          0.652,
          0.478,
          0.39,
          0.658,
          0.853,
          0.575,
          0.622,
          0.678,
          0.47,
          0.523,
          0.609,
          0.762,
          0.768,
          0.708,
          0.655,
          0.528,
          0.837,
          0.869,
          0.72,
          0.837,
          0.492,
          0.791,
          0.448,
          0.361,
          0.673,
          0.657,
          0.654,
          0.939,
          0.707,
          0.817,
          0.478,
          0.885,
          0.418,
          0.681,
          0.664,
          0.295,
          0.752,
          0.692,
          0.552,
          0.766,
          0.701,
          0.738,
          0.88,
          0.254,
          0.715,
          0.599,
          0.707,
          0.742,
          0.704,
          0.703,
          0.381,
          0.73,
          0.639,
          0.318,
          0.715,
          0.421,
          0.484,
          0.614,
          0.559,
          0.557,
          0.595,
          0.872,
          0.662,
          0.645,
          0.799,
          0.781,
          0.85,
          0.559,
          0.602,
          0.615,
          0.636,
          0.532,
          0.757,
          0.712,
          0.878,
          0.698,
          0.558,
          0.85,
          0.744,
          0.67,
          0.728,
          0.775,
          0.54,
          0.737,
          0.583,
          0.59,
          0.641,
          0.62,
          0.823,
          0.528,
          0.653,
          0.801,
          0.695,
          0.713,
          0.53,
          0.555,
          0.568,
          0.796,
          0.496,
          0.652,
          0.713,
          0.491,
          0.7,
          0.784,
          0.74,
          0.652,
          0.514,
          0.702,
          0.597,
          0.585,
          0.689,
          0.248,
          0.549,
          0.588,
          0.46,
          0.581,
          0.724,
          0.611,
          0.449,
          0.382,
          0.644,
          0.592,
          0.826,
          0.759,
          0.693,
          0.422,
          0.503,
          0.509,
          0.602,
          0.881,
          0.71,
          0.852,
          0.756,
          0.816,
          0.706,
          0.707,
          0.702,
          0.387,
          0.607,
          0.599,
          0.695,
          0.689,
          0.679,
          0.713,
          0.789,
          0.738,
          0.639,
          0.619,
          0.668,
          0.695,
          0.775,
          0.616,
          0.693,
          0.779,
          0.734,
          0.383,
          0.574,
          0.533,
          0.699,
          0.749,
          0.708,
          0.575,
          0.182,
          0.743,
          0.676,
          0.705,
          0.564,
          0.753,
          0.825,
          0.704,
          0.849,
          0.588,
          0.758,
          0.714,
          0.611,
          0.788,
          0.74,
          0.871,
          0.24,
          0.581,
          0.811,
          0.722,
          0.538,
          0.601,
          0.624,
          0.662,
          0.775,
          0.736,
          0.334,
          0.838,
          0.784,
          0.467,
          0.607,
          0.53,
          0.659,
          0.868,
          0.518,
          0.741,
          0.572,
          0.739,
          0.392,
          0.76,
          0.768,
          0.672,
          0.632,
          0.682,
          0.647,
          0.623,
          0.735,
          0.726,
          0.587,
          0.461,
          0.71,
          0.681,
          0.518,
          0.514,
          0.559,
          0.689,
          0.332,
          0.851,
          0.684,
          0.845,
          0.753,
          0.762,
          0.399,
          0.743,
          0.715,
          0.55,
          0.666,
          0.659,
          0.934,
          0.635,
          0.705,
          0.754,
          0.795,
          0.567,
          0.773,
          0.703,
          0.71,
          0.872,
          0.68,
          0.803,
          0.744,
          0.659,
          0.386,
          0.747,
          0.726,
          0.655,
          0.667,
          0.746,
          0.704,
          0.534,
          0.528,
          0.501,
          0.785,
          0.635,
          0.853,
          0.834,
          0.365,
          0.521,
          0.774,
          0.787,
          0.744,
          0.815,
          0.878,
          0.668,
          0.663,
          0.754,
          0.778,
          0.57,
          0.469,
          0.762,
          0.599,
          0.468,
          0.477,
          0.718,
          0.698,
          0.646,
          0.471,
          0.817,
          0.605,
          0.746,
          0.27,
          0.656,
          0.778,
          0.844,
          0.734,
          0.474,
          0.682,
          0.476,
          0.648,
          0.798,
          0.427,
          0.564,
          0.803,
          0.714,
          0.785,
          0.58,
          0.476,
          0.613,
          0.789,
          0.658,
          0.8,
          0.819,
          0.272,
          0.662,
          0.787,
          0.488,
          0.917,
          0.705,
          0.807,
          0.693,
          0.74,
          0.732,
          0.672,
          0.645,
          0.816,
          0.789,
          0.688,
          0.551,
          0.644,
          0.791,
          0.859,
          0.662,
          0.745,
          0.781,
          0.612,
          0.806,
          0.681,
          0.648,
          0.812,
          0.487,
          0.783,
          0.77,
          0.65,
          0.648,
          0.647,
          0.763,
          0.715,
          0.509,
          0.567,
          0.863,
          0.519,
          0.578,
          0.741,
          0.651,
          0.7,
          0.654,
          0.541,
          0.619,
          0.461,
          0.868,
          0.453,
          0.637,
          0.691,
          0.685,
          0.86,
          0.653,
          0.726,
          0.839,
          0.692,
          0.57,
          0.548,
          0.462,
          0.769,
          0.346,
          0.905,
          0.737,
          0.798,
          0.6,
          0.69,
          0.571,
          0.741,
          0.546,
          0.61,
          0.737,
          0.642,
          0.53,
          0.637,
          0.74,
          0.549,
          0.746,
          0.775,
          0.751,
          0.633,
          0.859,
          0.562,
          0.762,
          0.701,
          0.775,
          0.596,
          0.665,
          0.588,
          0.672,
          0.84,
          0.722,
          0.543,
          0.597,
          0.661,
          0.775,
          0.71,
          0.732,
          0.748,
          0.698,
          0.621,
          0.602,
          0.609,
          0.783,
          0.709,
          0.816,
          0.889,
          0.665,
          0.251,
          0.87,
          0.519,
          0.714,
          0.659,
          0.676,
          0.585,
          0.621,
          0.61,
          0.734,
          0.599,
          0.883,
          0.419,
          0.581,
          0.852,
          0.671,
          0.396,
          0.72,
          0.439,
          0.696,
          0.824,
          0.265,
          0.416,
          0.728,
          0.669,
          0.652,
          0.691,
          0.498,
          0.71,
          0.739,
          0.824,
          0.726,
          0.75,
          0.592,
          0.594,
          0.632,
          0.647,
          0.438,
          0.548,
          0.56,
          0.346,
          0.7,
          0.677,
          0.714,
          0.558,
          0.748,
          0.682,
          0.654,
          0.703,
          0.163,
          0.8,
          0.574,
          0.562,
          0.676,
          0.544,
          0.473,
          0.49,
          0.367,
          0.872,
          0.587,
          0.721,
          0.447,
          0.743,
          0.681,
          0.778,
          0.691,
          0.744,
          0.599,
          0.728,
          0.787,
          0.674,
          0.573,
          0.687,
          0.818,
          0.877,
          0.806,
          0.63,
          0.695,
          0.885,
          0.682,
          0.694,
          0.862,
          0.758,
          0.824,
          0.562,
          0.568,
          0.612,
          0.765,
          0.744,
          0.583,
          0.708,
          0.393,
          0.891,
          0.723,
          0.719,
          0.774,
          0.463,
          0.878,
          0.64,
          0.398,
          0.807,
          0.737,
          0.635,
          0.792,
          0.507,
          0.534,
          0.797,
          0.628,
          0.654,
          0.511,
          0.458,
          0.732,
          0.588,
          0.668,
          0.765,
          0.731,
          0.606,
          0.538,
          0.763,
          0.658,
          0.561,
          0.592,
          0.757,
          0.44,
          0.725,
          0.75,
          0.648,
          0.774,
          0.564,
          0.806,
          0.592,
          0.445,
          0.497,
          0.823,
          0.666,
          0.302,
          0.636,
          0.658,
          0.813,
          0.72,
          0.586,
          0.757,
          0.596,
          0.485,
          0.489,
          0.726,
          0.548,
          0.773,
          0.742,
          0.808,
          0.613,
          0.719,
          0.684,
          0.779,
          0.783,
          0.659,
          0.745,
          0.156,
          0.624,
          0.694,
          0.542,
          0.55,
          0.74,
          0.514,
          0.682,
          0.699,
          0.647,
          0.573,
          0.739,
          0.562,
          0.783,
          0.688,
          0.492,
          0.672,
          0.806,
          0.495,
          0.574,
          0.612,
          0.876,
          0.782,
          0.759,
          0.854,
          0.681,
          0.772,
          0.827,
          0.631,
          0.0635,
          0.679,
          0.766,
          0.764,
          0.704,
          0.753,
          0.65,
          0.692,
          0.279,
          0.766,
          0.57,
          0.731,
          0.849,
          0.661,
          0.72,
          0.748,
          0.637,
          0.607,
          0.848,
          0.799,
          0.593,
          0.707,
          0.684,
          0.674,
          0.661,
          0.567,
          0.73,
          0.801,
          0.528,
          0.653,
          0.552,
          0.516,
          0.662,
          0.91,
          0.705,
          0.791,
          0.449,
          0.788,
          0.817,
          0.692,
          0.748,
          0.608,
          0.704,
          0.593,
          0.752,
          0.818,
          0.893,
          0.624,
          0.663,
          0.674,
          0.649,
          0.864,
          0.801,
          0.743,
          0.726,
          0.893,
          0.548,
          0.856,
          0.576,
          0.713,
          0.761,
          0.686,
          0.325,
          0.726,
          0.676,
          0.504,
          0.262,
          0.615,
          0.686,
          0.448,
          0.633,
          0.796,
          0.597,
          0.741,
          0.826,
          0.854,
          0.654,
          0.765,
          0.766,
          0.775,
          0.596,
          0.586,
          0.756,
          0.393,
          0.874,
          0.695,
          0.573,
          0.866,
          0.724,
          0.637,
          0.258,
          0.613,
          0.706,
          0.334,
          0.699,
          0.708,
          0.655,
          0.8,
          0.54,
          0.69,
          0.697,
          0.562,
          0.67,
          0.466,
          0.605,
          0.699,
          0.783,
          0.706,
          0.822,
          0.661,
          0.791,
          0.683,
          0.588,
          0.532,
          0.579,
          0.262,
          0.377,
          0.759,
          0.74,
          0.694,
          0.72,
          0.397,
          0.737,
          0.59,
          0.739,
          0.785,
          0.495,
          0.825,
          0.587,
          0.745,
          0.694,
          0.495,
          0.649,
          0.732,
          0.332,
          0.386,
          0.75,
          0.771,
          0.448,
          0.752,
          0.648,
          0.599,
          0.731,
          0.61,
          0.359,
          0.649,
          0.488,
          0.858,
          0.811,
          0.672,
          0.757,
          0.728,
          0.774,
          0.77,
          0.638,
          0.645,
          0.652,
          0.846,
          0.736,
          0.719,
          0.636,
          0.9,
          0.799,
          0.739,
          0.685,
          0.728,
          0.742,
          0.588,
          0.715,
          0.646,
          0.703,
          0.584,
          0.678,
          0.726,
          0.875,
          0.652,
          0.586,
          0.759,
          0.594
         ],
         "yaxis": "y"
        },
        {
         "alignmentgroup": "True",
         "hovertemplate": "explicit=False<br>danceability=%{y}<extra></extra>",
         "legendgroup": "",
         "marker": {
          "color": "#0d0887",
          "symbol": "circle"
         },
         "name": "",
         "notched": true,
         "offsetgroup": "",
         "showlegend": false,
         "type": "box",
         "xaxis": "x2",
         "y": [
          0.653,
          0.604,
          0.564,
          0.543,
          0.682,
          0.386,
          0.697,
          0.744,
          0.151,
          0.503,
          0.657,
          0.776,
          0.6,
          0.796,
          0.824,
          0.742,
          0.638,
          0.961,
          0.619,
          0.691,
          0.507,
          0.495,
          0.449,
          0.56,
          0.544,
          0.763,
          0.668,
          0.642,
          0.722,
          0.706,
          0.639,
          0.69,
          0.578,
          0.66,
          0.77,
          0.635,
          0.777,
          0.635,
          0.734,
          0.627,
          0.631,
          0.552,
          0.756,
          0.715,
          0.636,
          0.866,
          0.532,
          0.796,
          0.753,
          0.719,
          0.675,
          0.583,
          0.674,
          0.593,
          0.761,
          0.765,
          0.681,
          0.552,
          0.67,
          0.699,
          0.645,
          0.673,
          0.697,
          0.824,
          0.73,
          0.619,
          0.906,
          0.606,
          0.747,
          0.821,
          0.747,
          0.452,
          0.664,
          0.715,
          0.592,
          0.919,
          0.517,
          0.664,
          0.413,
          0.669,
          0.652,
          0.555,
          0.555,
          0.889,
          0.657,
          0.605,
          0.396,
          0.629,
          0.653,
          0.562,
          0.676,
          0.868,
          0.736,
          0.801,
          0.749,
          0.849,
          0.704,
          0.769,
          0.657,
          0.576,
          0.652,
          0.478,
          0.39,
          0.658,
          0.853,
          0.575,
          0.622,
          0.678,
          0.47,
          0.523,
          0.609,
          0.762,
          0.768,
          0.708,
          0.655,
          0.528,
          0.837,
          0.869,
          0.72,
          0.837,
          0.492,
          0.791,
          0.448,
          0.361,
          0.673,
          0.657,
          0.654,
          0.939,
          0.707,
          0.817,
          0.478,
          0.885,
          0.418,
          0.681,
          0.664,
          0.295,
          0.752,
          0.692,
          0.552,
          0.766,
          0.701,
          0.738,
          0.88,
          0.254,
          0.715,
          0.599,
          0.707,
          0.742,
          0.704,
          0.703,
          0.381,
          0.73,
          0.639,
          0.318,
          0.715,
          0.421,
          0.484,
          0.614,
          0.559,
          0.557,
          0.595,
          0.872,
          0.662,
          0.645,
          0.799,
          0.781,
          0.85,
          0.559,
          0.602,
          0.615,
          0.636,
          0.532,
          0.757,
          0.712,
          0.878,
          0.698,
          0.558,
          0.85,
          0.744,
          0.67,
          0.728,
          0.775,
          0.54,
          0.737,
          0.583,
          0.59,
          0.641,
          0.62,
          0.823,
          0.528,
          0.653,
          0.801,
          0.695,
          0.713,
          0.53,
          0.555,
          0.568,
          0.796,
          0.496,
          0.652,
          0.713,
          0.491,
          0.7,
          0.784,
          0.74,
          0.652,
          0.514,
          0.702,
          0.597,
          0.585,
          0.689,
          0.248,
          0.549,
          0.588,
          0.46,
          0.581,
          0.724,
          0.611,
          0.449,
          0.382,
          0.644,
          0.592,
          0.826,
          0.759,
          0.693,
          0.422,
          0.503,
          0.509,
          0.602,
          0.881,
          0.71,
          0.852,
          0.756,
          0.816,
          0.706,
          0.707,
          0.702,
          0.387,
          0.607,
          0.599,
          0.695,
          0.689,
          0.679,
          0.713,
          0.789,
          0.738,
          0.639,
          0.619,
          0.668,
          0.695,
          0.775,
          0.616,
          0.693,
          0.779,
          0.734,
          0.383,
          0.574,
          0.533,
          0.699,
          0.749,
          0.708,
          0.575,
          0.182,
          0.743,
          0.676,
          0.705,
          0.564,
          0.753,
          0.825,
          0.704,
          0.849,
          0.588,
          0.758,
          0.714,
          0.611,
          0.788,
          0.74,
          0.871,
          0.24,
          0.581,
          0.811,
          0.722,
          0.538,
          0.601,
          0.624,
          0.662,
          0.775,
          0.736,
          0.334,
          0.838,
          0.784,
          0.467,
          0.607,
          0.53,
          0.659,
          0.868,
          0.518,
          0.741,
          0.572,
          0.739,
          0.392,
          0.76,
          0.768,
          0.672,
          0.632,
          0.682,
          0.647,
          0.623,
          0.735,
          0.726,
          0.587,
          0.461,
          0.71,
          0.681,
          0.518,
          0.514,
          0.559,
          0.689,
          0.332,
          0.851,
          0.684,
          0.845,
          0.753,
          0.762,
          0.399,
          0.743,
          0.715,
          0.55,
          0.666,
          0.659,
          0.934,
          0.635,
          0.705,
          0.754,
          0.795,
          0.567,
          0.773,
          0.703,
          0.71,
          0.872,
          0.68,
          0.803,
          0.744,
          0.659,
          0.386,
          0.747,
          0.726,
          0.655,
          0.667,
          0.746,
          0.704,
          0.534,
          0.528,
          0.501,
          0.785,
          0.635,
          0.853,
          0.834,
          0.365,
          0.521,
          0.774,
          0.787,
          0.744,
          0.815,
          0.878,
          0.668,
          0.663,
          0.754,
          0.778,
          0.57,
          0.469,
          0.762,
          0.599,
          0.468,
          0.477,
          0.718,
          0.698,
          0.646,
          0.471,
          0.817,
          0.605,
          0.746,
          0.27,
          0.656,
          0.778,
          0.844,
          0.734,
          0.474,
          0.682,
          0.476,
          0.648,
          0.798,
          0.427,
          0.564,
          0.803,
          0.714,
          0.785,
          0.58,
          0.476,
          0.613,
          0.789,
          0.658,
          0.8,
          0.819,
          0.272,
          0.662,
          0.787,
          0.488,
          0.917,
          0.705,
          0.807,
          0.693,
          0.74,
          0.732,
          0.672,
          0.645,
          0.816,
          0.789,
          0.688,
          0.551,
          0.644,
          0.791,
          0.859,
          0.662,
          0.745,
          0.781,
          0.612,
          0.806,
          0.681,
          0.648,
          0.812,
          0.487,
          0.783,
          0.77,
          0.65,
          0.648,
          0.647,
          0.763,
          0.715,
          0.509,
          0.567,
          0.863,
          0.519,
          0.578,
          0.741,
          0.651,
          0.7,
          0.654,
          0.541,
          0.619,
          0.461,
          0.868,
          0.453,
          0.637,
          0.691,
          0.685,
          0.86,
          0.653,
          0.726,
          0.839,
          0.692,
          0.57,
          0.548,
          0.462,
          0.769,
          0.346,
          0.905,
          0.737,
          0.798,
          0.6,
          0.69,
          0.571,
          0.741,
          0.546,
          0.61,
          0.737,
          0.642,
          0.53,
          0.637,
          0.74,
          0.549,
          0.746,
          0.775,
          0.751,
          0.633,
          0.859,
          0.562,
          0.762,
          0.701,
          0.775,
          0.596,
          0.665,
          0.588,
          0.672,
          0.84,
          0.722,
          0.543,
          0.597,
          0.661,
          0.775,
          0.71,
          0.732,
          0.748,
          0.698,
          0.621,
          0.602,
          0.609,
          0.783,
          0.709,
          0.816,
          0.889,
          0.665,
          0.251,
          0.87,
          0.519,
          0.714,
          0.659,
          0.676,
          0.585,
          0.621,
          0.61,
          0.734,
          0.599,
          0.883,
          0.419,
          0.581,
          0.852,
          0.671,
          0.396,
          0.72,
          0.439,
          0.696,
          0.824,
          0.265,
          0.416,
          0.728,
          0.669,
          0.652,
          0.691,
          0.498,
          0.71,
          0.739,
          0.824,
          0.726,
          0.75,
          0.592,
          0.594,
          0.632,
          0.647,
          0.438,
          0.548,
          0.56,
          0.346,
          0.7,
          0.677,
          0.714,
          0.558,
          0.748,
          0.682,
          0.654,
          0.703,
          0.163,
          0.8,
          0.574,
          0.562,
          0.676,
          0.544,
          0.473,
          0.49,
          0.367,
          0.872,
          0.587,
          0.721,
          0.447,
          0.743,
          0.681,
          0.778,
          0.691,
          0.744,
          0.599,
          0.728,
          0.787,
          0.674,
          0.573,
          0.687,
          0.818,
          0.877,
          0.806,
          0.63,
          0.695,
          0.885,
          0.682,
          0.694,
          0.862,
          0.758,
          0.824,
          0.562,
          0.568,
          0.612,
          0.765,
          0.744,
          0.583,
          0.708,
          0.393,
          0.891,
          0.723,
          0.719,
          0.774,
          0.463,
          0.878,
          0.64,
          0.398,
          0.807,
          0.737,
          0.635,
          0.792,
          0.507,
          0.534,
          0.797,
          0.628,
          0.654,
          0.511,
          0.458,
          0.732,
          0.588,
          0.668,
          0.765,
          0.731,
          0.606,
          0.538,
          0.763,
          0.658,
          0.561,
          0.592,
          0.757,
          0.44,
          0.725,
          0.75,
          0.648,
          0.774,
          0.564,
          0.806,
          0.592,
          0.445,
          0.497,
          0.823,
          0.666,
          0.302,
          0.636,
          0.658,
          0.813,
          0.72,
          0.586,
          0.757,
          0.596,
          0.485,
          0.489,
          0.726,
          0.548,
          0.773,
          0.742,
          0.808,
          0.613,
          0.719,
          0.684,
          0.779,
          0.783,
          0.659,
          0.745,
          0.156,
          0.624,
          0.694,
          0.542,
          0.55,
          0.74,
          0.514,
          0.682,
          0.699,
          0.647,
          0.573,
          0.739,
          0.562,
          0.783,
          0.688,
          0.492,
          0.672,
          0.806,
          0.495,
          0.574,
          0.612,
          0.876,
          0.782,
          0.759,
          0.854,
          0.681,
          0.772,
          0.827,
          0.631,
          0.0635,
          0.679,
          0.766,
          0.764,
          0.704,
          0.753,
          0.65,
          0.692,
          0.279,
          0.766,
          0.57,
          0.731,
          0.849,
          0.661,
          0.72,
          0.748,
          0.637,
          0.607,
          0.848,
          0.799,
          0.593,
          0.707,
          0.684,
          0.674,
          0.661,
          0.567,
          0.73,
          0.801,
          0.528,
          0.653,
          0.552,
          0.516,
          0.662,
          0.91,
          0.705,
          0.791,
          0.449,
          0.788,
          0.817,
          0.692,
          0.748,
          0.608,
          0.704,
          0.593,
          0.752,
          0.818,
          0.893,
          0.624,
          0.663,
          0.674,
          0.649,
          0.864,
          0.801,
          0.743,
          0.726,
          0.893,
          0.548,
          0.856,
          0.576,
          0.713,
          0.761,
          0.686,
          0.325,
          0.726,
          0.676,
          0.504,
          0.262,
          0.615,
          0.686,
          0.448,
          0.633,
          0.796,
          0.597,
          0.741,
          0.826,
          0.854,
          0.654,
          0.765,
          0.766,
          0.775,
          0.596,
          0.586,
          0.756,
          0.393,
          0.874,
          0.695,
          0.573,
          0.866,
          0.724,
          0.637,
          0.258,
          0.613,
          0.706,
          0.334,
          0.699,
          0.708,
          0.655,
          0.8,
          0.54,
          0.69,
          0.697,
          0.562,
          0.67,
          0.466,
          0.605,
          0.699,
          0.783,
          0.706,
          0.822,
          0.661,
          0.791,
          0.683,
          0.588,
          0.532,
          0.579,
          0.262,
          0.377,
          0.759,
          0.74,
          0.694,
          0.72,
          0.397,
          0.737,
          0.59,
          0.739,
          0.785,
          0.495,
          0.825,
          0.587,
          0.745,
          0.694,
          0.495,
          0.649,
          0.732,
          0.332,
          0.386,
          0.75,
          0.771,
          0.448,
          0.752,
          0.648,
          0.599,
          0.731,
          0.61,
          0.359,
          0.649,
          0.488,
          0.858,
          0.811,
          0.672,
          0.757,
          0.728,
          0.774,
          0.77,
          0.638,
          0.645,
          0.652,
          0.846,
          0.736,
          0.719,
          0.636,
          0.9,
          0.799,
          0.739,
          0.685,
          0.728,
          0.742,
          0.588,
          0.715,
          0.646,
          0.703,
          0.584,
          0.678,
          0.726,
          0.875,
          0.652,
          0.586,
          0.759,
          0.594
         ],
         "yaxis": "y2"
        }
       ],
       "layout": {
        "annotations": [
         {
          "font": {},
          "showarrow": false,
          "text": "explicit=False",
          "textangle": 90,
          "x": 0.98,
          "xanchor": "left",
          "xref": "paper",
          "y": 0.2425,
          "yanchor": "middle",
          "yref": "paper"
         },
         {
          "font": {},
          "showarrow": false,
          "text": "explicit=True",
          "textangle": 90,
          "x": 0.98,
          "xanchor": "left",
          "xref": "paper",
          "y": 0.7575000000000001,
          "yanchor": "middle",
          "yref": "paper"
         }
        ],
        "coloraxis": {
         "colorbar": {
          "title": {
           "text": "year"
          }
         },
         "colorscale": [
          [
           0,
           "#0d0887"
          ],
          [
           0.1111111111111111,
           "#46039f"
          ],
          [
           0.2222222222222222,
           "#7201a8"
          ],
          [
           0.3333333333333333,
           "#9c179e"
          ],
          [
           0.4444444444444444,
           "#bd3786"
          ],
          [
           0.5555555555555556,
           "#d8576b"
          ],
          [
           0.6666666666666666,
           "#ed7953"
          ],
          [
           0.7777777777777778,
           "#fb9f3a"
          ],
          [
           0.8888888888888888,
           "#fdca26"
          ],
          [
           1,
           "#f0f921"
          ]
         ]
        },
        "legend": {
         "tracegroupgap": 0
        },
        "margin": {
         "t": 60
        },
        "template": {
         "data": {
          "bar": [
           {
            "error_x": {
             "color": "#2a3f5f"
            },
            "error_y": {
             "color": "#2a3f5f"
            },
            "marker": {
             "line": {
              "color": "#E5ECF6",
              "width": 0.5
             },
             "pattern": {
              "fillmode": "overlay",
              "size": 10,
              "solidity": 0.2
             }
            },
            "type": "bar"
           }
          ],
          "barpolar": [
           {
            "marker": {
             "line": {
              "color": "#E5ECF6",
              "width": 0.5
             },
             "pattern": {
              "fillmode": "overlay",
              "size": 10,
              "solidity": 0.2
             }
            },
            "type": "barpolar"
           }
          ],
          "carpet": [
           {
            "aaxis": {
             "endlinecolor": "#2a3f5f",
             "gridcolor": "white",
             "linecolor": "white",
             "minorgridcolor": "white",
             "startlinecolor": "#2a3f5f"
            },
            "baxis": {
             "endlinecolor": "#2a3f5f",
             "gridcolor": "white",
             "linecolor": "white",
             "minorgridcolor": "white",
             "startlinecolor": "#2a3f5f"
            },
            "type": "carpet"
           }
          ],
          "choropleth": [
           {
            "colorbar": {
             "outlinewidth": 0,
             "ticks": ""
            },
            "type": "choropleth"
           }
          ],
          "contour": [
           {
            "colorbar": {
             "outlinewidth": 0,
             "ticks": ""
            },
            "colorscale": [
             [
              0,
              "#0d0887"
             ],
             [
              0.1111111111111111,
              "#46039f"
             ],
             [
              0.2222222222222222,
              "#7201a8"
             ],
             [
              0.3333333333333333,
              "#9c179e"
             ],
             [
              0.4444444444444444,
              "#bd3786"
             ],
             [
              0.5555555555555556,
              "#d8576b"
             ],
             [
              0.6666666666666666,
              "#ed7953"
             ],
             [
              0.7777777777777778,
              "#fb9f3a"
             ],
             [
              0.8888888888888888,
              "#fdca26"
             ],
             [
              1,
              "#f0f921"
             ]
            ],
            "type": "contour"
           }
          ],
          "contourcarpet": [
           {
            "colorbar": {
             "outlinewidth": 0,
             "ticks": ""
            },
            "type": "contourcarpet"
           }
          ],
          "heatmap": [
           {
            "colorbar": {
             "outlinewidth": 0,
             "ticks": ""
            },
            "colorscale": [
             [
              0,
              "#0d0887"
             ],
             [
              0.1111111111111111,
              "#46039f"
             ],
             [
              0.2222222222222222,
              "#7201a8"
             ],
             [
              0.3333333333333333,
              "#9c179e"
             ],
             [
              0.4444444444444444,
              "#bd3786"
             ],
             [
              0.5555555555555556,
              "#d8576b"
             ],
             [
              0.6666666666666666,
              "#ed7953"
             ],
             [
              0.7777777777777778,
              "#fb9f3a"
             ],
             [
              0.8888888888888888,
              "#fdca26"
             ],
             [
              1,
              "#f0f921"
             ]
            ],
            "type": "heatmap"
           }
          ],
          "heatmapgl": [
           {
            "colorbar": {
             "outlinewidth": 0,
             "ticks": ""
            },
            "colorscale": [
             [
              0,
              "#0d0887"
             ],
             [
              0.1111111111111111,
              "#46039f"
             ],
             [
              0.2222222222222222,
              "#7201a8"
             ],
             [
              0.3333333333333333,
              "#9c179e"
             ],
             [
              0.4444444444444444,
              "#bd3786"
             ],
             [
              0.5555555555555556,
              "#d8576b"
             ],
             [
              0.6666666666666666,
              "#ed7953"
             ],
             [
              0.7777777777777778,
              "#fb9f3a"
             ],
             [
              0.8888888888888888,
              "#fdca26"
             ],
             [
              1,
              "#f0f921"
             ]
            ],
            "type": "heatmapgl"
           }
          ],
          "histogram": [
           {
            "marker": {
             "pattern": {
              "fillmode": "overlay",
              "size": 10,
              "solidity": 0.2
             }
            },
            "type": "histogram"
           }
          ],
          "histogram2d": [
           {
            "colorbar": {
             "outlinewidth": 0,
             "ticks": ""
            },
            "colorscale": [
             [
              0,
              "#0d0887"
             ],
             [
              0.1111111111111111,
              "#46039f"
             ],
             [
              0.2222222222222222,
              "#7201a8"
             ],
             [
              0.3333333333333333,
              "#9c179e"
             ],
             [
              0.4444444444444444,
              "#bd3786"
             ],
             [
              0.5555555555555556,
              "#d8576b"
             ],
             [
              0.6666666666666666,
              "#ed7953"
             ],
             [
              0.7777777777777778,
              "#fb9f3a"
             ],
             [
              0.8888888888888888,
              "#fdca26"
             ],
             [
              1,
              "#f0f921"
             ]
            ],
            "type": "histogram2d"
           }
          ],
          "histogram2dcontour": [
           {
            "colorbar": {
             "outlinewidth": 0,
             "ticks": ""
            },
            "colorscale": [
             [
              0,
              "#0d0887"
             ],
             [
              0.1111111111111111,
              "#46039f"
             ],
             [
              0.2222222222222222,
              "#7201a8"
             ],
             [
              0.3333333333333333,
              "#9c179e"
             ],
             [
              0.4444444444444444,
              "#bd3786"
             ],
             [
              0.5555555555555556,
              "#d8576b"
             ],
             [
              0.6666666666666666,
              "#ed7953"
             ],
             [
              0.7777777777777778,
              "#fb9f3a"
             ],
             [
              0.8888888888888888,
              "#fdca26"
             ],
             [
              1,
              "#f0f921"
             ]
            ],
            "type": "histogram2dcontour"
           }
          ],
          "mesh3d": [
           {
            "colorbar": {
             "outlinewidth": 0,
             "ticks": ""
            },
            "type": "mesh3d"
           }
          ],
          "parcoords": [
           {
            "line": {
             "colorbar": {
              "outlinewidth": 0,
              "ticks": ""
             }
            },
            "type": "parcoords"
           }
          ],
          "pie": [
           {
            "automargin": true,
            "type": "pie"
           }
          ],
          "scatter": [
           {
            "marker": {
             "colorbar": {
              "outlinewidth": 0,
              "ticks": ""
             }
            },
            "type": "scatter"
           }
          ],
          "scatter3d": [
           {
            "line": {
             "colorbar": {
              "outlinewidth": 0,
              "ticks": ""
             }
            },
            "marker": {
             "colorbar": {
              "outlinewidth": 0,
              "ticks": ""
             }
            },
            "type": "scatter3d"
           }
          ],
          "scattercarpet": [
           {
            "marker": {
             "colorbar": {
              "outlinewidth": 0,
              "ticks": ""
             }
            },
            "type": "scattercarpet"
           }
          ],
          "scattergeo": [
           {
            "marker": {
             "colorbar": {
              "outlinewidth": 0,
              "ticks": ""
             }
            },
            "type": "scattergeo"
           }
          ],
          "scattergl": [
           {
            "marker": {
             "colorbar": {
              "outlinewidth": 0,
              "ticks": ""
             }
            },
            "type": "scattergl"
           }
          ],
          "scattermapbox": [
           {
            "marker": {
             "colorbar": {
              "outlinewidth": 0,
              "ticks": ""
             }
            },
            "type": "scattermapbox"
           }
          ],
          "scatterpolar": [
           {
            "marker": {
             "colorbar": {
              "outlinewidth": 0,
              "ticks": ""
             }
            },
            "type": "scatterpolar"
           }
          ],
          "scatterpolargl": [
           {
            "marker": {
             "colorbar": {
              "outlinewidth": 0,
              "ticks": ""
             }
            },
            "type": "scatterpolargl"
           }
          ],
          "scatterternary": [
           {
            "marker": {
             "colorbar": {
              "outlinewidth": 0,
              "ticks": ""
             }
            },
            "type": "scatterternary"
           }
          ],
          "surface": [
           {
            "colorbar": {
             "outlinewidth": 0,
             "ticks": ""
            },
            "colorscale": [
             [
              0,
              "#0d0887"
             ],
             [
              0.1111111111111111,
              "#46039f"
             ],
             [
              0.2222222222222222,
              "#7201a8"
             ],
             [
              0.3333333333333333,
              "#9c179e"
             ],
             [
              0.4444444444444444,
              "#bd3786"
             ],
             [
              0.5555555555555556,
              "#d8576b"
             ],
             [
              0.6666666666666666,
              "#ed7953"
             ],
             [
              0.7777777777777778,
              "#fb9f3a"
             ],
             [
              0.8888888888888888,
              "#fdca26"
             ],
             [
              1,
              "#f0f921"
             ]
            ],
            "type": "surface"
           }
          ],
          "table": [
           {
            "cells": {
             "fill": {
              "color": "#EBF0F8"
             },
             "line": {
              "color": "white"
             }
            },
            "header": {
             "fill": {
              "color": "#C8D4E3"
             },
             "line": {
              "color": "white"
             }
            },
            "type": "table"
           }
          ]
         },
         "layout": {
          "annotationdefaults": {
           "arrowcolor": "#2a3f5f",
           "arrowhead": 0,
           "arrowwidth": 1
          },
          "autotypenumbers": "strict",
          "coloraxis": {
           "colorbar": {
            "outlinewidth": 0,
            "ticks": ""
           }
          },
          "colorscale": {
           "diverging": [
            [
             0,
             "#8e0152"
            ],
            [
             0.1,
             "#c51b7d"
            ],
            [
             0.2,
             "#de77ae"
            ],
            [
             0.3,
             "#f1b6da"
            ],
            [
             0.4,
             "#fde0ef"
            ],
            [
             0.5,
             "#f7f7f7"
            ],
            [
             0.6,
             "#e6f5d0"
            ],
            [
             0.7,
             "#b8e186"
            ],
            [
             0.8,
             "#7fbc41"
            ],
            [
             0.9,
             "#4d9221"
            ],
            [
             1,
             "#276419"
            ]
           ],
           "sequential": [
            [
             0,
             "#0d0887"
            ],
            [
             0.1111111111111111,
             "#46039f"
            ],
            [
             0.2222222222222222,
             "#7201a8"
            ],
            [
             0.3333333333333333,
             "#9c179e"
            ],
            [
             0.4444444444444444,
             "#bd3786"
            ],
            [
             0.5555555555555556,
             "#d8576b"
            ],
            [
             0.6666666666666666,
             "#ed7953"
            ],
            [
             0.7777777777777778,
             "#fb9f3a"
            ],
            [
             0.8888888888888888,
             "#fdca26"
            ],
            [
             1,
             "#f0f921"
            ]
           ],
           "sequentialminus": [
            [
             0,
             "#0d0887"
            ],
            [
             0.1111111111111111,
             "#46039f"
            ],
            [
             0.2222222222222222,
             "#7201a8"
            ],
            [
             0.3333333333333333,
             "#9c179e"
            ],
            [
             0.4444444444444444,
             "#bd3786"
            ],
            [
             0.5555555555555556,
             "#d8576b"
            ],
            [
             0.6666666666666666,
             "#ed7953"
            ],
            [
             0.7777777777777778,
             "#fb9f3a"
            ],
            [
             0.8888888888888888,
             "#fdca26"
            ],
            [
             1,
             "#f0f921"
            ]
           ]
          },
          "colorway": [
           "#636efa",
           "#EF553B",
           "#00cc96",
           "#ab63fa",
           "#FFA15A",
           "#19d3f3",
           "#FF6692",
           "#B6E880",
           "#FF97FF",
           "#FECB52"
          ],
          "font": {
           "color": "#2a3f5f"
          },
          "geo": {
           "bgcolor": "white",
           "lakecolor": "white",
           "landcolor": "#E5ECF6",
           "showlakes": true,
           "showland": true,
           "subunitcolor": "white"
          },
          "hoverlabel": {
           "align": "left"
          },
          "hovermode": "closest",
          "mapbox": {
           "style": "light"
          },
          "paper_bgcolor": "white",
          "plot_bgcolor": "#E5ECF6",
          "polar": {
           "angularaxis": {
            "gridcolor": "white",
            "linecolor": "white",
            "ticks": ""
           },
           "bgcolor": "#E5ECF6",
           "radialaxis": {
            "gridcolor": "white",
            "linecolor": "white",
            "ticks": ""
           }
          },
          "scene": {
           "xaxis": {
            "backgroundcolor": "#E5ECF6",
            "gridcolor": "white",
            "gridwidth": 2,
            "linecolor": "white",
            "showbackground": true,
            "ticks": "",
            "zerolinecolor": "white"
           },
           "yaxis": {
            "backgroundcolor": "#E5ECF6",
            "gridcolor": "white",
            "gridwidth": 2,
            "linecolor": "white",
            "showbackground": true,
            "ticks": "",
            "zerolinecolor": "white"
           },
           "zaxis": {
            "backgroundcolor": "#E5ECF6",
            "gridcolor": "white",
            "gridwidth": 2,
            "linecolor": "white",
            "showbackground": true,
            "ticks": "",
            "zerolinecolor": "white"
           }
          },
          "shapedefaults": {
           "line": {
            "color": "#2a3f5f"
           }
          },
          "ternary": {
           "aaxis": {
            "gridcolor": "white",
            "linecolor": "white",
            "ticks": ""
           },
           "baxis": {
            "gridcolor": "white",
            "linecolor": "white",
            "ticks": ""
           },
           "bgcolor": "#E5ECF6",
           "caxis": {
            "gridcolor": "white",
            "linecolor": "white",
            "ticks": ""
           }
          },
          "title": {
           "x": 0.05
          },
          "xaxis": {
           "automargin": true,
           "gridcolor": "white",
           "linecolor": "white",
           "ticks": "",
           "title": {
            "standoff": 15
           },
           "zerolinecolor": "white",
           "zerolinewidth": 2
          },
          "yaxis": {
           "automargin": true,
           "gridcolor": "white",
           "linecolor": "white",
           "ticks": "",
           "title": {
            "standoff": 15
           },
           "zerolinecolor": "white",
           "zerolinewidth": 2
          }
         }
        },
        "title": {
         "text": "Correlation between speechiness and danceability attributes"
        },
        "xaxis": {
         "anchor": "y",
         "domain": [
          0,
          0.7215
         ],
         "title": {
          "text": "speechiness"
         }
        },
        "xaxis2": {
         "anchor": "y2",
         "domain": [
          0.7265,
          0.98
         ],
         "matches": "x2",
         "showgrid": false,
         "showline": false,
         "showticklabels": false,
         "ticks": ""
        },
        "xaxis3": {
         "anchor": "y3",
         "domain": [
          0,
          0.7215
         ],
         "matches": "x",
         "showticklabels": false
        },
        "xaxis4": {
         "anchor": "y4",
         "domain": [
          0.7265,
          0.98
         ],
         "matches": "x2",
         "showgrid": false,
         "showline": false,
         "showticklabels": false,
         "ticks": ""
        },
        "yaxis": {
         "anchor": "x",
         "domain": [
          0,
          0.485
         ],
         "title": {
          "text": "danceability"
         }
        },
        "yaxis2": {
         "anchor": "x2",
         "domain": [
          0,
          0.485
         ],
         "matches": "y",
         "showgrid": true,
         "showticklabels": false
        },
        "yaxis3": {
         "anchor": "x3",
         "domain": [
          0.515,
          1
         ],
         "matches": "y",
         "title": {
          "text": "danceability"
         }
        },
        "yaxis4": {
         "anchor": "x4",
         "domain": [
          0.515,
          1
         ],
         "matches": "y",
         "showgrid": true,
         "showticklabels": false
        }
       }
      }
     },
     "metadata": {},
     "output_type": "display_data"
    }
   ],
   "source": [
    "get_correlation_song_attribute('speechiness', 'danceability')"
   ]
  },
  {
   "cell_type": "code",
   "execution_count": null,
   "metadata": {},
   "outputs": [],
   "source": []
  }
 ],
 "metadata": {
  "interpreter": {
   "hash": "7280db5d318d4ff8b5ffeb67a67e86bd7caf65749b20058abd0ba185de8428cc"
  },
  "kernelspec": {
   "display_name": "Python 3.8.6 64-bit ('.env': venv)",
   "language": "python",
   "name": "python3"
  },
  "language_info": {
   "codemirror_mode": {
    "name": "ipython",
    "version": 3
   },
   "file_extension": ".py",
   "mimetype": "text/x-python",
   "name": "python",
   "nbconvert_exporter": "python",
   "pygments_lexer": "ipython3",
   "version": "3.8.6"
  },
  "orig_nbformat": 4
 },
 "nbformat": 4,
 "nbformat_minor": 2
}
